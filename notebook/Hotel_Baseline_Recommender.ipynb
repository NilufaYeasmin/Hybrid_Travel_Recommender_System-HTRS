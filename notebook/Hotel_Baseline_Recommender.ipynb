{
 "cells": [
  {
   "cell_type": "markdown",
   "id": "lonely-cartridge",
   "metadata": {},
   "source": [
    "# Expedia Hotel Recommender System- Collaborative Filtering"
   ]
  },
  {
   "cell_type": "markdown",
   "id": "weekly-stylus",
   "metadata": {},
   "source": [
    "## Importing all libraries"
   ]
  },
  {
   "cell_type": "code",
   "execution_count": 1,
   "id": "tribal-scene",
   "metadata": {},
   "outputs": [],
   "source": [
    "import numpy as np\n",
    "import pandas as pd\n",
    "import matplotlib.pyplot as plt\n",
    "import seaborn as sns\n",
    "import implicit\n",
    "from sklearn.metrics.pairwise import pairwise_distances \n",
    "from surprise import SVD\n",
    "from surprise import Reader, Dataset\n",
    "from surprise.model_selection import train_test_split\n",
    "from sklearn.model_selection import train_test_split\n",
    "from sklearn.metrics import mean_squared_error\n",
    "from sklearn.metrics import mean_absolute_error\n",
    "from pyspark.sql import SparkSession\n",
    "from pyspark.ml.evaluation import RegressionEvaluator\n",
    "from pyspark.ml.recommendation import ALS\n",
    "from math import sqrt\n",
    "import warnings\n",
    "import sys\n",
    "%matplotlib inline"
   ]
  },
  {
   "cell_type": "markdown",
   "id": "permanent-implementation",
   "metadata": {},
   "source": [
    "## Reading and Storing Data"
   ]
  },
  {
   "cell_type": "code",
   "execution_count": 2,
   "id": "sensitive-uniform",
   "metadata": {},
   "outputs": [
    {
     "data": {
      "text/plain": [
       "(150000, 24)"
      ]
     },
     "execution_count": 2,
     "metadata": {},
     "output_type": "execute_result"
    }
   ],
   "source": [
    "hotel_train_data = pd.read_csv(\"..\\\\data\\\\train.csv\", sep=',', nrows=150000)\n",
    "hotel_train_data.shape"
   ]
  },
  {
   "cell_type": "code",
   "execution_count": 3,
   "id": "golden-being",
   "metadata": {},
   "outputs": [
    {
     "data": {
      "text/html": [
       "<div>\n",
       "<style scoped>\n",
       "    .dataframe tbody tr th:only-of-type {\n",
       "        vertical-align: middle;\n",
       "    }\n",
       "\n",
       "    .dataframe tbody tr th {\n",
       "        vertical-align: top;\n",
       "    }\n",
       "\n",
       "    .dataframe thead th {\n",
       "        text-align: right;\n",
       "    }\n",
       "</style>\n",
       "<table border=\"1\" class=\"dataframe\">\n",
       "  <thead>\n",
       "    <tr style=\"text-align: right;\">\n",
       "      <th></th>\n",
       "      <th>date_time</th>\n",
       "      <th>site_name</th>\n",
       "      <th>posa_continent</th>\n",
       "      <th>user_location_country</th>\n",
       "      <th>user_location_region</th>\n",
       "      <th>user_location_city</th>\n",
       "      <th>orig_destination_distance</th>\n",
       "      <th>user_id</th>\n",
       "      <th>is_mobile</th>\n",
       "      <th>is_package</th>\n",
       "      <th>...</th>\n",
       "      <th>srch_children_cnt</th>\n",
       "      <th>srch_rm_cnt</th>\n",
       "      <th>srch_destination_id</th>\n",
       "      <th>srch_destination_type_id</th>\n",
       "      <th>is_booking</th>\n",
       "      <th>cnt</th>\n",
       "      <th>hotel_continent</th>\n",
       "      <th>hotel_country</th>\n",
       "      <th>hotel_market</th>\n",
       "      <th>hotel_cluster</th>\n",
       "    </tr>\n",
       "  </thead>\n",
       "  <tbody>\n",
       "    <tr>\n",
       "      <th>0</th>\n",
       "      <td>2014-08-11 07:46:59</td>\n",
       "      <td>2</td>\n",
       "      <td>3</td>\n",
       "      <td>66</td>\n",
       "      <td>348</td>\n",
       "      <td>48862</td>\n",
       "      <td>2234.2641</td>\n",
       "      <td>12</td>\n",
       "      <td>0</td>\n",
       "      <td>1</td>\n",
       "      <td>...</td>\n",
       "      <td>0</td>\n",
       "      <td>1</td>\n",
       "      <td>8250</td>\n",
       "      <td>1</td>\n",
       "      <td>0</td>\n",
       "      <td>3</td>\n",
       "      <td>2</td>\n",
       "      <td>50</td>\n",
       "      <td>628</td>\n",
       "      <td>1</td>\n",
       "    </tr>\n",
       "    <tr>\n",
       "      <th>1</th>\n",
       "      <td>2014-08-11 08:22:12</td>\n",
       "      <td>2</td>\n",
       "      <td>3</td>\n",
       "      <td>66</td>\n",
       "      <td>348</td>\n",
       "      <td>48862</td>\n",
       "      <td>2234.2641</td>\n",
       "      <td>12</td>\n",
       "      <td>0</td>\n",
       "      <td>1</td>\n",
       "      <td>...</td>\n",
       "      <td>0</td>\n",
       "      <td>1</td>\n",
       "      <td>8250</td>\n",
       "      <td>1</td>\n",
       "      <td>1</td>\n",
       "      <td>1</td>\n",
       "      <td>2</td>\n",
       "      <td>50</td>\n",
       "      <td>628</td>\n",
       "      <td>1</td>\n",
       "    </tr>\n",
       "    <tr>\n",
       "      <th>2</th>\n",
       "      <td>2014-08-11 08:24:33</td>\n",
       "      <td>2</td>\n",
       "      <td>3</td>\n",
       "      <td>66</td>\n",
       "      <td>348</td>\n",
       "      <td>48862</td>\n",
       "      <td>2234.2641</td>\n",
       "      <td>12</td>\n",
       "      <td>0</td>\n",
       "      <td>0</td>\n",
       "      <td>...</td>\n",
       "      <td>0</td>\n",
       "      <td>1</td>\n",
       "      <td>8250</td>\n",
       "      <td>1</td>\n",
       "      <td>0</td>\n",
       "      <td>1</td>\n",
       "      <td>2</td>\n",
       "      <td>50</td>\n",
       "      <td>628</td>\n",
       "      <td>1</td>\n",
       "    </tr>\n",
       "    <tr>\n",
       "      <th>3</th>\n",
       "      <td>2014-08-09 18:05:16</td>\n",
       "      <td>2</td>\n",
       "      <td>3</td>\n",
       "      <td>66</td>\n",
       "      <td>442</td>\n",
       "      <td>35390</td>\n",
       "      <td>913.1932</td>\n",
       "      <td>93</td>\n",
       "      <td>0</td>\n",
       "      <td>0</td>\n",
       "      <td>...</td>\n",
       "      <td>0</td>\n",
       "      <td>1</td>\n",
       "      <td>14984</td>\n",
       "      <td>1</td>\n",
       "      <td>0</td>\n",
       "      <td>1</td>\n",
       "      <td>2</td>\n",
       "      <td>50</td>\n",
       "      <td>1457</td>\n",
       "      <td>80</td>\n",
       "    </tr>\n",
       "    <tr>\n",
       "      <th>4</th>\n",
       "      <td>2014-08-09 18:08:18</td>\n",
       "      <td>2</td>\n",
       "      <td>3</td>\n",
       "      <td>66</td>\n",
       "      <td>442</td>\n",
       "      <td>35390</td>\n",
       "      <td>913.6259</td>\n",
       "      <td>93</td>\n",
       "      <td>0</td>\n",
       "      <td>0</td>\n",
       "      <td>...</td>\n",
       "      <td>0</td>\n",
       "      <td>1</td>\n",
       "      <td>14984</td>\n",
       "      <td>1</td>\n",
       "      <td>0</td>\n",
       "      <td>1</td>\n",
       "      <td>2</td>\n",
       "      <td>50</td>\n",
       "      <td>1457</td>\n",
       "      <td>21</td>\n",
       "    </tr>\n",
       "  </tbody>\n",
       "</table>\n",
       "<p>5 rows × 24 columns</p>\n",
       "</div>"
      ],
      "text/plain": [
       "             date_time  site_name  posa_continent  user_location_country  \\\n",
       "0  2014-08-11 07:46:59          2               3                     66   \n",
       "1  2014-08-11 08:22:12          2               3                     66   \n",
       "2  2014-08-11 08:24:33          2               3                     66   \n",
       "3  2014-08-09 18:05:16          2               3                     66   \n",
       "4  2014-08-09 18:08:18          2               3                     66   \n",
       "\n",
       "   user_location_region  user_location_city  orig_destination_distance  \\\n",
       "0                   348               48862                  2234.2641   \n",
       "1                   348               48862                  2234.2641   \n",
       "2                   348               48862                  2234.2641   \n",
       "3                   442               35390                   913.1932   \n",
       "4                   442               35390                   913.6259   \n",
       "\n",
       "   user_id  is_mobile  is_package  ...  srch_children_cnt srch_rm_cnt  \\\n",
       "0       12          0           1  ...                  0           1   \n",
       "1       12          0           1  ...                  0           1   \n",
       "2       12          0           0  ...                  0           1   \n",
       "3       93          0           0  ...                  0           1   \n",
       "4       93          0           0  ...                  0           1   \n",
       "\n",
       "  srch_destination_id  srch_destination_type_id  is_booking  cnt  \\\n",
       "0                8250                         1           0    3   \n",
       "1                8250                         1           1    1   \n",
       "2                8250                         1           0    1   \n",
       "3               14984                         1           0    1   \n",
       "4               14984                         1           0    1   \n",
       "\n",
       "   hotel_continent  hotel_country  hotel_market  hotel_cluster  \n",
       "0                2             50           628              1  \n",
       "1                2             50           628              1  \n",
       "2                2             50           628              1  \n",
       "3                2             50          1457             80  \n",
       "4                2             50          1457             21  \n",
       "\n",
       "[5 rows x 24 columns]"
      ]
     },
     "execution_count": 3,
     "metadata": {},
     "output_type": "execute_result"
    }
   ],
   "source": [
    "hotel_train_data.head(5)"
   ]
  },
  {
   "cell_type": "markdown",
   "id": "eleven-questionnaire",
   "metadata": {},
   "source": [
    "## Data Pre-processing"
   ]
  },
  {
   "cell_type": "code",
   "execution_count": 4,
   "id": "golden-throat",
   "metadata": {},
   "outputs": [],
   "source": [
    "df = hotel_train_data[['user_id','hotel_cluster','is_booking']]"
   ]
  },
  {
   "cell_type": "code",
   "execution_count": 5,
   "id": "personal-genealogy",
   "metadata": {},
   "outputs": [
    {
     "data": {
      "text/html": [
       "<div>\n",
       "<style scoped>\n",
       "    .dataframe tbody tr th:only-of-type {\n",
       "        vertical-align: middle;\n",
       "    }\n",
       "\n",
       "    .dataframe tbody tr th {\n",
       "        vertical-align: top;\n",
       "    }\n",
       "\n",
       "    .dataframe thead th {\n",
       "        text-align: right;\n",
       "    }\n",
       "</style>\n",
       "<table border=\"1\" class=\"dataframe\">\n",
       "  <thead>\n",
       "    <tr style=\"text-align: right;\">\n",
       "      <th></th>\n",
       "      <th>User_Id</th>\n",
       "      <th>Item_Id</th>\n",
       "      <th>Rating</th>\n",
       "    </tr>\n",
       "  </thead>\n",
       "  <tbody>\n",
       "    <tr>\n",
       "      <th>0</th>\n",
       "      <td>12</td>\n",
       "      <td>1</td>\n",
       "      <td>0</td>\n",
       "    </tr>\n",
       "    <tr>\n",
       "      <th>1</th>\n",
       "      <td>12</td>\n",
       "      <td>1</td>\n",
       "      <td>1</td>\n",
       "    </tr>\n",
       "    <tr>\n",
       "      <th>2</th>\n",
       "      <td>12</td>\n",
       "      <td>1</td>\n",
       "      <td>0</td>\n",
       "    </tr>\n",
       "    <tr>\n",
       "      <th>3</th>\n",
       "      <td>93</td>\n",
       "      <td>80</td>\n",
       "      <td>0</td>\n",
       "    </tr>\n",
       "    <tr>\n",
       "      <th>4</th>\n",
       "      <td>93</td>\n",
       "      <td>21</td>\n",
       "      <td>0</td>\n",
       "    </tr>\n",
       "  </tbody>\n",
       "</table>\n",
       "</div>"
      ],
      "text/plain": [
       "   User_Id  Item_Id  Rating\n",
       "0       12        1       0\n",
       "1       12        1       1\n",
       "2       12        1       0\n",
       "3       93       80       0\n",
       "4       93       21       0"
      ]
     },
     "execution_count": 5,
     "metadata": {},
     "output_type": "execute_result"
    }
   ],
   "source": [
    "#I've renamed columns for my work\n",
    "df.columns =['User_Id', 'Item_Id', 'Rating']\n",
    "df.head()"
   ]
  },
  {
   "cell_type": "markdown",
   "id": "broken-plate",
   "metadata": {},
   "source": [
    "## Basic Statistics\n",
    "\n",
    "**We need work on Unique user and Unique item Id.For example user 12 and item 12 we have 3 values. "
   ]
  },
  {
   "cell_type": "code",
   "execution_count": 6,
   "id": "stable-equality",
   "metadata": {},
   "outputs": [],
   "source": [
    "Unique_rating = df.groupby(['User_Id', 'Item_Id']).Rating.transform(max)\n",
    "df = df.loc[df.Rating == Unique_rating]\n",
    "#df.shape\n",
    "df.drop_duplicates(keep='first',inplace=True) \n",
    "df= df.reset_index().drop('index',axis=1)"
   ]
  },
  {
   "cell_type": "code",
   "execution_count": 7,
   "id": "molecular-check",
   "metadata": {},
   "outputs": [
    {
     "name": "stdout",
     "output_type": "stream",
     "text": [
      "Total Data:\n",
      "Total number of Hotel ratings = 60951\n",
      "Number of unique users = 5142\n",
      "Number of unique movies = 100\n"
     ]
    }
   ],
   "source": [
    "print(\"Total Data:\")\n",
    "n_users = df.User_Id.unique().shape[0]\n",
    "n_items = df.Item_Id.unique().shape[0]\n",
    "print(\"Total number of Hotel ratings = \"+str(df.shape[0]))\n",
    "print(\"Number of unique users = \"+ str(n_users))\n",
    "print(\"Number of unique movies = \"+ str(n_items))"
   ]
  },
  {
   "cell_type": "markdown",
   "id": "velvet-diploma",
   "metadata": {},
   "source": [
    "## Distribution of Ratings in data"
   ]
  },
  {
   "cell_type": "code",
   "execution_count": 8,
   "id": "structural-sellers",
   "metadata": {},
   "outputs": [
    {
     "data": {
      "image/png": "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\n",
      "text/plain": [
       "<Figure size 864x576 with 1 Axes>"
      ]
     },
     "metadata": {
      "needs_background": "light"
     },
     "output_type": "display_data"
    }
   ],
   "source": [
    "plt.figure(figsize = (12, 8))\n",
    "ax = sns.countplot(x=\"Rating\", data=df)\n",
    "plt.tick_params(labelsize = 15)\n",
    "plt.title(\"Distribution of Ratings in data\", fontsize = 20)\n",
    "plt.xlabel(\"Ratings\", fontsize = 20)\n",
    "plt.ylabel(\"Number of Ratings\", fontsize = 20)\n",
    "plt.show()"
   ]
  },
  {
   "cell_type": "markdown",
   "id": "upper-taylor",
   "metadata": {},
   "source": [
    "## Analysis of Ratings given by User"
   ]
  },
  {
   "cell_type": "code",
   "execution_count": 9,
   "id": "unnecessary-leader",
   "metadata": {},
   "outputs": [],
   "source": [
    "no_of_rated_hotel_per_user = df.groupby(by = \"User_Id\")[\"Rating\"].count().sort_values(ascending = False)"
   ]
  },
  {
   "cell_type": "code",
   "execution_count": 10,
   "id": "ordered-reverse",
   "metadata": {},
   "outputs": [
    {
     "data": {
      "text/plain": [
       "User_Id\n",
       "70535     79\n",
       "395804    76\n",
       "72327     70\n",
       "559610    67\n",
       "163071    67\n",
       "Name: Rating, dtype: int64"
      ]
     },
     "execution_count": 10,
     "metadata": {},
     "output_type": "execute_result"
    }
   ],
   "source": [
    "no_of_rated_hotel_per_user.head()"
   ]
  },
  {
   "cell_type": "markdown",
   "id": "loved-tournament",
   "metadata": {},
   "source": [
    "## Analysis of Ratings Per Hotel"
   ]
  },
  {
   "cell_type": "code",
   "execution_count": 11,
   "id": "narrow-automation",
   "metadata": {},
   "outputs": [],
   "source": [
    "no_of_ratings_per_hotel = df.groupby(by = \"Item_Id\")[\"Rating\"].count().sort_values(ascending = False)"
   ]
  },
  {
   "cell_type": "code",
   "execution_count": 12,
   "id": "verbal-scotland",
   "metadata": {},
   "outputs": [
    {
     "data": {
      "text/plain": [
       "Item_Id\n",
       "91    1385\n",
       "48    1141\n",
       "41    1134\n",
       "5     1036\n",
       "59     950\n",
       "Name: Rating, dtype: int64"
      ]
     },
     "execution_count": 12,
     "metadata": {},
     "output_type": "execute_result"
    }
   ],
   "source": [
    "no_of_ratings_per_hotel.head()"
   ]
  },
  {
   "cell_type": "markdown",
   "id": "enclosed-monte",
   "metadata": {},
   "source": [
    "## Mapping values to the lowest consecutive values"
   ]
  },
  {
   "cell_type": "code",
   "execution_count": 13,
   "id": "large-speaking",
   "metadata": {},
   "outputs": [],
   "source": [
    "def id_to_index(df):\n",
    "    \"\"\"\n",
    "    maps the values to the lowest consecutive values\n",
    "    :param df: pandas Dataframe with columns user, item, rating\n",
    "    :return: pandas Dataframe with the extra columns index_item and index_user\n",
    "    \"\"\"\n",
    "\n",
    "    index_item = np.arange(0, len(df.Item_Id.unique()))\n",
    "    index_user = np.arange(0, len(df.User_Id.unique()))\n",
    "\n",
    "    df_item_index = pd.DataFrame(df.Item_Id.unique(), columns=[\"item\"])\n",
    "    df_item_index[\"new_index\"] = index_item\n",
    "    df_user_index = pd.DataFrame(df.User_Id.unique(), columns=[\"user\"])\n",
    "    df_user_index[\"new_index\"] = index_user\n",
    "\n",
    "    df[\"index_item\"] = df[\"Item_Id\"].map(df_item_index.set_index('item')[\"new_index\"]).fillna(0)\n",
    "    df[\"index_user\"] = df[\"User_Id\"].map(df_user_index.set_index('user')[\"new_index\"]).fillna(0)\n",
    "    return df"
   ]
  },
  {
   "cell_type": "code",
   "execution_count": 14,
   "id": "blank-proposition",
   "metadata": {},
   "outputs": [],
   "source": [
    "df = id_to_index(df)"
   ]
  },
  {
   "cell_type": "code",
   "execution_count": 15,
   "id": "lasting-manchester",
   "metadata": {},
   "outputs": [
    {
     "data": {
      "text/plain": [
       "((42665, 5), (18286, 5))"
      ]
     },
     "execution_count": 15,
     "metadata": {},
     "output_type": "execute_result"
    }
   ],
   "source": [
    "# split data to train and test\n",
    "train_data, test_data = train_test_split(df, test_size=0.3)\n",
    "train_data.shape, test_data.shape"
   ]
  },
  {
   "cell_type": "markdown",
   "id": "robust-window",
   "metadata": {},
   "source": [
    "# Memory-Based Collaborative Filtering\n",
    " \n",
    "Memory-Based Collaborative Filtering approaches can be divided into two main sections:\n",
    "   1. User-item filtering \n",
    "   2. Item-item filtering.\n",
    "\n",
    "A user-item filtering will take a particular user, find users that are similar to that user based on similarity of ratings, and recommend items that those similar users liked.\n",
    "\n",
    "In contrast, item-item filtering will take an item, find users who liked that item, and find other items that those users or similar users also liked. It takes items and outputs other items as recommendations.\n",
    "\n",
    " **Item-Item Collaborative Filtering: “Users who liked this item also liked …”\n",
    " \n",
    " **User-Item Collaborative Filtering: “Users who are similar to you also liked …”\n",
    " \n",
    " **In both cases, we create a user-item matrix which built from the entire dataset.\n",
    "\n",
    "Since we have split the data into testing and training we will need to create two matrices (all users by all items).\n",
    "\n",
    "After we have built the user-item matrix you calculate the similarity and create a similarity matrix.\n",
    "\n",
    "The similarity values between items in Item-Item Collaborative Filtering are measured by observing all the users who have rated both items.\n",
    "\n",
    "For User-Item Collaborative Filtering the similarity values between users are measured by observing all the items that are rated by both users.\n",
    "\n",
    "A distance metric commonly used in recommender systems is cosine similarity, where the ratings are seen as vectors in n-dimensional space and the similarity is calculated based on the angle between these vectors. \n",
    "\n",
    "Our first step will be to create the user-item matrix. Since we have both testing and training data we need to create two matrices."
   ]
  },
  {
   "cell_type": "code",
   "execution_count": 16,
   "id": "interested-parliament",
   "metadata": {},
   "outputs": [],
   "source": [
    "#Create two user-item matrices, one for training and another for testing\n",
    "train_matrix = np.zeros((n_users, n_items))\n",
    "# unpack the Pandas object\n",
    "for row in train_data.itertuples():\n",
    "    # adjust to count rows and cols from 0 and fill in the matrix\n",
    "    train_matrix[row[5], row[4]] = row[3]\n",
    "\n",
    "test_matrix = np.zeros((n_users, n_items))\n",
    "for row in test_data.itertuples():\n",
    "    test_matrix[row[5], row[4]] = row[3]"
   ]
  },
  {
   "cell_type": "markdown",
   "id": "defined-essex",
   "metadata": {},
   "source": [
    "# Data Analysis on the Rating Matrix"
   ]
  },
  {
   "cell_type": "markdown",
   "id": "institutional-hartford",
   "metadata": {},
   "source": [
    "## Finding Average rating per user, and Average rating per movie"
   ]
  },
  {
   "cell_type": "code",
   "execution_count": 17,
   "id": "beautiful-bumper",
   "metadata": {},
   "outputs": [],
   "source": [
    "def get_average_rating(train_data_matrix, is_user):\n",
    "    ax = 1 if is_user else 0\n",
    "    #axis = 1 means rows and axis = 0 means columns\n",
    "    sum_of_ratings = train_data_matrix.sum(axis = ax) #this will give an array of sum of all the ratings of user if axis = 1 else \n",
    "    #sum of all the ratings of movies if axis = 0\n",
    "    no_of_ratings = (train_data_matrix != 0).sum(axis = ax) #this will give a boolean True or False array, and True means 1 and False \n",
    "    #means 0, and further we are summing it to get the count of all the non-zero cells means length of non-zero cells\n",
    "    rows, cols = train_data_matrix.shape\n",
    "    average_ratings = {i: sum_of_ratings[i]/no_of_ratings[i] for i in range(rows if is_user else cols) if no_of_ratings[i] != 0}\n",
    "    return average_ratings"
   ]
  },
  {
   "cell_type": "code",
   "execution_count": 18,
   "id": "silent-entrance",
   "metadata": {},
   "outputs": [],
   "source": [
    "average_rating_user = get_average_rating(train_matrix, True)"
   ]
  },
  {
   "cell_type": "code",
   "execution_count": 19,
   "id": "unlike-institution",
   "metadata": {},
   "outputs": [
    {
     "name": "stdout",
     "output_type": "stream",
     "text": [
      "Average rating of user = {0: 1.0, 5: 1.0, 6: 1.0, 8: 1.0, 9: 1.0, 10: 1.0, 12: 1.0, 13: 1.0, 14: 1.0, 16: 1.0, 17: 1.0, 24: 1.0, 28: 1.0, 29: 1.0, 30: 1.0, 31: 1.0, 34: 1.0, 35: 1.0, 38: 1.0, 39: 1.0, 40: 1.0, 41: 1.0, 42: 1.0, 44: 1.0, 45: 1.0, 55: 1.0, 56: 1.0, 57: 1.0, 62: 1.0, 65: 1.0, 66: 1.0, 67: 1.0, 68: 1.0, 70: 1.0, 71: 1.0, 73: 1.0, 74: 1.0, 76: 1.0, 77: 1.0, 78: 1.0, 79: 1.0, 80: 1.0, 81: 1.0, 82: 1.0, 83: 1.0, 84: 1.0, 86: 1.0, 88: 1.0, 90: 1.0, 94: 1.0, 95: 1.0, 97: 1.0, 98: 1.0, 99: 1.0, 100: 1.0, 101: 1.0, 102: 1.0, 103: 1.0, 104: 1.0, 108: 1.0, 109: 1.0, 110: 1.0, 111: 1.0, 115: 1.0, 116: 1.0, 117: 1.0, 118: 1.0, 120: 1.0, 122: 1.0, 123: 1.0, 125: 1.0, 127: 1.0, 128: 1.0, 130: 1.0, 131: 1.0, 133: 1.0, 134: 1.0, 135: 1.0, 138: 1.0, 139: 1.0, 141: 1.0, 143: 1.0, 145: 1.0, 149: 1.0, 151: 1.0, 152: 1.0, 155: 1.0, 156: 1.0, 157: 1.0, 161: 1.0, 164: 1.0, 165: 1.0, 166: 1.0, 167: 1.0, 170: 1.0, 172: 1.0, 173: 1.0, 174: 1.0, 175: 1.0, 176: 1.0, 178: 1.0, 181: 1.0, 182: 1.0, 183: 1.0, 185: 1.0, 186: 1.0, 187: 1.0, 188: 1.0, 191: 1.0, 194: 1.0, 197: 1.0, 199: 1.0, 200: 1.0, 201: 1.0, 202: 1.0, 203: 1.0, 206: 1.0, 207: 1.0, 209: 1.0, 210: 1.0, 212: 1.0, 214: 1.0, 220: 1.0, 222: 1.0, 225: 1.0, 226: 1.0, 227: 1.0, 228: 1.0, 229: 1.0, 230: 1.0, 234: 1.0, 235: 1.0, 236: 1.0, 242: 1.0, 243: 1.0, 247: 1.0, 248: 1.0, 250: 1.0, 252: 1.0, 253: 1.0, 254: 1.0, 255: 1.0, 258: 1.0, 261: 1.0, 262: 1.0, 265: 1.0, 266: 1.0, 267: 1.0, 268: 1.0, 270: 1.0, 271: 1.0, 272: 1.0, 274: 1.0, 275: 1.0, 278: 1.0, 281: 1.0, 282: 1.0, 283: 1.0, 284: 1.0, 287: 1.0, 288: 1.0, 289: 1.0, 290: 1.0, 292: 1.0, 293: 1.0, 294: 1.0, 295: 1.0, 296: 1.0, 297: 1.0, 300: 1.0, 301: 1.0, 302: 1.0, 303: 1.0, 304: 1.0, 306: 1.0, 307: 1.0, 308: 1.0, 309: 1.0, 312: 1.0, 313: 1.0, 315: 1.0, 316: 1.0, 317: 1.0, 319: 1.0, 321: 1.0, 322: 1.0, 324: 1.0, 325: 1.0, 326: 1.0, 330: 1.0, 331: 1.0, 333: 1.0, 334: 1.0, 337: 1.0, 338: 1.0, 340: 1.0, 341: 1.0, 342: 1.0, 343: 1.0, 346: 1.0, 348: 1.0, 349: 1.0, 351: 1.0, 352: 1.0, 353: 1.0, 357: 1.0, 358: 1.0, 359: 1.0, 362: 1.0, 363: 1.0, 367: 1.0, 368: 1.0, 369: 1.0, 372: 1.0, 373: 1.0, 374: 1.0, 376: 1.0, 377: 1.0, 380: 1.0, 381: 1.0, 382: 1.0, 383: 1.0, 384: 1.0, 389: 1.0, 390: 1.0, 393: 1.0, 399: 1.0, 400: 1.0, 401: 1.0, 402: 1.0, 404: 1.0, 407: 1.0, 408: 1.0, 409: 1.0, 411: 1.0, 413: 1.0, 415: 1.0, 418: 1.0, 419: 1.0, 421: 1.0, 422: 1.0, 424: 1.0, 425: 1.0, 426: 1.0, 428: 1.0, 429: 1.0, 430: 1.0, 431: 1.0, 434: 1.0, 435: 1.0, 436: 1.0, 438: 1.0, 440: 1.0, 442: 1.0, 443: 1.0, 444: 1.0, 445: 1.0, 447: 1.0, 448: 1.0, 450: 1.0, 451: 1.0, 454: 1.0, 455: 1.0, 456: 1.0, 457: 1.0, 459: 1.0, 461: 1.0, 462: 1.0, 464: 1.0, 465: 1.0, 467: 1.0, 468: 1.0, 470: 1.0, 473: 1.0, 474: 1.0, 475: 1.0, 476: 1.0, 478: 1.0, 479: 1.0, 480: 1.0, 482: 1.0, 483: 1.0, 486: 1.0, 488: 1.0, 489: 1.0, 490: 1.0, 494: 1.0, 495: 1.0, 497: 1.0, 498: 1.0, 499: 1.0, 501: 1.0, 504: 1.0, 507: 1.0, 508: 1.0, 509: 1.0, 510: 1.0, 512: 1.0, 513: 1.0, 514: 1.0, 515: 1.0, 516: 1.0, 519: 1.0, 522: 1.0, 523: 1.0, 524: 1.0, 526: 1.0, 527: 1.0, 528: 1.0, 531: 1.0, 532: 1.0, 533: 1.0, 534: 1.0, 536: 1.0, 539: 1.0, 542: 1.0, 544: 1.0, 546: 1.0, 550: 1.0, 551: 1.0, 552: 1.0, 555: 1.0, 556: 1.0, 557: 1.0, 560: 1.0, 561: 1.0, 562: 1.0, 564: 1.0, 565: 1.0, 566: 1.0, 567: 1.0, 568: 1.0, 569: 1.0, 570: 1.0, 572: 1.0, 573: 1.0, 577: 1.0, 579: 1.0, 581: 1.0, 583: 1.0, 584: 1.0, 587: 1.0, 588: 1.0, 589: 1.0, 591: 1.0, 592: 1.0, 593: 1.0, 594: 1.0, 597: 1.0, 598: 1.0, 599: 1.0, 600: 1.0, 602: 1.0, 603: 1.0, 605: 1.0, 606: 1.0, 607: 1.0, 609: 1.0, 610: 1.0, 613: 1.0, 614: 1.0, 615: 1.0, 616: 1.0, 618: 1.0, 619: 1.0, 620: 1.0, 622: 1.0, 629: 1.0, 632: 1.0, 633: 1.0, 634: 1.0, 635: 1.0, 636: 1.0, 637: 1.0, 638: 1.0, 639: 1.0, 641: 1.0, 642: 1.0, 644: 1.0, 645: 1.0, 646: 1.0, 648: 1.0, 653: 1.0, 658: 1.0, 661: 1.0, 663: 1.0, 664: 1.0, 665: 1.0, 666: 1.0, 667: 1.0, 668: 1.0, 675: 1.0, 677: 1.0, 679: 1.0, 682: 1.0, 683: 1.0, 684: 1.0, 687: 1.0, 689: 1.0, 690: 1.0, 693: 1.0, 694: 1.0, 696: 1.0, 697: 1.0, 698: 1.0, 699: 1.0, 700: 1.0, 701: 1.0, 703: 1.0, 705: 1.0, 707: 1.0, 708: 1.0, 709: 1.0, 710: 1.0, 712: 1.0, 713: 1.0, 715: 1.0, 718: 1.0, 720: 1.0, 724: 1.0, 725: 1.0, 727: 1.0, 730: 1.0, 734: 1.0, 735: 1.0, 736: 1.0, 737: 1.0, 738: 1.0, 740: 1.0, 741: 1.0, 742: 1.0, 743: 1.0, 746: 1.0, 747: 1.0, 750: 1.0, 751: 1.0, 753: 1.0, 756: 1.0, 757: 1.0, 758: 1.0, 759: 1.0, 760: 1.0, 761: 1.0, 762: 1.0, 763: 1.0, 767: 1.0, 770: 1.0, 771: 1.0, 772: 1.0, 773: 1.0, 774: 1.0, 777: 1.0, 778: 1.0, 779: 1.0, 781: 1.0, 784: 1.0, 785: 1.0, 787: 1.0, 789: 1.0, 790: 1.0, 791: 1.0, 792: 1.0, 794: 1.0, 795: 1.0, 796: 1.0, 798: 1.0, 799: 1.0, 800: 1.0, 808: 1.0, 810: 1.0, 812: 1.0, 813: 1.0, 814: 1.0, 815: 1.0, 817: 1.0, 818: 1.0, 820: 1.0, 823: 1.0, 824: 1.0, 825: 1.0, 827: 1.0, 830: 1.0, 831: 1.0, 832: 1.0, 833: 1.0, 836: 1.0, 837: 1.0, 838: 1.0, 840: 1.0, 842: 1.0, 843: 1.0, 844: 1.0, 845: 1.0, 847: 1.0, 851: 1.0, 852: 1.0, 857: 1.0, 859: 1.0, 860: 1.0, 861: 1.0, 864: 1.0, 866: 1.0, 869: 1.0, 870: 1.0, 871: 1.0, 874: 1.0, 876: 1.0, 878: 1.0, 880: 1.0, 883: 1.0, 884: 1.0, 885: 1.0, 886: 1.0, 887: 1.0, 888: 1.0, 890: 1.0, 891: 1.0, 895: 1.0, 899: 1.0, 900: 1.0, 901: 1.0, 904: 1.0, 905: 1.0, 907: 1.0, 910: 1.0, 911: 1.0, 913: 1.0, 915: 1.0, 917: 1.0, 919: 1.0, 921: 1.0, 923: 1.0, 924: 1.0, 926: 1.0, 930: 1.0, 932: 1.0, 933: 1.0, 934: 1.0, 936: 1.0, 938: 1.0, 939: 1.0, 940: 1.0, 941: 1.0, 942: 1.0, 946: 1.0, 947: 1.0, 948: 1.0, 949: 1.0, 951: 1.0, 952: 1.0, 954: 1.0, 956: 1.0, 957: 1.0, 961: 1.0, 963: 1.0, 965: 1.0, 967: 1.0, 968: 1.0, 970: 1.0, 971: 1.0, 972: 1.0, 973: 1.0, 975: 1.0, 976: 1.0, 978: 1.0, 981: 1.0, 982: 1.0, 984: 1.0, 985: 1.0, 986: 1.0, 987: 1.0, 989: 1.0, 991: 1.0, 993: 1.0, 994: 1.0, 995: 1.0, 996: 1.0, 997: 1.0, 998: 1.0, 999: 1.0, 1008: 1.0, 1010: 1.0, 1013: 1.0, 1014: 1.0, 1016: 1.0, 1017: 1.0, 1020: 1.0, 1022: 1.0, 1027: 1.0, 1029: 1.0, 1030: 1.0, 1031: 1.0, 1033: 1.0, 1040: 1.0, 1042: 1.0, 1046: 1.0, 1048: 1.0, 1049: 1.0, 1051: 1.0, 1052: 1.0, 1054: 1.0, 1056: 1.0, 1058: 1.0, 1059: 1.0, 1060: 1.0, 1061: 1.0, 1063: 1.0, 1066: 1.0, 1067: 1.0, 1069: 1.0, 1070: 1.0, 1071: 1.0, 1072: 1.0, 1073: 1.0, 1076: 1.0, 1078: 1.0, 1079: 1.0, 1080: 1.0, 1082: 1.0, 1084: 1.0, 1085: 1.0, 1086: 1.0, 1088: 1.0, 1089: 1.0, 1093: 1.0, 1094: 1.0, 1096: 1.0, 1097: 1.0, 1098: 1.0, 1099: 1.0, 1100: 1.0, 1103: 1.0, 1105: 1.0, 1106: 1.0, 1108: 1.0, 1110: 1.0, 1112: 1.0, 1113: 1.0, 1116: 1.0, 1117: 1.0, 1121: 1.0, 1124: 1.0, 1125: 1.0, 1129: 1.0, 1130: 1.0, 1131: 1.0, 1134: 1.0, 1137: 1.0, 1138: 1.0, 1140: 1.0, 1142: 1.0, 1143: 1.0, 1145: 1.0, 1147: 1.0, 1149: 1.0, 1151: 1.0, 1152: 1.0, 1153: 1.0, 1154: 1.0, 1157: 1.0, 1158: 1.0, 1159: 1.0, 1161: 1.0, 1163: 1.0, 1164: 1.0, 1166: 1.0, 1171: 1.0, 1172: 1.0, 1173: 1.0, 1176: 1.0, 1178: 1.0, 1180: 1.0, 1181: 1.0, 1184: 1.0, 1185: 1.0, 1186: 1.0, 1187: 1.0, 1189: 1.0, 1190: 1.0, 1191: 1.0, 1193: 1.0, 1199: 1.0, 1200: 1.0, 1204: 1.0, 1205: 1.0, 1206: 1.0, 1209: 1.0, 1210: 1.0, 1212: 1.0, 1217: 1.0, 1218: 1.0, 1219: 1.0, 1220: 1.0, 1221: 1.0, 1222: 1.0, 1225: 1.0, 1226: 1.0, 1227: 1.0, 1228: 1.0, 1229: 1.0, 1230: 1.0, 1232: 1.0, 1234: 1.0, 1235: 1.0, 1237: 1.0, 1239: 1.0, 1240: 1.0, 1242: 1.0, 1243: 1.0, 1244: 1.0, 1245: 1.0, 1246: 1.0, 1247: 1.0, 1249: 1.0, 1250: 1.0, 1255: 1.0, 1256: 1.0, 1257: 1.0, 1258: 1.0, 1260: 1.0, 1262: 1.0, 1264: 1.0, 1265: 1.0, 1266: 1.0, 1268: 1.0, 1269: 1.0, 1271: 1.0, 1273: 1.0, 1274: 1.0, 1275: 1.0, 1276: 1.0, 1277: 1.0, 1278: 1.0, 1282: 1.0, 1284: 1.0, 1286: 1.0, 1287: 1.0, 1288: 1.0, 1294: 1.0, 1296: 1.0, 1298: 1.0, 1299: 1.0, 1300: 1.0, 1301: 1.0, 1302: 1.0, 1304: 1.0, 1305: 1.0, 1306: 1.0, 1311: 1.0, 1313: 1.0, 1314: 1.0, 1315: 1.0, 1320: 1.0, 1323: 1.0, 1324: 1.0, 1325: 1.0, 1330: 1.0, 1333: 1.0, 1336: 1.0, 1338: 1.0, 1339: 1.0, 1340: 1.0, 1341: 1.0, 1342: 1.0, 1343: 1.0, 1344: 1.0, 1345: 1.0, 1346: 1.0, 1347: 1.0, 1348: 1.0, 1354: 1.0, 1355: 1.0, 1356: 1.0, 1357: 1.0, 1358: 1.0, 1360: 1.0, 1365: 1.0, 1367: 1.0, 1373: 1.0, 1376: 1.0, 1377: 1.0, 1378: 1.0, 1380: 1.0, 1382: 1.0, 1383: 1.0, 1386: 1.0, 1387: 1.0, 1388: 1.0, 1391: 1.0, 1393: 1.0, 1396: 1.0, 1397: 1.0, 1403: 1.0, 1405: 1.0, 1406: 1.0, 1407: 1.0, 1408: 1.0, 1410: 1.0, 1413: 1.0, 1414: 1.0, 1415: 1.0, 1417: 1.0, 1420: 1.0, 1421: 1.0, 1422: 1.0, 1423: 1.0, 1424: 1.0, 1426: 1.0, 1427: 1.0, 1428: 1.0, 1430: 1.0, 1432: 1.0, 1434: 1.0, 1436: 1.0, 1437: 1.0, 1439: 1.0, 1440: 1.0, 1441: 1.0, 1442: 1.0, 1444: 1.0, 1446: 1.0, 1447: 1.0, 1448: 1.0, 1451: 1.0, 1453: 1.0, 1455: 1.0, 1457: 1.0, 1459: 1.0, 1460: 1.0, 1465: 1.0, 1468: 1.0, 1469: 1.0, 1470: 1.0, 1472: 1.0, 1475: 1.0, 1476: 1.0, 1477: 1.0, 1478: 1.0, 1480: 1.0, 1481: 1.0, 1484: 1.0, 1485: 1.0, 1488: 1.0, 1493: 1.0, 1494: 1.0, 1497: 1.0, 1500: 1.0, 1502: 1.0, 1503: 1.0, 1504: 1.0, 1505: 1.0, 1506: 1.0, 1507: 1.0, 1510: 1.0, 1512: 1.0, 1514: 1.0, 1516: 1.0, 1517: 1.0, 1519: 1.0, 1520: 1.0, 1522: 1.0, 1523: 1.0, 1524: 1.0, 1525: 1.0, 1526: 1.0, 1531: 1.0, 1532: 1.0, 1534: 1.0, 1535: 1.0, 1536: 1.0, 1537: 1.0, 1538: 1.0, 1539: 1.0, 1540: 1.0, 1542: 1.0, 1545: 1.0, 1549: 1.0, 1550: 1.0, 1552: 1.0, 1554: 1.0, 1559: 1.0, 1564: 1.0, 1565: 1.0, 1566: 1.0, 1568: 1.0, 1569: 1.0, 1573: 1.0, 1574: 1.0, 1577: 1.0, 1580: 1.0, 1581: 1.0, 1582: 1.0, 1585: 1.0, 1586: 1.0, 1587: 1.0, 1588: 1.0, 1589: 1.0, 1590: 1.0, 1592: 1.0, 1593: 1.0, 1594: 1.0, 1595: 1.0, 1596: 1.0, 1598: 1.0, 1599: 1.0, 1602: 1.0, 1603: 1.0, 1606: 1.0, 1607: 1.0, 1609: 1.0, 1610: 1.0, 1611: 1.0, 1612: 1.0, 1613: 1.0, 1615: 1.0, 1618: 1.0, 1623: 1.0, 1624: 1.0, 1626: 1.0, 1628: 1.0, 1629: 1.0, 1630: 1.0, 1631: 1.0, 1633: 1.0, 1635: 1.0, 1636: 1.0, 1637: 1.0, 1639: 1.0, 1640: 1.0, 1641: 1.0, 1642: 1.0, 1643: 1.0, 1646: 1.0, 1647: 1.0, 1649: 1.0, 1650: 1.0, 1653: 1.0, 1656: 1.0, 1657: 1.0, 1658: 1.0, 1659: 1.0, 1661: 1.0, 1662: 1.0, 1664: 1.0, 1665: 1.0, 1668: 1.0, 1670: 1.0, 1671: 1.0, 1674: 1.0, 1675: 1.0, 1676: 1.0, 1679: 1.0, 1680: 1.0, 1681: 1.0, 1682: 1.0, 1684: 1.0, 1686: 1.0, 1688: 1.0, 1689: 1.0, 1690: 1.0, 1691: 1.0, 1692: 1.0, 1693: 1.0, 1695: 1.0, 1698: 1.0, 1700: 1.0, 1702: 1.0, 1704: 1.0, 1705: 1.0, 1706: 1.0, 1707: 1.0, 1709: 1.0, 1711: 1.0, 1712: 1.0, 1713: 1.0, 1715: 1.0, 1717: 1.0, 1718: 1.0, 1719: 1.0, 1720: 1.0, 1722: 1.0, 1725: 1.0, 1729: 1.0, 1732: 1.0, 1735: 1.0, 1737: 1.0, 1738: 1.0, 1741: 1.0, 1742: 1.0, 1744: 1.0, 1745: 1.0, 1746: 1.0, 1747: 1.0, 1748: 1.0, 1749: 1.0, 1750: 1.0, 1751: 1.0, 1752: 1.0, 1753: 1.0, 1758: 1.0, 1760: 1.0, 1761: 1.0, 1763: 1.0, 1764: 1.0, 1765: 1.0, 1766: 1.0, 1768: 1.0, 1770: 1.0, 1771: 1.0, 1772: 1.0, 1773: 1.0, 1774: 1.0, 1775: 1.0, 1777: 1.0, 1778: 1.0, 1780: 1.0, 1782: 1.0, 1783: 1.0, 1787: 1.0, 1788: 1.0, 1791: 1.0, 1792: 1.0, 1793: 1.0, 1794: 1.0, 1796: 1.0, 1798: 1.0, 1799: 1.0, 1801: 1.0, 1802: 1.0, 1807: 1.0, 1809: 1.0, 1810: 1.0, 1811: 1.0, 1812: 1.0, 1813: 1.0, 1816: 1.0, 1818: 1.0, 1820: 1.0, 1821: 1.0, 1823: 1.0, 1824: 1.0, 1825: 1.0, 1826: 1.0, 1827: 1.0, 1828: 1.0, 1831: 1.0, 1832: 1.0, 1833: 1.0, 1837: 1.0, 1838: 1.0, 1839: 1.0, 1840: 1.0, 1841: 1.0, 1843: 1.0, 1844: 1.0, 1845: 1.0, 1846: 1.0, 1848: 1.0, 1849: 1.0, 1850: 1.0, 1851: 1.0, 1855: 1.0, 1857: 1.0, 1859: 1.0, 1860: 1.0, 1861: 1.0, 1862: 1.0, 1863: 1.0, 1864: 1.0, 1865: 1.0, 1867: 1.0, 1868: 1.0, 1869: 1.0, 1877: 1.0, 1878: 1.0, 1880: 1.0, 1881: 1.0, 1882: 1.0, 1887: 1.0, 1888: 1.0, 1890: 1.0, 1891: 1.0, 1892: 1.0, 1894: 1.0, 1897: 1.0, 1899: 1.0, 1900: 1.0, 1901: 1.0, 1902: 1.0, 1904: 1.0, 1906: 1.0, 1907: 1.0, 1908: 1.0, 1910: 1.0, 1911: 1.0, 1912: 1.0, 1915: 1.0, 1917: 1.0, 1920: 1.0, 1921: 1.0, 1923: 1.0, 1924: 1.0, 1925: 1.0, 1926: 1.0, 1929: 1.0, 1931: 1.0, 1934: 1.0, 1938: 1.0, 1939: 1.0, 1940: 1.0, 1942: 1.0, 1943: 1.0, 1950: 1.0, 1952: 1.0, 1953: 1.0, 1955: 1.0, 1956: 1.0, 1957: 1.0, 1958: 1.0, 1959: 1.0, 1963: 1.0, 1965: 1.0, 1966: 1.0, 1967: 1.0, 1969: 1.0, 1970: 1.0, 1971: 1.0, 1973: 1.0, 1974: 1.0, 1977: 1.0, 1978: 1.0, 1980: 1.0, 1981: 1.0, 1984: 1.0, 1988: 1.0, 1989: 1.0, 1990: 1.0, 1991: 1.0, 1995: 1.0, 1998: 1.0, 2000: 1.0, 2003: 1.0, 2011: 1.0, 2013: 1.0, 2014: 1.0, 2015: 1.0, 2016: 1.0, 2017: 1.0, 2018: 1.0, 2019: 1.0, 2020: 1.0, 2021: 1.0, 2022: 1.0, 2023: 1.0, 2025: 1.0, 2026: 1.0, 2027: 1.0, 2028: 1.0, 2029: 1.0, 2030: 1.0, 2031: 1.0, 2032: 1.0, 2034: 1.0, 2037: 1.0, 2040: 1.0, 2041: 1.0, 2043: 1.0, 2044: 1.0, 2045: 1.0, 2046: 1.0, 2048: 1.0, 2049: 1.0, 2050: 1.0, 2051: 1.0, 2054: 1.0, 2056: 1.0, 2057: 1.0, 2058: 1.0, 2064: 1.0, 2065: 1.0, 2068: 1.0, 2069: 1.0, 2071: 1.0, 2072: 1.0, 2075: 1.0, 2076: 1.0, 2077: 1.0, 2080: 1.0, 2081: 1.0, 2082: 1.0, 2087: 1.0, 2088: 1.0, 2090: 1.0, 2097: 1.0, 2098: 1.0, 2099: 1.0, 2100: 1.0, 2101: 1.0, 2103: 1.0, 2106: 1.0, 2107: 1.0, 2109: 1.0, 2113: 1.0, 2116: 1.0, 2118: 1.0, 2119: 1.0, 2120: 1.0, 2121: 1.0, 2122: 1.0, 2125: 1.0, 2126: 1.0, 2129: 1.0, 2130: 1.0, 2131: 1.0, 2132: 1.0, 2133: 1.0, 2136: 1.0, 2138: 1.0, 2141: 1.0, 2143: 1.0, 2148: 1.0, 2149: 1.0, 2151: 1.0, 2152: 1.0, 2154: 1.0, 2156: 1.0, 2158: 1.0, 2159: 1.0, 2160: 1.0, 2161: 1.0, 2162: 1.0, 2163: 1.0, 2164: 1.0, 2170: 1.0, 2171: 1.0, 2174: 1.0, 2175: 1.0, 2177: 1.0, 2178: 1.0, 2181: 1.0, 2182: 1.0, 2187: 1.0, 2188: 1.0, 2191: 1.0, 2192: 1.0, 2193: 1.0, 2194: 1.0, 2195: 1.0, 2197: 1.0, 2198: 1.0, 2199: 1.0, 2201: 1.0, 2202: 1.0, 2203: 1.0, 2208: 1.0, 2211: 1.0, 2213: 1.0, 2214: 1.0, 2215: 1.0, 2216: 1.0, 2217: 1.0, 2219: 1.0, 2227: 1.0, 2228: 1.0, 2230: 1.0, 2232: 1.0, 2233: 1.0, 2234: 1.0, 2236: 1.0, 2237: 1.0, 2238: 1.0, 2240: 1.0, 2241: 1.0, 2242: 1.0, 2243: 1.0, 2247: 1.0, 2248: 1.0, 2250: 1.0, 2253: 1.0, 2254: 1.0, 2256: 1.0, 2259: 1.0, 2260: 1.0, 2261: 1.0, 2262: 1.0, 2265: 1.0, 2266: 1.0, 2269: 1.0, 2272: 1.0, 2274: 1.0, 2275: 1.0, 2276: 1.0, 2277: 1.0, 2278: 1.0, 2282: 1.0, 2283: 1.0, 2284: 1.0, 2285: 1.0, 2287: 1.0, 2288: 1.0, 2289: 1.0, 2290: 1.0, 2291: 1.0, 2292: 1.0, 2293: 1.0, 2296: 1.0, 2298: 1.0, 2299: 1.0, 2300: 1.0, 2301: 1.0, 2303: 1.0, 2311: 1.0, 2314: 1.0, 2316: 1.0, 2318: 1.0, 2319: 1.0, 2320: 1.0, 2322: 1.0, 2323: 1.0, 2325: 1.0, 2328: 1.0, 2329: 1.0, 2330: 1.0, 2335: 1.0, 2336: 1.0, 2337: 1.0, 2338: 1.0, 2339: 1.0, 2341: 1.0, 2342: 1.0, 2345: 1.0, 2346: 1.0, 2348: 1.0, 2349: 1.0, 2354: 1.0, 2356: 1.0, 2357: 1.0, 2358: 1.0, 2359: 1.0, 2361: 1.0, 2362: 1.0, 2363: 1.0, 2367: 1.0, 2368: 1.0, 2369: 1.0, 2370: 1.0, 2374: 1.0, 2375: 1.0, 2376: 1.0, 2378: 1.0, 2379: 1.0, 2383: 1.0, 2385: 1.0, 2386: 1.0, 2387: 1.0, 2389: 1.0, 2393: 1.0, 2395: 1.0, 2397: 1.0, 2399: 1.0, 2400: 1.0, 2402: 1.0, 2407: 1.0, 2409: 1.0, 2411: 1.0, 2413: 1.0, 2414: 1.0, 2417: 1.0, 2419: 1.0, 2420: 1.0, 2421: 1.0, 2422: 1.0, 2424: 1.0, 2427: 1.0, 2429: 1.0, 2430: 1.0, 2433: 1.0, 2435: 1.0, 2439: 1.0, 2442: 1.0, 2443: 1.0, 2444: 1.0, 2446: 1.0, 2453: 1.0, 2455: 1.0, 2456: 1.0, 2457: 1.0, 2458: 1.0, 2459: 1.0, 2460: 1.0, 2463: 1.0, 2465: 1.0, 2467: 1.0, 2468: 1.0, 2469: 1.0, 2470: 1.0, 2473: 1.0, 2475: 1.0, 2478: 1.0, 2479: 1.0, 2480: 1.0, 2481: 1.0, 2484: 1.0, 2485: 1.0, 2488: 1.0, 2493: 1.0, 2494: 1.0, 2495: 1.0, 2496: 1.0, 2498: 1.0, 2500: 1.0, 2501: 1.0, 2502: 1.0, 2503: 1.0, 2505: 1.0, 2506: 1.0, 2507: 1.0, 2508: 1.0, 2510: 1.0, 2511: 1.0, 2512: 1.0, 2513: 1.0, 2514: 1.0, 2515: 1.0, 2516: 1.0, 2517: 1.0, 2522: 1.0, 2524: 1.0, 2526: 1.0, 2527: 1.0, 2529: 1.0, 2530: 1.0, 2532: 1.0, 2533: 1.0, 2534: 1.0, 2536: 1.0, 2537: 1.0, 2538: 1.0, 2541: 1.0, 2542: 1.0, 2543: 1.0, 2544: 1.0, 2546: 1.0, 2547: 1.0, 2550: 1.0, 2551: 1.0, 2554: 1.0, 2555: 1.0, 2558: 1.0, 2559: 1.0, 2561: 1.0, 2562: 1.0, 2563: 1.0, 2564: 1.0, 2565: 1.0, 2566: 1.0, 2567: 1.0, 2569: 1.0, 2575: 1.0, 2576: 1.0, 2577: 1.0, 2578: 1.0, 2581: 1.0, 2584: 1.0, 2585: 1.0, 2587: 1.0, 2589: 1.0, 2592: 1.0, 2595: 1.0, 2596: 1.0, 2597: 1.0, 2599: 1.0, 2600: 1.0, 2601: 1.0, 2602: 1.0, 2604: 1.0, 2606: 1.0, 2607: 1.0, 2608: 1.0, 2613: 1.0, 2615: 1.0, 2618: 1.0, 2619: 1.0, 2621: 1.0, 2623: 1.0, 2627: 1.0, 2628: 1.0, 2630: 1.0, 2631: 1.0, 2632: 1.0, 2635: 1.0, 2636: 1.0, 2638: 1.0, 2641: 1.0, 2643: 1.0, 2644: 1.0, 2646: 1.0, 2649: 1.0, 2650: 1.0, 2651: 1.0, 2653: 1.0, 2654: 1.0, 2655: 1.0, 2656: 1.0, 2657: 1.0, 2660: 1.0, 2664: 1.0, 2665: 1.0, 2666: 1.0, 2667: 1.0, 2668: 1.0, 2670: 1.0, 2671: 1.0, 2672: 1.0, 2673: 1.0, 2674: 1.0, 2675: 1.0, 2676: 1.0, 2678: 1.0, 2679: 1.0, 2684: 1.0, 2685: 1.0, 2686: 1.0, 2692: 1.0, 2694: 1.0, 2695: 1.0, 2700: 1.0, 2701: 1.0, 2702: 1.0, 2703: 1.0, 2708: 1.0, 2709: 1.0, 2710: 1.0, 2712: 1.0, 2714: 1.0, 2717: 1.0, 2719: 1.0, 2720: 1.0, 2723: 1.0, 2725: 1.0, 2726: 1.0, 2727: 1.0, 2728: 1.0, 2729: 1.0, 2731: 1.0, 2732: 1.0, 2734: 1.0, 2735: 1.0, 2736: 1.0, 2737: 1.0, 2738: 1.0, 2739: 1.0, 2741: 1.0, 2742: 1.0, 2743: 1.0, 2744: 1.0, 2748: 1.0, 2749: 1.0, 2750: 1.0, 2752: 1.0, 2754: 1.0, 2757: 1.0, 2758: 1.0, 2761: 1.0, 2762: 1.0, 2765: 1.0, 2767: 1.0, 2768: 1.0, 2771: 1.0, 2774: 1.0, 2775: 1.0, 2777: 1.0, 2779: 1.0, 2780: 1.0, 2783: 1.0, 2785: 1.0, 2786: 1.0, 2787: 1.0, 2789: 1.0, 2791: 1.0, 2792: 1.0, 2794: 1.0, 2797: 1.0, 2798: 1.0, 2800: 1.0, 2801: 1.0, 2805: 1.0, 2806: 1.0, 2807: 1.0, 2810: 1.0, 2812: 1.0, 2818: 1.0, 2821: 1.0, 2822: 1.0, 2823: 1.0, 2825: 1.0, 2827: 1.0, 2830: 1.0, 2832: 1.0, 2833: 1.0, 2834: 1.0, 2835: 1.0, 2836: 1.0, 2837: 1.0, 2838: 1.0, 2839: 1.0, 2841: 1.0, 2842: 1.0, 2843: 1.0, 2846: 1.0, 2847: 1.0, 2848: 1.0, 2849: 1.0, 2852: 1.0, 2853: 1.0, 2854: 1.0, 2857: 1.0, 2859: 1.0, 2861: 1.0, 2862: 1.0, 2865: 1.0, 2867: 1.0, 2868: 1.0, 2871: 1.0, 2872: 1.0, 2873: 1.0, 2875: 1.0, 2876: 1.0, 2883: 1.0, 2886: 1.0, 2889: 1.0, 2890: 1.0, 2892: 1.0, 2894: 1.0, 2896: 1.0, 2897: 1.0, 2900: 1.0, 2901: 1.0, 2902: 1.0, 2903: 1.0, 2904: 1.0, 2905: 1.0, 2906: 1.0, 2909: 1.0, 2910: 1.0, 2911: 1.0, 2912: 1.0, 2916: 1.0, 2917: 1.0, 2918: 1.0, 2920: 1.0, 2921: 1.0, 2923: 1.0, 2926: 1.0, 2929: 1.0, 2932: 1.0, 2935: 1.0, 2938: 1.0, 2939: 1.0, 2941: 1.0, 2942: 1.0, 2943: 1.0, 2946: 1.0, 2950: 1.0, 2953: 1.0, 2954: 1.0, 2955: 1.0, 2956: 1.0, 2957: 1.0, 2962: 1.0, 2964: 1.0, 2967: 1.0, 2968: 1.0, 2969: 1.0, 2970: 1.0, 2971: 1.0, 2972: 1.0, 2973: 1.0, 2974: 1.0, 2979: 1.0, 2980: 1.0, 2981: 1.0, 2982: 1.0, 2983: 1.0, 2984: 1.0, 2985: 1.0, 2986: 1.0, 2987: 1.0, 2988: 1.0, 2990: 1.0, 2992: 1.0, 2993: 1.0, 2996: 1.0, 2997: 1.0, 2999: 1.0, 3000: 1.0, 3001: 1.0, 3002: 1.0, 3003: 1.0, 3005: 1.0, 3007: 1.0, 3008: 1.0, 3009: 1.0, 3011: 1.0, 3019: 1.0, 3020: 1.0, 3024: 1.0, 3025: 1.0, 3026: 1.0, 3029: 1.0, 3030: 1.0, 3031: 1.0, 3032: 1.0, 3033: 1.0, 3036: 1.0, 3039: 1.0, 3040: 1.0, 3041: 1.0, 3043: 1.0, 3048: 1.0, 3052: 1.0, 3053: 1.0, 3054: 1.0, 3055: 1.0, 3057: 1.0, 3059: 1.0, 3060: 1.0, 3061: 1.0, 3062: 1.0, 3064: 1.0, 3069: 1.0, 3070: 1.0, 3072: 1.0, 3074: 1.0, 3082: 1.0, 3084: 1.0, 3087: 1.0, 3088: 1.0, 3089: 1.0, 3090: 1.0, 3091: 1.0, 3092: 1.0, 3094: 1.0, 3096: 1.0, 3097: 1.0, 3098: 1.0, 3099: 1.0, 3101: 1.0, 3102: 1.0, 3103: 1.0, 3107: 1.0, 3108: 1.0, 3110: 1.0, 3111: 1.0, 3113: 1.0, 3114: 1.0, 3116: 1.0, 3117: 1.0, 3119: 1.0, 3120: 1.0, 3122: 1.0, 3123: 1.0, 3124: 1.0, 3125: 1.0, 3126: 1.0, 3127: 1.0, 3128: 1.0, 3129: 1.0, 3131: 1.0, 3132: 1.0, 3133: 1.0, 3134: 1.0, 3135: 1.0, 3136: 1.0, 3137: 1.0, 3139: 1.0, 3140: 1.0, 3142: 1.0, 3143: 1.0, 3144: 1.0, 3146: 1.0, 3147: 1.0, 3148: 1.0, 3149: 1.0, 3150: 1.0, 3151: 1.0, 3154: 1.0, 3155: 1.0, 3157: 1.0, 3160: 1.0, 3161: 1.0, 3162: 1.0, 3164: 1.0, 3167: 1.0, 3168: 1.0, 3171: 1.0, 3172: 1.0, 3173: 1.0, 3174: 1.0, 3175: 1.0, 3176: 1.0, 3177: 1.0, 3178: 1.0, 3180: 1.0, 3182: 1.0, 3183: 1.0, 3184: 1.0, 3186: 1.0, 3187: 1.0, 3188: 1.0, 3190: 1.0, 3192: 1.0, 3193: 1.0, 3194: 1.0, 3196: 1.0, 3197: 1.0, 3198: 1.0, 3199: 1.0, 3200: 1.0, 3205: 1.0, 3206: 1.0, 3208: 1.0, 3210: 1.0, 3211: 1.0, 3213: 1.0, 3215: 1.0, 3217: 1.0, 3218: 1.0, 3221: 1.0, 3223: 1.0, 3227: 1.0, 3228: 1.0, 3230: 1.0, 3231: 1.0, 3232: 1.0, 3233: 1.0, 3235: 1.0, 3237: 1.0, 3238: 1.0, 3239: 1.0, 3241: 1.0, 3242: 1.0, 3243: 1.0, 3244: 1.0, 3246: 1.0, 3248: 1.0, 3251: 1.0, 3252: 1.0, 3255: 1.0, 3257: 1.0, 3260: 1.0, 3261: 1.0, 3262: 1.0, 3263: 1.0, 3264: 1.0, 3265: 1.0, 3266: 1.0, 3267: 1.0, 3268: 1.0, 3270: 1.0, 3272: 1.0, 3273: 1.0, 3275: 1.0, 3276: 1.0, 3278: 1.0, 3279: 1.0, 3280: 1.0, 3281: 1.0, 3285: 1.0, 3286: 1.0, 3288: 1.0, 3289: 1.0, 3290: 1.0, 3291: 1.0, 3292: 1.0, 3293: 1.0, 3294: 1.0, 3295: 1.0, 3296: 1.0, 3297: 1.0, 3298: 1.0, 3299: 1.0, 3302: 1.0, 3303: 1.0, 3306: 1.0, 3308: 1.0, 3309: 1.0, 3312: 1.0, 3315: 1.0, 3319: 1.0, 3320: 1.0, 3321: 1.0, 3328: 1.0, 3334: 1.0, 3337: 1.0, 3338: 1.0, 3339: 1.0, 3340: 1.0, 3341: 1.0, 3344: 1.0, 3345: 1.0, 3346: 1.0, 3347: 1.0, 3348: 1.0, 3350: 1.0, 3351: 1.0, 3353: 1.0, 3354: 1.0, 3355: 1.0, 3359: 1.0, 3363: 1.0, 3365: 1.0, 3366: 1.0, 3367: 1.0, 3369: 1.0, 3370: 1.0, 3371: 1.0, 3372: 1.0, 3374: 1.0, 3376: 1.0, 3377: 1.0, 3378: 1.0, 3380: 1.0, 3381: 1.0, 3382: 1.0, 3384: 1.0, 3385: 1.0, 3386: 1.0, 3387: 1.0, 3389: 1.0, 3391: 1.0, 3392: 1.0, 3396: 1.0, 3398: 1.0, 3400: 1.0, 3402: 1.0, 3404: 1.0, 3405: 1.0, 3406: 1.0, 3409: 1.0, 3410: 1.0, 3412: 1.0, 3414: 1.0, 3416: 1.0, 3417: 1.0, 3418: 1.0, 3419: 1.0, 3424: 1.0, 3425: 1.0, 3426: 1.0, 3429: 1.0, 3430: 1.0, 3432: 1.0, 3433: 1.0, 3434: 1.0, 3436: 1.0, 3437: 1.0, 3439: 1.0, 3440: 1.0, 3441: 1.0, 3444: 1.0, 3448: 1.0, 3449: 1.0, 3450: 1.0, 3451: 1.0, 3452: 1.0, 3453: 1.0, 3457: 1.0, 3458: 1.0, 3460: 1.0, 3462: 1.0, 3465: 1.0, 3467: 1.0, 3471: 1.0, 3473: 1.0, 3475: 1.0, 3476: 1.0, 3477: 1.0, 3478: 1.0, 3479: 1.0, 3480: 1.0, 3481: 1.0, 3482: 1.0, 3484: 1.0, 3485: 1.0, 3487: 1.0, 3491: 1.0, 3493: 1.0, 3497: 1.0, 3499: 1.0, 3501: 1.0, 3502: 1.0, 3508: 1.0, 3509: 1.0, 3511: 1.0, 3513: 1.0, 3515: 1.0, 3516: 1.0, 3517: 1.0, 3520: 1.0, 3523: 1.0, 3524: 1.0, 3525: 1.0, 3526: 1.0, 3527: 1.0, 3528: 1.0, 3529: 1.0, 3530: 1.0, 3531: 1.0, 3532: 1.0, 3533: 1.0, 3534: 1.0, 3535: 1.0, 3537: 1.0, 3538: 1.0, 3539: 1.0, 3540: 1.0, 3541: 1.0, 3542: 1.0, 3543: 1.0, 3544: 1.0, 3545: 1.0, 3546: 1.0, 3547: 1.0, 3548: 1.0, 3549: 1.0, 3550: 1.0, 3552: 1.0, 3554: 1.0, 3555: 1.0, 3557: 1.0, 3558: 1.0, 3561: 1.0, 3562: 1.0, 3565: 1.0, 3568: 1.0, 3569: 1.0, 3572: 1.0, 3573: 1.0, 3574: 1.0, 3576: 1.0, 3578: 1.0, 3580: 1.0, 3581: 1.0, 3582: 1.0, 3583: 1.0, 3584: 1.0, 3585: 1.0, 3588: 1.0, 3589: 1.0, 3590: 1.0, 3591: 1.0, 3592: 1.0, 3593: 1.0, 3594: 1.0, 3596: 1.0, 3598: 1.0, 3600: 1.0, 3602: 1.0, 3605: 1.0, 3606: 1.0, 3608: 1.0, 3609: 1.0, 3610: 1.0, 3611: 1.0, 3612: 1.0, 3615: 1.0, 3616: 1.0, 3617: 1.0, 3618: 1.0, 3619: 1.0, 3620: 1.0, 3621: 1.0, 3622: 1.0, 3623: 1.0, 3624: 1.0, 3625: 1.0, 3626: 1.0, 3627: 1.0, 3629: 1.0, 3634: 1.0, 3635: 1.0, 3636: 1.0, 3639: 1.0, 3642: 1.0, 3644: 1.0, 3647: 1.0, 3649: 1.0, 3650: 1.0, 3654: 1.0, 3655: 1.0, 3657: 1.0, 3661: 1.0, 3665: 1.0, 3666: 1.0, 3667: 1.0, 3669: 1.0, 3670: 1.0, 3671: 1.0, 3673: 1.0, 3674: 1.0, 3676: 1.0, 3677: 1.0, 3678: 1.0, 3679: 1.0, 3682: 1.0, 3685: 1.0, 3686: 1.0, 3687: 1.0, 3689: 1.0, 3690: 1.0, 3691: 1.0, 3692: 1.0, 3694: 1.0, 3696: 1.0, 3697: 1.0, 3698: 1.0, 3700: 1.0, 3701: 1.0, 3702: 1.0, 3703: 1.0, 3705: 1.0, 3706: 1.0, 3707: 1.0, 3708: 1.0, 3710: 1.0, 3711: 1.0, 3712: 1.0, 3713: 1.0, 3717: 1.0, 3718: 1.0, 3719: 1.0, 3722: 1.0, 3726: 1.0, 3728: 1.0, 3729: 1.0, 3731: 1.0, 3732: 1.0, 3733: 1.0, 3735: 1.0, 3741: 1.0, 3742: 1.0, 3743: 1.0, 3744: 1.0, 3747: 1.0, 3749: 1.0, 3753: 1.0, 3754: 1.0, 3756: 1.0, 3758: 1.0, 3759: 1.0, 3760: 1.0, 3763: 1.0, 3764: 1.0, 3766: 1.0, 3767: 1.0, 3770: 1.0, 3771: 1.0, 3772: 1.0, 3773: 1.0, 3774: 1.0, 3775: 1.0, 3779: 1.0, 3782: 1.0, 3783: 1.0, 3785: 1.0, 3786: 1.0, 3787: 1.0, 3788: 1.0, 3790: 1.0, 3792: 1.0, 3793: 1.0, 3794: 1.0, 3795: 1.0, 3797: 1.0, 3798: 1.0, 3799: 1.0, 3800: 1.0, 3801: 1.0, 3802: 1.0, 3803: 1.0, 3804: 1.0, 3806: 1.0, 3807: 1.0, 3808: 1.0, 3809: 1.0, 3812: 1.0, 3815: 1.0, 3817: 1.0, 3818: 1.0, 3820: 1.0, 3821: 1.0, 3822: 1.0, 3823: 1.0, 3825: 1.0, 3827: 1.0, 3828: 1.0, 3830: 1.0, 3831: 1.0, 3832: 1.0, 3833: 1.0, 3834: 1.0, 3838: 1.0, 3840: 1.0, 3841: 1.0, 3842: 1.0, 3844: 1.0, 3845: 1.0, 3846: 1.0, 3847: 1.0, 3851: 1.0, 3852: 1.0, 3853: 1.0, 3854: 1.0, 3856: 1.0, 3858: 1.0, 3859: 1.0, 3861: 1.0, 3862: 1.0, 3863: 1.0, 3864: 1.0, 3867: 1.0, 3870: 1.0, 3873: 1.0, 3874: 1.0, 3875: 1.0, 3876: 1.0, 3877: 1.0, 3878: 1.0, 3882: 1.0, 3885: 1.0, 3886: 1.0, 3887: 1.0, 3889: 1.0, 3890: 1.0, 3892: 1.0, 3893: 1.0, 3894: 1.0, 3895: 1.0, 3896: 1.0, 3898: 1.0, 3900: 1.0, 3910: 1.0, 3911: 1.0, 3913: 1.0, 3915: 1.0, 3917: 1.0, 3919: 1.0, 3921: 1.0, 3922: 1.0, 3923: 1.0, 3924: 1.0, 3925: 1.0, 3926: 1.0, 3928: 1.0, 3935: 1.0, 3936: 1.0, 3937: 1.0, 3938: 1.0, 3941: 1.0, 3943: 1.0, 3947: 1.0, 3950: 1.0, 3952: 1.0, 3954: 1.0, 3960: 1.0, 3961: 1.0, 3964: 1.0, 3966: 1.0, 3967: 1.0, 3970: 1.0, 3972: 1.0, 3974: 1.0, 3976: 1.0, 3978: 1.0, 3979: 1.0, 3980: 1.0, 3985: 1.0, 3987: 1.0, 3989: 1.0, 3991: 1.0, 3992: 1.0, 3994: 1.0, 3998: 1.0, 3999: 1.0, 4000: 1.0, 4001: 1.0, 4003: 1.0, 4004: 1.0, 4008: 1.0, 4009: 1.0, 4010: 1.0, 4013: 1.0, 4016: 1.0, 4017: 1.0, 4018: 1.0, 4019: 1.0, 4020: 1.0, 4021: 1.0, 4022: 1.0, 4023: 1.0, 4026: 1.0, 4027: 1.0, 4029: 1.0, 4033: 1.0, 4034: 1.0, 4035: 1.0, 4036: 1.0, 4041: 1.0, 4042: 1.0, 4045: 1.0, 4046: 1.0, 4047: 1.0, 4049: 1.0, 4053: 1.0, 4054: 1.0, 4055: 1.0, 4056: 1.0, 4057: 1.0, 4058: 1.0, 4059: 1.0, 4060: 1.0, 4065: 1.0, 4066: 1.0, 4067: 1.0, 4068: 1.0, 4069: 1.0, 4070: 1.0, 4071: 1.0, 4072: 1.0, 4073: 1.0, 4074: 1.0, 4075: 1.0, 4076: 1.0, 4078: 1.0, 4080: 1.0, 4081: 1.0, 4082: 1.0, 4083: 1.0, 4084: 1.0, 4086: 1.0, 4090: 1.0, 4094: 1.0, 4095: 1.0, 4098: 1.0, 4099: 1.0, 4101: 1.0, 4102: 1.0, 4105: 1.0, 4108: 1.0, 4109: 1.0, 4113: 1.0, 4116: 1.0, 4119: 1.0, 4121: 1.0, 4122: 1.0, 4123: 1.0, 4124: 1.0, 4127: 1.0, 4129: 1.0, 4130: 1.0, 4131: 1.0, 4133: 1.0, 4134: 1.0, 4135: 1.0, 4136: 1.0, 4140: 1.0, 4141: 1.0, 4143: 1.0, 4144: 1.0, 4145: 1.0, 4146: 1.0, 4147: 1.0, 4148: 1.0, 4151: 1.0, 4152: 1.0, 4154: 1.0, 4156: 1.0, 4158: 1.0, 4161: 1.0, 4163: 1.0, 4164: 1.0, 4166: 1.0, 4167: 1.0, 4168: 1.0, 4169: 1.0, 4170: 1.0, 4174: 1.0, 4176: 1.0, 4178: 1.0, 4180: 1.0, 4182: 1.0, 4184: 1.0, 4187: 1.0, 4189: 1.0, 4192: 1.0, 4193: 1.0, 4196: 1.0, 4197: 1.0, 4199: 1.0, 4200: 1.0, 4203: 1.0, 4205: 1.0, 4207: 1.0, 4208: 1.0, 4209: 1.0, 4211: 1.0, 4215: 1.0, 4216: 1.0, 4217: 1.0, 4218: 1.0, 4219: 1.0, 4220: 1.0, 4222: 1.0, 4223: 1.0, 4225: 1.0, 4228: 1.0, 4229: 1.0, 4230: 1.0, 4233: 1.0, 4234: 1.0, 4237: 1.0, 4242: 1.0, 4243: 1.0, 4250: 1.0, 4252: 1.0, 4253: 1.0, 4254: 1.0, 4260: 1.0, 4261: 1.0, 4263: 1.0, 4264: 1.0, 4265: 1.0, 4266: 1.0, 4269: 1.0, 4270: 1.0, 4271: 1.0, 4272: 1.0, 4274: 1.0, 4275: 1.0, 4277: 1.0, 4278: 1.0, 4282: 1.0, 4283: 1.0, 4286: 1.0, 4288: 1.0, 4289: 1.0, 4290: 1.0, 4291: 1.0, 4293: 1.0, 4294: 1.0, 4297: 1.0, 4298: 1.0, 4299: 1.0, 4301: 1.0, 4303: 1.0, 4304: 1.0, 4307: 1.0, 4308: 1.0, 4309: 1.0, 4313: 1.0, 4314: 1.0, 4315: 1.0, 4317: 1.0, 4318: 1.0, 4322: 1.0, 4326: 1.0, 4327: 1.0, 4335: 1.0, 4336: 1.0, 4340: 1.0, 4343: 1.0, 4345: 1.0, 4346: 1.0, 4347: 1.0, 4348: 1.0, 4349: 1.0, 4350: 1.0, 4353: 1.0, 4354: 1.0, 4356: 1.0, 4358: 1.0, 4359: 1.0, 4361: 1.0, 4362: 1.0, 4364: 1.0, 4367: 1.0, 4368: 1.0, 4369: 1.0, 4370: 1.0, 4371: 1.0, 4372: 1.0, 4374: 1.0, 4375: 1.0, 4377: 1.0, 4378: 1.0, 4382: 1.0, 4383: 1.0, 4385: 1.0, 4386: 1.0, 4387: 1.0, 4389: 1.0, 4390: 1.0, 4391: 1.0, 4394: 1.0, 4403: 1.0, 4404: 1.0, 4410: 1.0, 4411: 1.0, 4414: 1.0, 4416: 1.0, 4418: 1.0, 4420: 1.0, 4421: 1.0, 4422: 1.0, 4424: 1.0, 4427: 1.0, 4430: 1.0, 4431: 1.0, 4433: 1.0, 4434: 1.0, 4436: 1.0, 4443: 1.0, 4447: 1.0, 4448: 1.0, 4449: 1.0, 4455: 1.0, 4456: 1.0, 4457: 1.0, 4459: 1.0, 4460: 1.0, 4461: 1.0, 4464: 1.0, 4466: 1.0, 4467: 1.0, 4468: 1.0, 4469: 1.0, 4471: 1.0, 4472: 1.0, 4473: 1.0, 4477: 1.0, 4478: 1.0, 4480: 1.0, 4486: 1.0, 4488: 1.0, 4489: 1.0, 4490: 1.0, 4491: 1.0, 4494: 1.0, 4495: 1.0, 4497: 1.0, 4498: 1.0, 4500: 1.0, 4501: 1.0, 4502: 1.0, 4503: 1.0, 4504: 1.0, 4506: 1.0, 4509: 1.0, 4513: 1.0, 4522: 1.0, 4523: 1.0, 4524: 1.0, 4525: 1.0, 4526: 1.0, 4528: 1.0, 4529: 1.0, 4531: 1.0, 4534: 1.0, 4535: 1.0, 4537: 1.0, 4538: 1.0, 4539: 1.0, 4541: 1.0, 4542: 1.0, 4543: 1.0, 4544: 1.0, 4545: 1.0, 4547: 1.0, 4549: 1.0, 4550: 1.0, 4552: 1.0, 4553: 1.0, 4555: 1.0, 4559: 1.0, 4560: 1.0, 4562: 1.0, 4564: 1.0, 4565: 1.0, 4568: 1.0, 4569: 1.0, 4575: 1.0, 4576: 1.0, 4577: 1.0, 4580: 1.0, 4582: 1.0, 4584: 1.0, 4585: 1.0, 4586: 1.0, 4587: 1.0, 4590: 1.0, 4592: 1.0, 4594: 1.0, 4595: 1.0, 4596: 1.0, 4597: 1.0, 4598: 1.0, 4599: 1.0, 4603: 1.0, 4611: 1.0, 4615: 1.0, 4617: 1.0, 4619: 1.0, 4620: 1.0, 4621: 1.0, 4622: 1.0, 4623: 1.0, 4626: 1.0, 4631: 1.0, 4632: 1.0, 4635: 1.0, 4637: 1.0, 4639: 1.0, 4640: 1.0, 4644: 1.0, 4645: 1.0, 4650: 1.0, 4652: 1.0, 4653: 1.0, 4655: 1.0, 4656: 1.0, 4658: 1.0, 4659: 1.0, 4661: 1.0, 4663: 1.0, 4664: 1.0, 4665: 1.0, 4668: 1.0, 4669: 1.0, 4670: 1.0, 4671: 1.0, 4672: 1.0, 4675: 1.0, 4678: 1.0, 4679: 1.0, 4680: 1.0, 4682: 1.0, 4684: 1.0, 4685: 1.0, 4686: 1.0, 4689: 1.0, 4694: 1.0, 4696: 1.0, 4697: 1.0, 4700: 1.0, 4701: 1.0, 4705: 1.0, 4706: 1.0, 4708: 1.0, 4709: 1.0, 4710: 1.0, 4711: 1.0, 4712: 1.0, 4714: 1.0, 4715: 1.0, 4717: 1.0, 4718: 1.0, 4720: 1.0, 4722: 1.0, 4723: 1.0, 4727: 1.0, 4730: 1.0, 4731: 1.0, 4733: 1.0, 4734: 1.0, 4735: 1.0, 4736: 1.0, 4739: 1.0, 4740: 1.0, 4741: 1.0, 4743: 1.0, 4744: 1.0, 4746: 1.0, 4747: 1.0, 4748: 1.0, 4751: 1.0, 4755: 1.0, 4758: 1.0, 4760: 1.0, 4761: 1.0, 4764: 1.0, 4765: 1.0, 4767: 1.0, 4769: 1.0, 4773: 1.0, 4774: 1.0, 4775: 1.0, 4776: 1.0, 4778: 1.0, 4780: 1.0, 4782: 1.0, 4784: 1.0, 4785: 1.0, 4786: 1.0, 4787: 1.0, 4788: 1.0, 4790: 1.0, 4793: 1.0, 4794: 1.0, 4795: 1.0, 4796: 1.0, 4799: 1.0, 4806: 1.0, 4807: 1.0, 4808: 1.0, 4810: 1.0, 4811: 1.0, 4814: 1.0, 4815: 1.0, 4816: 1.0, 4818: 1.0, 4820: 1.0, 4824: 1.0, 4825: 1.0, 4828: 1.0, 4829: 1.0, 4834: 1.0, 4836: 1.0, 4837: 1.0, 4840: 1.0, 4841: 1.0, 4842: 1.0, 4843: 1.0, 4844: 1.0, 4845: 1.0, 4846: 1.0, 4847: 1.0, 4849: 1.0, 4850: 1.0, 4852: 1.0, 4854: 1.0, 4857: 1.0, 4858: 1.0, 4859: 1.0, 4860: 1.0, 4862: 1.0, 4863: 1.0, 4864: 1.0, 4865: 1.0, 4872: 1.0, 4873: 1.0, 4876: 1.0, 4878: 1.0, 4880: 1.0, 4881: 1.0, 4882: 1.0, 4884: 1.0, 4888: 1.0, 4891: 1.0, 4892: 1.0, 4893: 1.0, 4894: 1.0, 4896: 1.0, 4897: 1.0, 4899: 1.0, 4906: 1.0, 4908: 1.0, 4911: 1.0, 4913: 1.0, 4915: 1.0, 4916: 1.0, 4917: 1.0, 4919: 1.0, 4923: 1.0, 4924: 1.0, 4925: 1.0, 4930: 1.0, 4931: 1.0, 4932: 1.0, 4933: 1.0, 4934: 1.0, 4935: 1.0, 4936: 1.0, 4937: 1.0, 4939: 1.0, 4941: 1.0, 4942: 1.0, 4943: 1.0, 4944: 1.0, 4945: 1.0, 4947: 1.0, 4948: 1.0, 4950: 1.0, 4951: 1.0, 4956: 1.0, 4957: 1.0, 4958: 1.0, 4961: 1.0, 4965: 1.0, 4966: 1.0, 4967: 1.0, 4968: 1.0, 4969: 1.0, 4971: 1.0, 4973: 1.0, 4974: 1.0, 4975: 1.0, 4976: 1.0, 4980: 1.0, 4981: 1.0, 4982: 1.0, 4983: 1.0, 4986: 1.0, 4987: 1.0, 4988: 1.0, 4989: 1.0, 4990: 1.0, 4991: 1.0, 4992: 1.0, 4996: 1.0, 5001: 1.0, 5002: 1.0, 5003: 1.0, 5004: 1.0, 5005: 1.0, 5009: 1.0, 5010: 1.0, 5011: 1.0, 5012: 1.0, 5014: 1.0, 5018: 1.0, 5019: 1.0, 5020: 1.0, 5021: 1.0, 5022: 1.0, 5023: 1.0, 5025: 1.0, 5026: 1.0, 5027: 1.0, 5029: 1.0, 5030: 1.0, 5032: 1.0, 5033: 1.0, 5038: 1.0, 5039: 1.0, 5040: 1.0, 5041: 1.0, 5042: 1.0, 5043: 1.0, 5044: 1.0, 5045: 1.0, 5046: 1.0, 5047: 1.0, 5048: 1.0, 5053: 1.0, 5054: 1.0, 5056: 1.0, 5057: 1.0, 5059: 1.0, 5061: 1.0, 5062: 1.0, 5063: 1.0, 5064: 1.0, 5065: 1.0, 5068: 1.0, 5069: 1.0, 5070: 1.0, 5073: 1.0, 5075: 1.0, 5077: 1.0, 5078: 1.0, 5079: 1.0, 5082: 1.0, 5083: 1.0, 5084: 1.0, 5088: 1.0, 5089: 1.0, 5091: 1.0, 5092: 1.0, 5094: 1.0, 5096: 1.0, 5097: 1.0, 5098: 1.0, 5101: 1.0, 5104: 1.0, 5105: 1.0, 5106: 1.0, 5107: 1.0, 5108: 1.0, 5109: 1.0, 5111: 1.0, 5112: 1.0, 5113: 1.0, 5114: 1.0, 5116: 1.0, 5117: 1.0, 5119: 1.0, 5121: 1.0, 5122: 1.0, 5124: 1.0, 5126: 1.0, 5128: 1.0, 5130: 1.0, 5131: 1.0, 5134: 1.0, 5135: 1.0, 5136: 1.0, 5139: 1.0, 5141: 1.0}\n"
     ]
    }
   ],
   "source": [
    "print(\"Average rating of user = {}\".format(average_rating_user))"
   ]
  },
  {
   "cell_type": "code",
   "execution_count": 20,
   "id": "selected-tongue",
   "metadata": {},
   "outputs": [],
   "source": [
    "avg_rating_movie = get_average_rating(train_matrix, False)"
   ]
  },
  {
   "cell_type": "code",
   "execution_count": 21,
   "id": "together-nickname",
   "metadata": {},
   "outputs": [
    {
     "data": {
      "text/plain": [
       "{0: 1.0,\n",
       " 1: 1.0,\n",
       " 2: 1.0,\n",
       " 3: 1.0,\n",
       " 4: 1.0,\n",
       " 5: 1.0,\n",
       " 6: 1.0,\n",
       " 7: 1.0,\n",
       " 8: 1.0,\n",
       " 9: 1.0,\n",
       " 10: 1.0,\n",
       " 11: 1.0,\n",
       " 12: 1.0,\n",
       " 13: 1.0,\n",
       " 14: 1.0,\n",
       " 15: 1.0,\n",
       " 16: 1.0,\n",
       " 17: 1.0,\n",
       " 18: 1.0,\n",
       " 19: 1.0,\n",
       " 20: 1.0,\n",
       " 21: 1.0,\n",
       " 22: 1.0,\n",
       " 23: 1.0,\n",
       " 24: 1.0,\n",
       " 25: 1.0,\n",
       " 26: 1.0,\n",
       " 27: 1.0,\n",
       " 28: 1.0,\n",
       " 29: 1.0,\n",
       " 30: 1.0,\n",
       " 31: 1.0,\n",
       " 32: 1.0,\n",
       " 33: 1.0,\n",
       " 34: 1.0,\n",
       " 35: 1.0,\n",
       " 36: 1.0,\n",
       " 37: 1.0,\n",
       " 38: 1.0,\n",
       " 39: 1.0,\n",
       " 40: 1.0,\n",
       " 41: 1.0,\n",
       " 42: 1.0,\n",
       " 43: 1.0,\n",
       " 44: 1.0,\n",
       " 45: 1.0,\n",
       " 46: 1.0,\n",
       " 47: 1.0,\n",
       " 48: 1.0,\n",
       " 49: 1.0,\n",
       " 50: 1.0,\n",
       " 51: 1.0,\n",
       " 52: 1.0,\n",
       " 53: 1.0,\n",
       " 54: 1.0,\n",
       " 55: 1.0,\n",
       " 56: 1.0,\n",
       " 57: 1.0,\n",
       " 58: 1.0,\n",
       " 59: 1.0,\n",
       " 60: 1.0,\n",
       " 61: 1.0,\n",
       " 62: 1.0,\n",
       " 63: 1.0,\n",
       " 64: 1.0,\n",
       " 65: 1.0,\n",
       " 66: 1.0,\n",
       " 67: 1.0,\n",
       " 68: 1.0,\n",
       " 69: 1.0,\n",
       " 70: 1.0,\n",
       " 71: 1.0,\n",
       " 72: 1.0,\n",
       " 73: 1.0,\n",
       " 74: 1.0,\n",
       " 75: 1.0,\n",
       " 76: 1.0,\n",
       " 77: 1.0,\n",
       " 78: 1.0,\n",
       " 79: 1.0,\n",
       " 80: 1.0,\n",
       " 81: 1.0,\n",
       " 82: 1.0,\n",
       " 83: 1.0,\n",
       " 84: 1.0,\n",
       " 85: 1.0,\n",
       " 86: 1.0,\n",
       " 87: 1.0,\n",
       " 88: 1.0,\n",
       " 89: 1.0,\n",
       " 90: 1.0,\n",
       " 91: 1.0,\n",
       " 92: 1.0,\n",
       " 93: 1.0,\n",
       " 94: 1.0,\n",
       " 95: 1.0,\n",
       " 96: 1.0,\n",
       " 97: 1.0,\n",
       " 98: 1.0,\n",
       " 99: 1.0}"
      ]
     },
     "execution_count": 21,
     "metadata": {},
     "output_type": "execute_result"
    }
   ],
   "source": [
    "avg_rating_movie"
   ]
  },
  {
   "cell_type": "code",
   "execution_count": 22,
   "id": "dietary-memory",
   "metadata": {},
   "outputs": [
    {
     "data": {
      "text/plain": [
       "((5142, 5142), (100, 100))"
      ]
     },
     "execution_count": 22,
     "metadata": {},
     "output_type": "execute_result"
    }
   ],
   "source": [
    "# calculating the similarity by using the pairwise_distance from sklearn to calculate the cosine similarity\n",
    "# user-user similarity\n",
    "user_similarity = pairwise_distances(train_matrix, metric='cosine')\n",
    "\n",
    "# item-item similarity\n",
    "item_similarity = pairwise_distances(train_matrix.T, metric='cosine')\n",
    "\n",
    "user_similarity.shape , item_similarity.shape"
   ]
  },
  {
   "cell_type": "markdown",
   "id": "subtle-welsh",
   "metadata": {},
   "source": [
    "Next step is to make predictions. I have already created similarity matrices: user_similarity and item_similarity and therefore I can make a prediction by applying following formula for user-based CF:\n",
    "    \n",
    "![](eq1.gif)\n",
    "\n",
    "1. We can look at the similarity between users k and a as weights\n",
    "2. Weights are multiplied by the ratings of a similar user a (corrected for the average rating of that user). \n",
    "3. Need to normalize it so that the ratings stay between 1 and 5 and, \n",
    "4. As a final step, sum the average ratings for the user that you are trying to predict.\n",
    "\n",
    "When making a prediction for item-based CF you don’t need to correct for users average rating since query user itself is used to do predictions.\n",
    "\n",
    "![](eq2.gif)"
   ]
  },
  {
   "cell_type": "code",
   "execution_count": 23,
   "id": "organic-venice",
   "metadata": {},
   "outputs": [],
   "source": [
    "#predictions based on these similarities\n",
    "def predict(ratings, similarity, type='user'):\n",
    "    if type == 'user':\n",
    "        mean_user_rating = ratings.mean(axis=1)\n",
    "        #We use np.newaxis so that mean_user_rating has same format as ratings\n",
    "        ratings_diff = (ratings - mean_user_rating[:, np.newaxis])\n",
    "        pred = mean_user_rating[:, np.newaxis] + similarity.dot(ratings_diff) / np.array([np.abs(similarity).sum(axis=1)]).T\n",
    "    elif type == 'item':\n",
    "        pred = ratings.dot(similarity) / np.array([np.abs(similarity).sum(axis=1)])\n",
    "    return pred"
   ]
  },
  {
   "cell_type": "code",
   "execution_count": 24,
   "id": "saving-employment",
   "metadata": {},
   "outputs": [],
   "source": [
    "user_prediction = predict(train_matrix, user_similarity, type='user')\n",
    "item_prediction = predict(train_matrix, item_similarity, type='item')"
   ]
  },
  {
   "cell_type": "markdown",
   "id": "sweet-alabama",
   "metadata": {},
   "source": [
    "# Evaluation\n",
    "\n",
    "There are many evaluation metrics but for this project we used, most popular metric to evaluate accuracy of predicted ratings are Root Mean Squared Error (RMSE) and Mean Absolute Error (MAE).\n",
    "\n"
   ]
  },
  {
   "cell_type": "code",
   "execution_count": 25,
   "id": "copyrighted-bacon",
   "metadata": {},
   "outputs": [],
   "source": [
    "def rmse(prediction, y_test):\n",
    "    prediction = prediction[y_test.nonzero()].flatten() \n",
    "    y_test = y_test[y_test.nonzero()].flatten()\n",
    "    return sqrt(mean_squared_error(prediction, y_test))\n",
    "\n",
    "def mae(prediction, y_test):\n",
    "    prediction = prediction[y_test.nonzero()].flatten()\n",
    "    y_test = y_test[y_test.nonzero()].flatten()\n",
    "    return sqrt(mean_absolute_error(prediction, y_test))"
   ]
  },
  {
   "cell_type": "code",
   "execution_count": 26,
   "id": "neutral-aruba",
   "metadata": {},
   "outputs": [
    {
     "name": "stdout",
     "output_type": "stream",
     "text": [
      "User-based CF RMSE: 0.9592160252142595\n",
      "Item-based CF RMSE: 0.9642275881885111\n",
      "\n",
      "\n",
      "User-based CF MAE: 0.9788741602997265\n",
      "Item-based CF MAE: 0.9814592652979999\n"
     ]
    }
   ],
   "source": [
    "print('User-based CF RMSE: ' + str(rmse(user_prediction, test_matrix)))\n",
    "print('Item-based CF RMSE: ' + str(rmse(item_prediction, test_matrix)))\n",
    "print(\"\\n\")\n",
    "print('User-based CF MAE: ' + str(mae(user_prediction, test_matrix)))\n",
    "print('Item-based CF MAE: ' + str(mae(item_prediction, test_matrix)))\n"
   ]
  },
  {
   "cell_type": "markdown",
   "id": "professional-chuck",
   "metadata": {},
   "source": [
    "# Model-based Collaborative Filtering\n",
    "\n",
    "Model-based Collaborative Filtering is based on matrix factorization (MF) which has received greater exposure, mainly as an unsupervised learning method for latent variable decomposition and dimensionality reduction. Matrix factorization is widely used for recommender systems where it can deal better with scalability and sparsity than Memory-based CF. \n",
    "\n",
    "The goal of MF is to learn the latent preferences of users and the latent attributes of items from known ratings (learn features that describe the characteristics of ratings) to then predict the unknown ratings through the dot product of the latent features of users and items. \n",
    "\n",
    "When you have a very sparse matrix, with a lot of dimensions, by doing matrix factorization you can restructure the user-item matrix into low-rank structure, and you can represent the matrix by the multiplication of two low-rank matrices, where the rows contain the latent vector. You fit this matrix to approximate your original matrix, as closely as possible, by multiplying the low-rank matrices together, which fills in the entries missing in the original matrix."
   ]
  },
  {
   "cell_type": "markdown",
   "id": "dated-length",
   "metadata": {},
   "source": [
    "## Model-Based CF by using singular value decomposition (SVD)\n",
    "\n",
    "SVD is a popular matrix factorization algorithm that can be used for recommender systems.\n",
    "\n",
    "Recommender systems that use matrix factorization generally follow a pattern where a matrix of ratings is factored into a product of matrices representing latent factors for the items (in this case hotels) and the users.\n",
    "\n",
    "![](4.png)\n",
    "   \n",
    "Considering the figure above, notice how the rating matrix, R, has missing values in some places. The matrix factorization algorithm uses a procedure such as gradient descent to minimize the error when predicting existing ratings using the matrix factors. Thus, an algorithm like SVD builds a recommendation system by allowing us to “fill in the gaps” in the rating matrix, predicting the ratings that each user would assign to each item in the dataset.\n",
    "\n",
    "\n",
    "Starting with an input matrix A, SVD actually factorizes the original matrix into three matrices as demonstrated in the equation below.\n",
    "\n",
    "![](eq3.png)\n",
    "  \n",
    "We can map these new matrices to the rating matrix R and the item and user factors Q and P as follows:\n",
    "\n",
    "![](5.png) \n",
    "Above equation represents the Mapping of the SVD factorization to the user and item factors.\n",
    "\n",
    "In the case of our hotel recommendation system, the SVD algorithm will represent the rating matrix as a product of matrices representing the hotel factors and user factors respectively.\n",
    "In the code below, I cross-validated an SVD model using twenty-fold cross-validation."
   ]
  },
  {
   "cell_type": "markdown",
   "id": "theoretical-estimate",
   "metadata": {},
   "source": [
    "## Transforming Data for Surprise Models\n",
    "### surprise library: http://surpriselib.com/ (we used SVD models from this library)"
   ]
  },
  {
   "cell_type": "code",
   "execution_count": 27,
   "id": "selected-vegetable",
   "metadata": {},
   "outputs": [
    {
     "name": "stdout",
     "output_type": "stream",
     "text": [
      "Processing epoch 0\n",
      "Processing epoch 1\n",
      "Processing epoch 2\n",
      "Processing epoch 3\n",
      "Processing epoch 4\n",
      "Processing epoch 5\n",
      "Processing epoch 6\n",
      "Processing epoch 7\n",
      "Processing epoch 8\n",
      "Processing epoch 9\n",
      "Processing epoch 0\n",
      "Processing epoch 1\n",
      "Processing epoch 2\n",
      "Processing epoch 3\n",
      "Processing epoch 4\n",
      "Processing epoch 5\n",
      "Processing epoch 6\n",
      "Processing epoch 7\n",
      "Processing epoch 8\n",
      "Processing epoch 9\n",
      "Processing epoch 0\n",
      "Processing epoch 1\n",
      "Processing epoch 2\n",
      "Processing epoch 3\n",
      "Processing epoch 4\n",
      "Processing epoch 5\n",
      "Processing epoch 6\n",
      "Processing epoch 7\n",
      "Processing epoch 8\n",
      "Processing epoch 9\n",
      "Processing epoch 0\n",
      "Processing epoch 1\n",
      "Processing epoch 2\n",
      "Processing epoch 3\n",
      "Processing epoch 4\n",
      "Processing epoch 5\n",
      "Processing epoch 6\n",
      "Processing epoch 7\n",
      "Processing epoch 8\n",
      "Processing epoch 9\n",
      "Processing epoch 0\n",
      "Processing epoch 1\n",
      "Processing epoch 2\n",
      "Processing epoch 3\n",
      "Processing epoch 4\n",
      "Processing epoch 5\n",
      "Processing epoch 6\n",
      "Processing epoch 7\n",
      "Processing epoch 8\n",
      "Processing epoch 9\n",
      "Evaluating RMSE, MAE of algorithm SVD on 5 split(s).\n",
      "\n",
      "                  Fold 1  Fold 2  Fold 3  Fold 4  Fold 5  Mean    Std     \n",
      "RMSE (testset)    0.9570  0.9584  0.9574  0.9567  0.9579  0.9575  0.0006  \n",
      "MAE (testset)     0.9159  0.9185  0.9166  0.9152  0.9175  0.9167  0.0012  \n",
      "Fit time          5.74    7.35    11.34   6.31    7.24    7.59    1.96    \n",
      "Test time         0.47    0.74    0.85    0.59    0.29    0.59    0.20    \n"
     ]
    },
    {
     "data": {
      "text/plain": [
       "{'test_rmse': array([0.95700923, 0.95840145, 0.9574097 , 0.95666086, 0.9578622 ]),\n",
       " 'test_mae': array([0.91586667, 0.91853333, 0.91663333, 0.9152    , 0.9175    ]),\n",
       " 'fit_time': (5.742119312286377,\n",
       "  7.3461854457855225,\n",
       "  11.339515209197998,\n",
       "  6.306199789047241,\n",
       "  7.240966320037842),\n",
       " 'test_time': (0.46773314476013184,\n",
       "  0.7395768165588379,\n",
       "  0.8525125980377197,\n",
       "  0.5906624794006348,\n",
       "  0.2918283939361572)}"
      ]
     },
     "execution_count": 27,
     "metadata": {},
     "output_type": "execute_result"
    }
   ],
   "source": [
    "from surprise.model_selection import cross_validate\n",
    "\n",
    "reader = Reader(rating_scale=(1,5))\n",
    "data= hotel_train_data[['user_id','hotel_cluster','is_booking']]\n",
    "data.columns =['User_Id', 'Item_Id', 'Rating']\n",
    "#data.head()\n",
    "data = Dataset.load_from_df(data[['User_Id', 'Item_Id', 'Rating']], reader)\n",
    "\n",
    "svd = SVD(verbose=True, n_epochs=10)\n",
    "cross_validate(svd, data, measures=['RMSE', 'MAE'], cv=5, verbose=True)"
   ]
  },
  {
   "cell_type": "markdown",
   "id": "decreased-syndicate",
   "metadata": {},
   "source": [
    "## Model-Based CF by using ALS (Alternating Least Squares)"
   ]
  },
  {
   "cell_type": "code",
   "execution_count": 28,
   "id": "fleet-gothic",
   "metadata": {},
   "outputs": [],
   "source": [
    "from pyspark.sql import SQLContext, functions, types\n",
    "from pyspark.ml.recommendation import ALS, ALSModel\n",
    "from pyspark.ml.evaluation import RegressionEvaluator\n",
    "from pyspark.ml.feature import StringIndexer\n",
    "from pyspark.sql import Row\n",
    "\n",
    "data_als= hotel_train_data[['user_id','hotel_cluster','is_booking']]\n",
    "data_als.columns =['User_Id', 'Item_Id', 'Rating']"
   ]
  },
  {
   "cell_type": "markdown",
   "id": "complicated-newspaper",
   "metadata": {},
   "source": [
    "## Resources\n",
    "\n",
    "https://medium.com/analytics-vidhya/collaborative-based-recommendation-system-using-svd-9adc5b6b3b8\n",
    "\n",
    "https://towardsdatascience.com/various-implementations-of-collaborative-filtering-100385c6dfe0",
    "\n",
    "https://blog.cambridgespark.com/nowadays-recommender-systems-are-used-to-personalize-your-experience-on-the-web-telling-you-what-120f39b89c3c\n",
    "\n",
	"http://surpriselib.com/"
	"\n",
    "https://stackoverflow.com/questions/51171974/user-item-rating-matrix-indexerror"
   ]
  },
  {
   "cell_type": "code",
   "execution_count": null,
   "id": "convinced-details",
   "metadata": {},
   "outputs": [],
   "source": []
  }
 ],
 "metadata": {
  "kernelspec": {
   "display_name": "Python 3",
   "language": "python",
   "name": "python3"
  },
  "language_info": {
   "codemirror_mode": {
    "name": "ipython",
    "version": 3
   },
   "file_extension": ".py",
   "mimetype": "text/x-python",
   "name": "python",
   "nbconvert_exporter": "python",
   "pygments_lexer": "ipython3",
   "version": "3.8.5"
  }
 },
 "nbformat": 4,
 "nbformat_minor": 5
}
