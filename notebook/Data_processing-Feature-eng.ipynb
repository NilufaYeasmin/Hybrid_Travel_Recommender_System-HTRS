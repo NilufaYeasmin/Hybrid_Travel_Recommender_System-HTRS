{
 "cells": [
  {
   "cell_type": "markdown",
   "id": "freelance-player",
   "metadata": {},
   "source": [
    "# Data Preprocessing and Feature Engineering - Expedia Hotel Data"
   ]
  },
  {
   "cell_type": "markdown",
   "id": "tamil-ottawa",
   "metadata": {},
   "source": [
    "## Importing all libraries"
   ]
  },
  {
   "cell_type": "code",
   "execution_count": 107,
   "id": "developmental-judge",
   "metadata": {},
   "outputs": [],
   "source": [
    "import numpy as np\n",
    "import pandas as pd\n",
    "import matplotlib.pyplot as plt\n",
    "import seaborn as sns\n",
    "%matplotlib inline\n",
    "\n",
    "from sklearn.cluster import KMeans\n",
    "import tensorflow as tf\n",
    "import warnings\n",
    "import math\n",
    "from math import sqrt\n",
    "import sys\n",
    "import holidays\n",
    "import datetime"
   ]
  },
  {
   "cell_type": "code",
   "execution_count": 108,
   "id": "activated-comparative",
   "metadata": {},
   "outputs": [],
   "source": [
    "train_df = pd.read_csv(\"..\\\\data\\\\train.csv\", sep=',', nrows=150000)"
   ]
  },
  {
   "cell_type": "markdown",
   "id": "passing-sierra",
   "metadata": {},
   "source": [
    "## Get familiar with data"
   ]
  },
  {
   "cell_type": "code",
   "execution_count": 109,
   "id": "extensive-toyota",
   "metadata": {},
   "outputs": [
    {
     "data": {
      "text/plain": [
       "(150000, 24)"
      ]
     },
     "execution_count": 109,
     "metadata": {},
     "output_type": "execute_result"
    }
   ],
   "source": [
    "train_df.shape"
   ]
  },
  {
   "cell_type": "code",
   "execution_count": 110,
   "id": "accompanied-storage",
   "metadata": {},
   "outputs": [
    {
     "name": "stdout",
     "output_type": "stream",
     "text": [
      "<class 'pandas.core.frame.DataFrame'>\n",
      "RangeIndex: 150000 entries, 0 to 149999\n",
      "Data columns (total 24 columns):\n",
      " #   Column                     Non-Null Count   Dtype  \n",
      "---  ------                     --------------   -----  \n",
      " 0   date_time                  150000 non-null  object \n",
      " 1   site_name                  150000 non-null  int64  \n",
      " 2   posa_continent             150000 non-null  int64  \n",
      " 3   user_location_country      150000 non-null  int64  \n",
      " 4   user_location_region       150000 non-null  int64  \n",
      " 5   user_location_city         150000 non-null  int64  \n",
      " 6   orig_destination_distance  97558 non-null   float64\n",
      " 7   user_id                    150000 non-null  int64  \n",
      " 8   is_mobile                  150000 non-null  int64  \n",
      " 9   is_package                 150000 non-null  int64  \n",
      " 10  channel                    150000 non-null  int64  \n",
      " 11  srch_ci                    149875 non-null  object \n",
      " 12  srch_co                    149875 non-null  object \n",
      " 13  srch_adults_cnt            150000 non-null  int64  \n",
      " 14  srch_children_cnt          150000 non-null  int64  \n",
      " 15  srch_rm_cnt                150000 non-null  int64  \n",
      " 16  srch_destination_id        150000 non-null  int64  \n",
      " 17  srch_destination_type_id   150000 non-null  int64  \n",
      " 18  is_booking                 150000 non-null  int64  \n",
      " 19  cnt                        150000 non-null  int64  \n",
      " 20  hotel_continent            150000 non-null  int64  \n",
      " 21  hotel_country              150000 non-null  int64  \n",
      " 22  hotel_market               150000 non-null  int64  \n",
      " 23  hotel_cluster              150000 non-null  int64  \n",
      "dtypes: float64(1), int64(20), object(3)\n",
      "memory usage: 27.5+ MB\n"
     ]
    }
   ],
   "source": [
    "train_df.info()"
   ]
  },
  {
   "cell_type": "code",
   "execution_count": 111,
   "id": "twelve-preliminary",
   "metadata": {},
   "outputs": [
    {
     "data": {
      "text/html": [
       "<div>\n",
       "<style scoped>\n",
       "    .dataframe tbody tr th:only-of-type {\n",
       "        vertical-align: middle;\n",
       "    }\n",
       "\n",
       "    .dataframe tbody tr th {\n",
       "        vertical-align: top;\n",
       "    }\n",
       "\n",
       "    .dataframe thead th {\n",
       "        text-align: right;\n",
       "    }\n",
       "</style>\n",
       "<table border=\"1\" class=\"dataframe\">\n",
       "  <thead>\n",
       "    <tr style=\"text-align: right;\">\n",
       "      <th></th>\n",
       "      <th>site_name</th>\n",
       "      <th>posa_continent</th>\n",
       "      <th>user_location_country</th>\n",
       "      <th>user_location_region</th>\n",
       "      <th>user_location_city</th>\n",
       "      <th>orig_destination_distance</th>\n",
       "      <th>user_id</th>\n",
       "      <th>is_mobile</th>\n",
       "      <th>is_package</th>\n",
       "      <th>channel</th>\n",
       "      <th>...</th>\n",
       "      <th>srch_children_cnt</th>\n",
       "      <th>srch_rm_cnt</th>\n",
       "      <th>srch_destination_id</th>\n",
       "      <th>srch_destination_type_id</th>\n",
       "      <th>is_booking</th>\n",
       "      <th>cnt</th>\n",
       "      <th>hotel_continent</th>\n",
       "      <th>hotel_country</th>\n",
       "      <th>hotel_market</th>\n",
       "      <th>hotel_cluster</th>\n",
       "    </tr>\n",
       "  </thead>\n",
       "  <tbody>\n",
       "    <tr>\n",
       "      <th>count</th>\n",
       "      <td>150000.000000</td>\n",
       "      <td>150000.000000</td>\n",
       "      <td>150000.000000</td>\n",
       "      <td>150000.000000</td>\n",
       "      <td>150000.000000</td>\n",
       "      <td>97558.000000</td>\n",
       "      <td>150000.000000</td>\n",
       "      <td>150000.000000</td>\n",
       "      <td>150000.000000</td>\n",
       "      <td>150000.000000</td>\n",
       "      <td>...</td>\n",
       "      <td>150000.000000</td>\n",
       "      <td>150000.000000</td>\n",
       "      <td>150000.000000</td>\n",
       "      <td>150000.000000</td>\n",
       "      <td>150000.000000</td>\n",
       "      <td>150000.000000</td>\n",
       "      <td>150000.000000</td>\n",
       "      <td>150000.000000</td>\n",
       "      <td>150000.000000</td>\n",
       "      <td>150000.000000</td>\n",
       "    </tr>\n",
       "    <tr>\n",
       "      <th>mean</th>\n",
       "      <td>9.009727</td>\n",
       "      <td>2.659393</td>\n",
       "      <td>85.127780</td>\n",
       "      <td>317.253600</td>\n",
       "      <td>27947.279967</td>\n",
       "      <td>1900.781949</td>\n",
       "      <td>290144.629133</td>\n",
       "      <td>0.139120</td>\n",
       "      <td>0.255960</td>\n",
       "      <td>5.754607</td>\n",
       "      <td>...</td>\n",
       "      <td>0.323733</td>\n",
       "      <td>1.107947</td>\n",
       "      <td>14540.954240</td>\n",
       "      <td>2.603400</td>\n",
       "      <td>0.083253</td>\n",
       "      <td>1.479433</td>\n",
       "      <td>3.172680</td>\n",
       "      <td>80.073087</td>\n",
       "      <td>601.395320</td>\n",
       "      <td>49.581393</td>\n",
       "    </tr>\n",
       "    <tr>\n",
       "      <th>std</th>\n",
       "      <td>12.101906</td>\n",
       "      <td>0.739953</td>\n",
       "      <td>54.207151</td>\n",
       "      <td>210.574785</td>\n",
       "      <td>16798.928877</td>\n",
       "      <td>2117.639777</td>\n",
       "      <td>164435.764074</td>\n",
       "      <td>0.346073</td>\n",
       "      <td>0.436401</td>\n",
       "      <td>3.772542</td>\n",
       "      <td>...</td>\n",
       "      <td>0.719454</td>\n",
       "      <td>0.439472</td>\n",
       "      <td>10972.835109</td>\n",
       "      <td>2.166473</td>\n",
       "      <td>0.276266</td>\n",
       "      <td>1.207698</td>\n",
       "      <td>1.621583</td>\n",
       "      <td>55.280074</td>\n",
       "      <td>507.199806</td>\n",
       "      <td>28.960163</td>\n",
       "    </tr>\n",
       "    <tr>\n",
       "      <th>min</th>\n",
       "      <td>2.000000</td>\n",
       "      <td>0.000000</td>\n",
       "      <td>0.000000</td>\n",
       "      <td>0.000000</td>\n",
       "      <td>3.000000</td>\n",
       "      <td>0.005600</td>\n",
       "      <td>12.000000</td>\n",
       "      <td>0.000000</td>\n",
       "      <td>0.000000</td>\n",
       "      <td>0.000000</td>\n",
       "      <td>...</td>\n",
       "      <td>0.000000</td>\n",
       "      <td>0.000000</td>\n",
       "      <td>8.000000</td>\n",
       "      <td>1.000000</td>\n",
       "      <td>0.000000</td>\n",
       "      <td>1.000000</td>\n",
       "      <td>0.000000</td>\n",
       "      <td>0.000000</td>\n",
       "      <td>0.000000</td>\n",
       "      <td>0.000000</td>\n",
       "    </tr>\n",
       "    <tr>\n",
       "      <th>25%</th>\n",
       "      <td>2.000000</td>\n",
       "      <td>3.000000</td>\n",
       "      <td>66.000000</td>\n",
       "      <td>174.000000</td>\n",
       "      <td>13416.000000</td>\n",
       "      <td>304.476300</td>\n",
       "      <td>144246.000000</td>\n",
       "      <td>0.000000</td>\n",
       "      <td>0.000000</td>\n",
       "      <td>2.000000</td>\n",
       "      <td>...</td>\n",
       "      <td>0.000000</td>\n",
       "      <td>1.000000</td>\n",
       "      <td>8267.000000</td>\n",
       "      <td>1.000000</td>\n",
       "      <td>0.000000</td>\n",
       "      <td>1.000000</td>\n",
       "      <td>2.000000</td>\n",
       "      <td>50.000000</td>\n",
       "      <td>191.000000</td>\n",
       "      <td>25.000000</td>\n",
       "    </tr>\n",
       "    <tr>\n",
       "      <th>50%</th>\n",
       "      <td>2.000000</td>\n",
       "      <td>3.000000</td>\n",
       "      <td>66.000000</td>\n",
       "      <td>314.000000</td>\n",
       "      <td>27655.000000</td>\n",
       "      <td>1096.332950</td>\n",
       "      <td>301357.000000</td>\n",
       "      <td>0.000000</td>\n",
       "      <td>0.000000</td>\n",
       "      <td>9.000000</td>\n",
       "      <td>...</td>\n",
       "      <td>0.000000</td>\n",
       "      <td>1.000000</td>\n",
       "      <td>11319.000000</td>\n",
       "      <td>1.000000</td>\n",
       "      <td>0.000000</td>\n",
       "      <td>1.000000</td>\n",
       "      <td>2.000000</td>\n",
       "      <td>50.000000</td>\n",
       "      <td>599.000000</td>\n",
       "      <td>49.000000</td>\n",
       "    </tr>\n",
       "    <tr>\n",
       "      <th>75%</th>\n",
       "      <td>11.000000</td>\n",
       "      <td>3.000000</td>\n",
       "      <td>69.000000</td>\n",
       "      <td>395.000000</td>\n",
       "      <td>42881.000000</td>\n",
       "      <td>2533.659400</td>\n",
       "      <td>426575.000000</td>\n",
       "      <td>0.000000</td>\n",
       "      <td>1.000000</td>\n",
       "      <td>9.000000</td>\n",
       "      <td>...</td>\n",
       "      <td>0.000000</td>\n",
       "      <td>1.000000</td>\n",
       "      <td>18881.000000</td>\n",
       "      <td>5.000000</td>\n",
       "      <td>0.000000</td>\n",
       "      <td>2.000000</td>\n",
       "      <td>4.000000</td>\n",
       "      <td>105.000000</td>\n",
       "      <td>701.000000</td>\n",
       "      <td>73.000000</td>\n",
       "    </tr>\n",
       "    <tr>\n",
       "      <th>max</th>\n",
       "      <td>53.000000</td>\n",
       "      <td>4.000000</td>\n",
       "      <td>239.000000</td>\n",
       "      <td>1025.000000</td>\n",
       "      <td>56495.000000</td>\n",
       "      <td>11641.224200</td>\n",
       "      <td>574353.000000</td>\n",
       "      <td>1.000000</td>\n",
       "      <td>1.000000</td>\n",
       "      <td>10.000000</td>\n",
       "      <td>...</td>\n",
       "      <td>9.000000</td>\n",
       "      <td>8.000000</td>\n",
       "      <td>65035.000000</td>\n",
       "      <td>9.000000</td>\n",
       "      <td>1.000000</td>\n",
       "      <td>59.000000</td>\n",
       "      <td>6.000000</td>\n",
       "      <td>212.000000</td>\n",
       "      <td>2117.000000</td>\n",
       "      <td>99.000000</td>\n",
       "    </tr>\n",
       "  </tbody>\n",
       "</table>\n",
       "<p>8 rows × 21 columns</p>\n",
       "</div>"
      ],
      "text/plain": [
       "           site_name  posa_continent  user_location_country  \\\n",
       "count  150000.000000   150000.000000          150000.000000   \n",
       "mean        9.009727        2.659393              85.127780   \n",
       "std        12.101906        0.739953              54.207151   \n",
       "min         2.000000        0.000000               0.000000   \n",
       "25%         2.000000        3.000000              66.000000   \n",
       "50%         2.000000        3.000000              66.000000   \n",
       "75%        11.000000        3.000000              69.000000   \n",
       "max        53.000000        4.000000             239.000000   \n",
       "\n",
       "       user_location_region  user_location_city  orig_destination_distance  \\\n",
       "count         150000.000000       150000.000000               97558.000000   \n",
       "mean             317.253600        27947.279967                1900.781949   \n",
       "std              210.574785        16798.928877                2117.639777   \n",
       "min                0.000000            3.000000                   0.005600   \n",
       "25%              174.000000        13416.000000                 304.476300   \n",
       "50%              314.000000        27655.000000                1096.332950   \n",
       "75%              395.000000        42881.000000                2533.659400   \n",
       "max             1025.000000        56495.000000               11641.224200   \n",
       "\n",
       "             user_id      is_mobile     is_package        channel  ...  \\\n",
       "count  150000.000000  150000.000000  150000.000000  150000.000000  ...   \n",
       "mean   290144.629133       0.139120       0.255960       5.754607  ...   \n",
       "std    164435.764074       0.346073       0.436401       3.772542  ...   \n",
       "min        12.000000       0.000000       0.000000       0.000000  ...   \n",
       "25%    144246.000000       0.000000       0.000000       2.000000  ...   \n",
       "50%    301357.000000       0.000000       0.000000       9.000000  ...   \n",
       "75%    426575.000000       0.000000       1.000000       9.000000  ...   \n",
       "max    574353.000000       1.000000       1.000000      10.000000  ...   \n",
       "\n",
       "       srch_children_cnt    srch_rm_cnt  srch_destination_id  \\\n",
       "count      150000.000000  150000.000000        150000.000000   \n",
       "mean            0.323733       1.107947         14540.954240   \n",
       "std             0.719454       0.439472         10972.835109   \n",
       "min             0.000000       0.000000             8.000000   \n",
       "25%             0.000000       1.000000          8267.000000   \n",
       "50%             0.000000       1.000000         11319.000000   \n",
       "75%             0.000000       1.000000         18881.000000   \n",
       "max             9.000000       8.000000         65035.000000   \n",
       "\n",
       "       srch_destination_type_id     is_booking            cnt  \\\n",
       "count             150000.000000  150000.000000  150000.000000   \n",
       "mean                   2.603400       0.083253       1.479433   \n",
       "std                    2.166473       0.276266       1.207698   \n",
       "min                    1.000000       0.000000       1.000000   \n",
       "25%                    1.000000       0.000000       1.000000   \n",
       "50%                    1.000000       0.000000       1.000000   \n",
       "75%                    5.000000       0.000000       2.000000   \n",
       "max                    9.000000       1.000000      59.000000   \n",
       "\n",
       "       hotel_continent  hotel_country   hotel_market  hotel_cluster  \n",
       "count    150000.000000  150000.000000  150000.000000  150000.000000  \n",
       "mean          3.172680      80.073087     601.395320      49.581393  \n",
       "std           1.621583      55.280074     507.199806      28.960163  \n",
       "min           0.000000       0.000000       0.000000       0.000000  \n",
       "25%           2.000000      50.000000     191.000000      25.000000  \n",
       "50%           2.000000      50.000000     599.000000      49.000000  \n",
       "75%           4.000000     105.000000     701.000000      73.000000  \n",
       "max           6.000000     212.000000    2117.000000      99.000000  \n",
       "\n",
       "[8 rows x 21 columns]"
      ]
     },
     "execution_count": 111,
     "metadata": {},
     "output_type": "execute_result"
    }
   ],
   "source": [
    "train_df.describe()"
   ]
  },
  {
   "cell_type": "code",
   "execution_count": 112,
   "id": "located-doctor",
   "metadata": {},
   "outputs": [
    {
     "data": {
      "text/plain": [
       "(150000, 24)"
      ]
     },
     "execution_count": 112,
     "metadata": {},
     "output_type": "execute_result"
    }
   ],
   "source": [
    "train_df.shape"
   ]
  },
  {
   "cell_type": "code",
   "execution_count": 113,
   "id": "significant-beach",
   "metadata": {},
   "outputs": [
    {
     "data": {
      "text/html": [
       "<div>\n",
       "<style scoped>\n",
       "    .dataframe tbody tr th:only-of-type {\n",
       "        vertical-align: middle;\n",
       "    }\n",
       "\n",
       "    .dataframe tbody tr th {\n",
       "        vertical-align: top;\n",
       "    }\n",
       "\n",
       "    .dataframe thead th {\n",
       "        text-align: right;\n",
       "    }\n",
       "</style>\n",
       "<table border=\"1\" class=\"dataframe\">\n",
       "  <thead>\n",
       "    <tr style=\"text-align: right;\">\n",
       "      <th></th>\n",
       "      <th>date_time</th>\n",
       "      <th>site_name</th>\n",
       "      <th>posa_continent</th>\n",
       "      <th>user_location_country</th>\n",
       "      <th>user_location_region</th>\n",
       "      <th>user_location_city</th>\n",
       "      <th>orig_destination_distance</th>\n",
       "      <th>user_id</th>\n",
       "      <th>is_mobile</th>\n",
       "      <th>is_package</th>\n",
       "      <th>...</th>\n",
       "      <th>srch_children_cnt</th>\n",
       "      <th>srch_rm_cnt</th>\n",
       "      <th>srch_destination_id</th>\n",
       "      <th>srch_destination_type_id</th>\n",
       "      <th>is_booking</th>\n",
       "      <th>cnt</th>\n",
       "      <th>hotel_continent</th>\n",
       "      <th>hotel_country</th>\n",
       "      <th>hotel_market</th>\n",
       "      <th>hotel_cluster</th>\n",
       "    </tr>\n",
       "  </thead>\n",
       "  <tbody>\n",
       "    <tr>\n",
       "      <th>0</th>\n",
       "      <td>2014-08-11 07:46:59</td>\n",
       "      <td>2</td>\n",
       "      <td>3</td>\n",
       "      <td>66</td>\n",
       "      <td>348</td>\n",
       "      <td>48862</td>\n",
       "      <td>2234.2641</td>\n",
       "      <td>12</td>\n",
       "      <td>0</td>\n",
       "      <td>1</td>\n",
       "      <td>...</td>\n",
       "      <td>0</td>\n",
       "      <td>1</td>\n",
       "      <td>8250</td>\n",
       "      <td>1</td>\n",
       "      <td>0</td>\n",
       "      <td>3</td>\n",
       "      <td>2</td>\n",
       "      <td>50</td>\n",
       "      <td>628</td>\n",
       "      <td>1</td>\n",
       "    </tr>\n",
       "    <tr>\n",
       "      <th>1</th>\n",
       "      <td>2014-08-11 08:22:12</td>\n",
       "      <td>2</td>\n",
       "      <td>3</td>\n",
       "      <td>66</td>\n",
       "      <td>348</td>\n",
       "      <td>48862</td>\n",
       "      <td>2234.2641</td>\n",
       "      <td>12</td>\n",
       "      <td>0</td>\n",
       "      <td>1</td>\n",
       "      <td>...</td>\n",
       "      <td>0</td>\n",
       "      <td>1</td>\n",
       "      <td>8250</td>\n",
       "      <td>1</td>\n",
       "      <td>1</td>\n",
       "      <td>1</td>\n",
       "      <td>2</td>\n",
       "      <td>50</td>\n",
       "      <td>628</td>\n",
       "      <td>1</td>\n",
       "    </tr>\n",
       "    <tr>\n",
       "      <th>2</th>\n",
       "      <td>2014-08-11 08:24:33</td>\n",
       "      <td>2</td>\n",
       "      <td>3</td>\n",
       "      <td>66</td>\n",
       "      <td>348</td>\n",
       "      <td>48862</td>\n",
       "      <td>2234.2641</td>\n",
       "      <td>12</td>\n",
       "      <td>0</td>\n",
       "      <td>0</td>\n",
       "      <td>...</td>\n",
       "      <td>0</td>\n",
       "      <td>1</td>\n",
       "      <td>8250</td>\n",
       "      <td>1</td>\n",
       "      <td>0</td>\n",
       "      <td>1</td>\n",
       "      <td>2</td>\n",
       "      <td>50</td>\n",
       "      <td>628</td>\n",
       "      <td>1</td>\n",
       "    </tr>\n",
       "    <tr>\n",
       "      <th>3</th>\n",
       "      <td>2014-08-09 18:05:16</td>\n",
       "      <td>2</td>\n",
       "      <td>3</td>\n",
       "      <td>66</td>\n",
       "      <td>442</td>\n",
       "      <td>35390</td>\n",
       "      <td>913.1932</td>\n",
       "      <td>93</td>\n",
       "      <td>0</td>\n",
       "      <td>0</td>\n",
       "      <td>...</td>\n",
       "      <td>0</td>\n",
       "      <td>1</td>\n",
       "      <td>14984</td>\n",
       "      <td>1</td>\n",
       "      <td>0</td>\n",
       "      <td>1</td>\n",
       "      <td>2</td>\n",
       "      <td>50</td>\n",
       "      <td>1457</td>\n",
       "      <td>80</td>\n",
       "    </tr>\n",
       "    <tr>\n",
       "      <th>4</th>\n",
       "      <td>2014-08-09 18:08:18</td>\n",
       "      <td>2</td>\n",
       "      <td>3</td>\n",
       "      <td>66</td>\n",
       "      <td>442</td>\n",
       "      <td>35390</td>\n",
       "      <td>913.6259</td>\n",
       "      <td>93</td>\n",
       "      <td>0</td>\n",
       "      <td>0</td>\n",
       "      <td>...</td>\n",
       "      <td>0</td>\n",
       "      <td>1</td>\n",
       "      <td>14984</td>\n",
       "      <td>1</td>\n",
       "      <td>0</td>\n",
       "      <td>1</td>\n",
       "      <td>2</td>\n",
       "      <td>50</td>\n",
       "      <td>1457</td>\n",
       "      <td>21</td>\n",
       "    </tr>\n",
       "  </tbody>\n",
       "</table>\n",
       "<p>5 rows × 24 columns</p>\n",
       "</div>"
      ],
      "text/plain": [
       "             date_time  site_name  posa_continent  user_location_country  \\\n",
       "0  2014-08-11 07:46:59          2               3                     66   \n",
       "1  2014-08-11 08:22:12          2               3                     66   \n",
       "2  2014-08-11 08:24:33          2               3                     66   \n",
       "3  2014-08-09 18:05:16          2               3                     66   \n",
       "4  2014-08-09 18:08:18          2               3                     66   \n",
       "\n",
       "   user_location_region  user_location_city  orig_destination_distance  \\\n",
       "0                   348               48862                  2234.2641   \n",
       "1                   348               48862                  2234.2641   \n",
       "2                   348               48862                  2234.2641   \n",
       "3                   442               35390                   913.1932   \n",
       "4                   442               35390                   913.6259   \n",
       "\n",
       "   user_id  is_mobile  is_package  ...  srch_children_cnt srch_rm_cnt  \\\n",
       "0       12          0           1  ...                  0           1   \n",
       "1       12          0           1  ...                  0           1   \n",
       "2       12          0           0  ...                  0           1   \n",
       "3       93          0           0  ...                  0           1   \n",
       "4       93          0           0  ...                  0           1   \n",
       "\n",
       "  srch_destination_id  srch_destination_type_id  is_booking  cnt  \\\n",
       "0                8250                         1           0    3   \n",
       "1                8250                         1           1    1   \n",
       "2                8250                         1           0    1   \n",
       "3               14984                         1           0    1   \n",
       "4               14984                         1           0    1   \n",
       "\n",
       "   hotel_continent  hotel_country  hotel_market  hotel_cluster  \n",
       "0                2             50           628              1  \n",
       "1                2             50           628              1  \n",
       "2                2             50           628              1  \n",
       "3                2             50          1457             80  \n",
       "4                2             50          1457             21  \n",
       "\n",
       "[5 rows x 24 columns]"
      ]
     },
     "execution_count": 113,
     "metadata": {},
     "output_type": "execute_result"
    }
   ],
   "source": [
    "train_df.head()"
   ]
  },
  {
   "cell_type": "code",
   "execution_count": 114,
   "id": "freelance-vietnamese",
   "metadata": {},
   "outputs": [],
   "source": [
    "train_booking_only = train_df.query('is_booking==1')\n",
    "#train.to_csv ('Desktop\\only_book1.csv', index = False, header=True)"
   ]
  },
  {
   "cell_type": "code",
   "execution_count": 115,
   "id": "deadly-perth",
   "metadata": {},
   "outputs": [
    {
     "data": {
      "text/html": [
       "<div>\n",
       "<style scoped>\n",
       "    .dataframe tbody tr th:only-of-type {\n",
       "        vertical-align: middle;\n",
       "    }\n",
       "\n",
       "    .dataframe tbody tr th {\n",
       "        vertical-align: top;\n",
       "    }\n",
       "\n",
       "    .dataframe thead th {\n",
       "        text-align: right;\n",
       "    }\n",
       "</style>\n",
       "<table border=\"1\" class=\"dataframe\">\n",
       "  <thead>\n",
       "    <tr style=\"text-align: right;\">\n",
       "      <th></th>\n",
       "      <th>date_time</th>\n",
       "      <th>site_name</th>\n",
       "      <th>posa_continent</th>\n",
       "      <th>user_location_country</th>\n",
       "      <th>user_location_region</th>\n",
       "      <th>user_location_city</th>\n",
       "      <th>orig_destination_distance</th>\n",
       "      <th>user_id</th>\n",
       "      <th>is_mobile</th>\n",
       "      <th>is_package</th>\n",
       "      <th>...</th>\n",
       "      <th>srch_children_cnt</th>\n",
       "      <th>srch_rm_cnt</th>\n",
       "      <th>srch_destination_id</th>\n",
       "      <th>srch_destination_type_id</th>\n",
       "      <th>is_booking</th>\n",
       "      <th>cnt</th>\n",
       "      <th>hotel_continent</th>\n",
       "      <th>hotel_country</th>\n",
       "      <th>hotel_market</th>\n",
       "      <th>hotel_cluster</th>\n",
       "    </tr>\n",
       "  </thead>\n",
       "  <tbody>\n",
       "    <tr>\n",
       "      <th>1</th>\n",
       "      <td>2014-08-11 08:22:12</td>\n",
       "      <td>2</td>\n",
       "      <td>3</td>\n",
       "      <td>66</td>\n",
       "      <td>348</td>\n",
       "      <td>48862</td>\n",
       "      <td>2234.2641</td>\n",
       "      <td>12</td>\n",
       "      <td>0</td>\n",
       "      <td>1</td>\n",
       "      <td>...</td>\n",
       "      <td>0</td>\n",
       "      <td>1</td>\n",
       "      <td>8250</td>\n",
       "      <td>1</td>\n",
       "      <td>1</td>\n",
       "      <td>1</td>\n",
       "      <td>2</td>\n",
       "      <td>50</td>\n",
       "      <td>628</td>\n",
       "      <td>1</td>\n",
       "    </tr>\n",
       "    <tr>\n",
       "      <th>20</th>\n",
       "      <td>2014-02-27 18:01:32</td>\n",
       "      <td>2</td>\n",
       "      <td>3</td>\n",
       "      <td>66</td>\n",
       "      <td>318</td>\n",
       "      <td>52078</td>\n",
       "      <td>NaN</td>\n",
       "      <td>756</td>\n",
       "      <td>0</td>\n",
       "      <td>1</td>\n",
       "      <td>...</td>\n",
       "      <td>0</td>\n",
       "      <td>1</td>\n",
       "      <td>8291</td>\n",
       "      <td>1</td>\n",
       "      <td>1</td>\n",
       "      <td>1</td>\n",
       "      <td>2</td>\n",
       "      <td>50</td>\n",
       "      <td>191</td>\n",
       "      <td>2</td>\n",
       "    </tr>\n",
       "    <tr>\n",
       "      <th>27</th>\n",
       "      <td>2013-06-15 15:38:05</td>\n",
       "      <td>30</td>\n",
       "      <td>4</td>\n",
       "      <td>195</td>\n",
       "      <td>548</td>\n",
       "      <td>56440</td>\n",
       "      <td>NaN</td>\n",
       "      <td>1048</td>\n",
       "      <td>0</td>\n",
       "      <td>1</td>\n",
       "      <td>...</td>\n",
       "      <td>0</td>\n",
       "      <td>1</td>\n",
       "      <td>1385</td>\n",
       "      <td>1</td>\n",
       "      <td>1</td>\n",
       "      <td>1</td>\n",
       "      <td>0</td>\n",
       "      <td>185</td>\n",
       "      <td>185</td>\n",
       "      <td>58</td>\n",
       "    </tr>\n",
       "    <tr>\n",
       "      <th>72</th>\n",
       "      <td>2014-11-23 18:02:20</td>\n",
       "      <td>30</td>\n",
       "      <td>4</td>\n",
       "      <td>195</td>\n",
       "      <td>991</td>\n",
       "      <td>47725</td>\n",
       "      <td>NaN</td>\n",
       "      <td>1048</td>\n",
       "      <td>0</td>\n",
       "      <td>0</td>\n",
       "      <td>...</td>\n",
       "      <td>0</td>\n",
       "      <td>1</td>\n",
       "      <td>8803</td>\n",
       "      <td>1</td>\n",
       "      <td>1</td>\n",
       "      <td>1</td>\n",
       "      <td>3</td>\n",
       "      <td>151</td>\n",
       "      <td>69</td>\n",
       "      <td>36</td>\n",
       "    </tr>\n",
       "    <tr>\n",
       "      <th>79</th>\n",
       "      <td>2014-01-03 16:30:17</td>\n",
       "      <td>2</td>\n",
       "      <td>3</td>\n",
       "      <td>66</td>\n",
       "      <td>462</td>\n",
       "      <td>41898</td>\n",
       "      <td>2454.8588</td>\n",
       "      <td>1482</td>\n",
       "      <td>0</td>\n",
       "      <td>1</td>\n",
       "      <td>...</td>\n",
       "      <td>0</td>\n",
       "      <td>2</td>\n",
       "      <td>12009</td>\n",
       "      <td>1</td>\n",
       "      <td>1</td>\n",
       "      <td>1</td>\n",
       "      <td>2</td>\n",
       "      <td>50</td>\n",
       "      <td>680</td>\n",
       "      <td>95</td>\n",
       "    </tr>\n",
       "    <tr>\n",
       "      <th>...</th>\n",
       "      <td>...</td>\n",
       "      <td>...</td>\n",
       "      <td>...</td>\n",
       "      <td>...</td>\n",
       "      <td>...</td>\n",
       "      <td>...</td>\n",
       "      <td>...</td>\n",
       "      <td>...</td>\n",
       "      <td>...</td>\n",
       "      <td>...</td>\n",
       "      <td>...</td>\n",
       "      <td>...</td>\n",
       "      <td>...</td>\n",
       "      <td>...</td>\n",
       "      <td>...</td>\n",
       "      <td>...</td>\n",
       "      <td>...</td>\n",
       "      <td>...</td>\n",
       "      <td>...</td>\n",
       "      <td>...</td>\n",
       "      <td>...</td>\n",
       "    </tr>\n",
       "    <tr>\n",
       "      <th>149932</th>\n",
       "      <td>2014-12-08 20:53:02</td>\n",
       "      <td>2</td>\n",
       "      <td>3</td>\n",
       "      <td>66</td>\n",
       "      <td>174</td>\n",
       "      <td>24103</td>\n",
       "      <td>346.3627</td>\n",
       "      <td>574091</td>\n",
       "      <td>0</td>\n",
       "      <td>0</td>\n",
       "      <td>...</td>\n",
       "      <td>0</td>\n",
       "      <td>2</td>\n",
       "      <td>8279</td>\n",
       "      <td>1</td>\n",
       "      <td>1</td>\n",
       "      <td>1</td>\n",
       "      <td>2</td>\n",
       "      <td>50</td>\n",
       "      <td>1230</td>\n",
       "      <td>21</td>\n",
       "    </tr>\n",
       "    <tr>\n",
       "      <th>149946</th>\n",
       "      <td>2014-12-08 21:51:42</td>\n",
       "      <td>2</td>\n",
       "      <td>3</td>\n",
       "      <td>66</td>\n",
       "      <td>174</td>\n",
       "      <td>24103</td>\n",
       "      <td>332.6589</td>\n",
       "      <td>574091</td>\n",
       "      <td>0</td>\n",
       "      <td>0</td>\n",
       "      <td>...</td>\n",
       "      <td>0</td>\n",
       "      <td>2</td>\n",
       "      <td>12267</td>\n",
       "      <td>6</td>\n",
       "      <td>1</td>\n",
       "      <td>1</td>\n",
       "      <td>2</td>\n",
       "      <td>50</td>\n",
       "      <td>1230</td>\n",
       "      <td>19</td>\n",
       "    </tr>\n",
       "    <tr>\n",
       "      <th>149973</th>\n",
       "      <td>2014-12-23 00:04:31</td>\n",
       "      <td>2</td>\n",
       "      <td>3</td>\n",
       "      <td>66</td>\n",
       "      <td>174</td>\n",
       "      <td>7243</td>\n",
       "      <td>1354.4582</td>\n",
       "      <td>574091</td>\n",
       "      <td>0</td>\n",
       "      <td>0</td>\n",
       "      <td>...</td>\n",
       "      <td>0</td>\n",
       "      <td>1</td>\n",
       "      <td>8243</td>\n",
       "      <td>1</td>\n",
       "      <td>1</td>\n",
       "      <td>1</td>\n",
       "      <td>2</td>\n",
       "      <td>50</td>\n",
       "      <td>409</td>\n",
       "      <td>49</td>\n",
       "    </tr>\n",
       "    <tr>\n",
       "      <th>149974</th>\n",
       "      <td>2014-12-23 00:09:18</td>\n",
       "      <td>2</td>\n",
       "      <td>3</td>\n",
       "      <td>66</td>\n",
       "      <td>174</td>\n",
       "      <td>7243</td>\n",
       "      <td>1354.4582</td>\n",
       "      <td>574091</td>\n",
       "      <td>0</td>\n",
       "      <td>0</td>\n",
       "      <td>...</td>\n",
       "      <td>0</td>\n",
       "      <td>1</td>\n",
       "      <td>8243</td>\n",
       "      <td>1</td>\n",
       "      <td>1</td>\n",
       "      <td>1</td>\n",
       "      <td>2</td>\n",
       "      <td>50</td>\n",
       "      <td>409</td>\n",
       "      <td>49</td>\n",
       "    </tr>\n",
       "    <tr>\n",
       "      <th>149999</th>\n",
       "      <td>2014-03-01 13:03:34</td>\n",
       "      <td>2</td>\n",
       "      <td>3</td>\n",
       "      <td>66</td>\n",
       "      <td>462</td>\n",
       "      <td>11417</td>\n",
       "      <td>992.5849</td>\n",
       "      <td>574353</td>\n",
       "      <td>0</td>\n",
       "      <td>0</td>\n",
       "      <td>...</td>\n",
       "      <td>1</td>\n",
       "      <td>1</td>\n",
       "      <td>12132</td>\n",
       "      <td>1</td>\n",
       "      <td>1</td>\n",
       "      <td>1</td>\n",
       "      <td>2</td>\n",
       "      <td>50</td>\n",
       "      <td>366</td>\n",
       "      <td>18</td>\n",
       "    </tr>\n",
       "  </tbody>\n",
       "</table>\n",
       "<p>12488 rows × 24 columns</p>\n",
       "</div>"
      ],
      "text/plain": [
       "                  date_time  site_name  posa_continent  user_location_country  \\\n",
       "1       2014-08-11 08:22:12          2               3                     66   \n",
       "20      2014-02-27 18:01:32          2               3                     66   \n",
       "27      2013-06-15 15:38:05         30               4                    195   \n",
       "72      2014-11-23 18:02:20         30               4                    195   \n",
       "79      2014-01-03 16:30:17          2               3                     66   \n",
       "...                     ...        ...             ...                    ...   \n",
       "149932  2014-12-08 20:53:02          2               3                     66   \n",
       "149946  2014-12-08 21:51:42          2               3                     66   \n",
       "149973  2014-12-23 00:04:31          2               3                     66   \n",
       "149974  2014-12-23 00:09:18          2               3                     66   \n",
       "149999  2014-03-01 13:03:34          2               3                     66   \n",
       "\n",
       "        user_location_region  user_location_city  orig_destination_distance  \\\n",
       "1                        348               48862                  2234.2641   \n",
       "20                       318               52078                        NaN   \n",
       "27                       548               56440                        NaN   \n",
       "72                       991               47725                        NaN   \n",
       "79                       462               41898                  2454.8588   \n",
       "...                      ...                 ...                        ...   \n",
       "149932                   174               24103                   346.3627   \n",
       "149946                   174               24103                   332.6589   \n",
       "149973                   174                7243                  1354.4582   \n",
       "149974                   174                7243                  1354.4582   \n",
       "149999                   462               11417                   992.5849   \n",
       "\n",
       "        user_id  is_mobile  is_package  ...  srch_children_cnt srch_rm_cnt  \\\n",
       "1            12          0           1  ...                  0           1   \n",
       "20          756          0           1  ...                  0           1   \n",
       "27         1048          0           1  ...                  0           1   \n",
       "72         1048          0           0  ...                  0           1   \n",
       "79         1482          0           1  ...                  0           2   \n",
       "...         ...        ...         ...  ...                ...         ...   \n",
       "149932   574091          0           0  ...                  0           2   \n",
       "149946   574091          0           0  ...                  0           2   \n",
       "149973   574091          0           0  ...                  0           1   \n",
       "149974   574091          0           0  ...                  0           1   \n",
       "149999   574353          0           0  ...                  1           1   \n",
       "\n",
       "       srch_destination_id  srch_destination_type_id  is_booking  cnt  \\\n",
       "1                     8250                         1           1    1   \n",
       "20                    8291                         1           1    1   \n",
       "27                    1385                         1           1    1   \n",
       "72                    8803                         1           1    1   \n",
       "79                   12009                         1           1    1   \n",
       "...                    ...                       ...         ...  ...   \n",
       "149932                8279                         1           1    1   \n",
       "149946               12267                         6           1    1   \n",
       "149973                8243                         1           1    1   \n",
       "149974                8243                         1           1    1   \n",
       "149999               12132                         1           1    1   \n",
       "\n",
       "        hotel_continent  hotel_country  hotel_market  hotel_cluster  \n",
       "1                     2             50           628              1  \n",
       "20                    2             50           191              2  \n",
       "27                    0            185           185             58  \n",
       "72                    3            151            69             36  \n",
       "79                    2             50           680             95  \n",
       "...                 ...            ...           ...            ...  \n",
       "149932                2             50          1230             21  \n",
       "149946                2             50          1230             19  \n",
       "149973                2             50           409             49  \n",
       "149974                2             50           409             49  \n",
       "149999                2             50           366             18  \n",
       "\n",
       "[12488 rows x 24 columns]"
      ]
     },
     "execution_count": 115,
     "metadata": {},
     "output_type": "execute_result"
    }
   ],
   "source": [
    "train_booking_only"
   ]
  },
  {
   "cell_type": "markdown",
   "id": "wrong-symposium",
   "metadata": {},
   "source": [
    "## Feature selections and clean"
   ]
  },
  {
   "cell_type": "markdown",
   "id": "equal-latin",
   "metadata": {},
   "source": [
    "## Find the missing columns and their types"
   ]
  },
  {
   "cell_type": "code",
   "execution_count": 116,
   "id": "polish-engagement",
   "metadata": {},
   "outputs": [],
   "source": [
    "df_dtypes = pd.merge(train_df.isnull().sum(axis = 0).sort_values().to_frame('missing_value').reset_index(),\n",
    "         train_df.dtypes.to_frame('feature_type').reset_index(),\n",
    "         on = 'index',\n",
    "         how = 'inner')"
   ]
  },
  {
   "cell_type": "code",
   "execution_count": 117,
   "id": "fossil-values",
   "metadata": {},
   "outputs": [
    {
     "data": {
      "text/html": [
       "<div>\n",
       "<style scoped>\n",
       "    .dataframe tbody tr th:only-of-type {\n",
       "        vertical-align: middle;\n",
       "    }\n",
       "\n",
       "    .dataframe tbody tr th {\n",
       "        vertical-align: top;\n",
       "    }\n",
       "\n",
       "    .dataframe thead th {\n",
       "        text-align: right;\n",
       "    }\n",
       "</style>\n",
       "<table border=\"1\" class=\"dataframe\">\n",
       "  <thead>\n",
       "    <tr style=\"text-align: right;\">\n",
       "      <th></th>\n",
       "      <th>index</th>\n",
       "      <th>missing_value</th>\n",
       "      <th>feature_type</th>\n",
       "    </tr>\n",
       "  </thead>\n",
       "  <tbody>\n",
       "    <tr>\n",
       "      <th>1</th>\n",
       "      <td>hotel_country</td>\n",
       "      <td>0</td>\n",
       "      <td>int64</td>\n",
       "    </tr>\n",
       "    <tr>\n",
       "      <th>2</th>\n",
       "      <td>hotel_continent</td>\n",
       "      <td>0</td>\n",
       "      <td>int64</td>\n",
       "    </tr>\n",
       "    <tr>\n",
       "      <th>3</th>\n",
       "      <td>cnt</td>\n",
       "      <td>0</td>\n",
       "      <td>int64</td>\n",
       "    </tr>\n",
       "    <tr>\n",
       "      <th>4</th>\n",
       "      <td>is_booking</td>\n",
       "      <td>0</td>\n",
       "      <td>int64</td>\n",
       "    </tr>\n",
       "    <tr>\n",
       "      <th>5</th>\n",
       "      <td>srch_destination_type_id</td>\n",
       "      <td>0</td>\n",
       "      <td>int64</td>\n",
       "    </tr>\n",
       "    <tr>\n",
       "      <th>6</th>\n",
       "      <td>srch_destination_id</td>\n",
       "      <td>0</td>\n",
       "      <td>int64</td>\n",
       "    </tr>\n",
       "    <tr>\n",
       "      <th>7</th>\n",
       "      <td>srch_rm_cnt</td>\n",
       "      <td>0</td>\n",
       "      <td>int64</td>\n",
       "    </tr>\n",
       "    <tr>\n",
       "      <th>8</th>\n",
       "      <td>srch_children_cnt</td>\n",
       "      <td>0</td>\n",
       "      <td>int64</td>\n",
       "    </tr>\n",
       "    <tr>\n",
       "      <th>9</th>\n",
       "      <td>srch_adults_cnt</td>\n",
       "      <td>0</td>\n",
       "      <td>int64</td>\n",
       "    </tr>\n",
       "    <tr>\n",
       "      <th>10</th>\n",
       "      <td>hotel_market</td>\n",
       "      <td>0</td>\n",
       "      <td>int64</td>\n",
       "    </tr>\n",
       "    <tr>\n",
       "      <th>11</th>\n",
       "      <td>hotel_cluster</td>\n",
       "      <td>0</td>\n",
       "      <td>int64</td>\n",
       "    </tr>\n",
       "    <tr>\n",
       "      <th>12</th>\n",
       "      <td>is_package</td>\n",
       "      <td>0</td>\n",
       "      <td>int64</td>\n",
       "    </tr>\n",
       "    <tr>\n",
       "      <th>13</th>\n",
       "      <td>is_mobile</td>\n",
       "      <td>0</td>\n",
       "      <td>int64</td>\n",
       "    </tr>\n",
       "    <tr>\n",
       "      <th>14</th>\n",
       "      <td>user_id</td>\n",
       "      <td>0</td>\n",
       "      <td>int64</td>\n",
       "    </tr>\n",
       "    <tr>\n",
       "      <th>15</th>\n",
       "      <td>user_location_city</td>\n",
       "      <td>0</td>\n",
       "      <td>int64</td>\n",
       "    </tr>\n",
       "    <tr>\n",
       "      <th>16</th>\n",
       "      <td>user_location_region</td>\n",
       "      <td>0</td>\n",
       "      <td>int64</td>\n",
       "    </tr>\n",
       "    <tr>\n",
       "      <th>17</th>\n",
       "      <td>user_location_country</td>\n",
       "      <td>0</td>\n",
       "      <td>int64</td>\n",
       "    </tr>\n",
       "    <tr>\n",
       "      <th>18</th>\n",
       "      <td>posa_continent</td>\n",
       "      <td>0</td>\n",
       "      <td>int64</td>\n",
       "    </tr>\n",
       "    <tr>\n",
       "      <th>19</th>\n",
       "      <td>site_name</td>\n",
       "      <td>0</td>\n",
       "      <td>int64</td>\n",
       "    </tr>\n",
       "    <tr>\n",
       "      <th>20</th>\n",
       "      <td>channel</td>\n",
       "      <td>0</td>\n",
       "      <td>int64</td>\n",
       "    </tr>\n",
       "    <tr>\n",
       "      <th>0</th>\n",
       "      <td>date_time</td>\n",
       "      <td>0</td>\n",
       "      <td>object</td>\n",
       "    </tr>\n",
       "    <tr>\n",
       "      <th>21</th>\n",
       "      <td>srch_co</td>\n",
       "      <td>125</td>\n",
       "      <td>object</td>\n",
       "    </tr>\n",
       "    <tr>\n",
       "      <th>22</th>\n",
       "      <td>srch_ci</td>\n",
       "      <td>125</td>\n",
       "      <td>object</td>\n",
       "    </tr>\n",
       "    <tr>\n",
       "      <th>23</th>\n",
       "      <td>orig_destination_distance</td>\n",
       "      <td>52442</td>\n",
       "      <td>float64</td>\n",
       "    </tr>\n",
       "  </tbody>\n",
       "</table>\n",
       "</div>"
      ],
      "text/plain": [
       "                        index  missing_value feature_type\n",
       "1               hotel_country              0        int64\n",
       "2             hotel_continent              0        int64\n",
       "3                         cnt              0        int64\n",
       "4                  is_booking              0        int64\n",
       "5    srch_destination_type_id              0        int64\n",
       "6         srch_destination_id              0        int64\n",
       "7                 srch_rm_cnt              0        int64\n",
       "8           srch_children_cnt              0        int64\n",
       "9             srch_adults_cnt              0        int64\n",
       "10               hotel_market              0        int64\n",
       "11              hotel_cluster              0        int64\n",
       "12                 is_package              0        int64\n",
       "13                  is_mobile              0        int64\n",
       "14                    user_id              0        int64\n",
       "15         user_location_city              0        int64\n",
       "16       user_location_region              0        int64\n",
       "17      user_location_country              0        int64\n",
       "18             posa_continent              0        int64\n",
       "19                  site_name              0        int64\n",
       "20                    channel              0        int64\n",
       "0                   date_time              0       object\n",
       "21                    srch_co            125       object\n",
       "22                    srch_ci            125       object\n",
       "23  orig_destination_distance          52442      float64"
      ]
     },
     "execution_count": 117,
     "metadata": {},
     "output_type": "execute_result"
    }
   ],
   "source": [
    "df_dtypes.sort_values(['missing_value', 'feature_type'])"
   ]
  },
  {
   "cell_type": "code",
   "execution_count": 118,
   "id": "understanding-investor",
   "metadata": {},
   "outputs": [
    {
     "data": {
      "text/plain": [
       "(150000, 24)"
      ]
     },
     "execution_count": 118,
     "metadata": {},
     "output_type": "execute_result"
    }
   ],
   "source": [
    "train_df.shape"
   ]
  },
  {
   "cell_type": "code",
   "execution_count": 119,
   "id": "overall-democrat",
   "metadata": {},
   "outputs": [],
   "source": [
    "df= train_df.dropna()"
   ]
  },
  {
   "cell_type": "code",
   "execution_count": 120,
   "id": "looking-infrared",
   "metadata": {},
   "outputs": [
    {
     "data": {
      "text/html": [
       "<div>\n",
       "<style scoped>\n",
       "    .dataframe tbody tr th:only-of-type {\n",
       "        vertical-align: middle;\n",
       "    }\n",
       "\n",
       "    .dataframe tbody tr th {\n",
       "        vertical-align: top;\n",
       "    }\n",
       "\n",
       "    .dataframe thead th {\n",
       "        text-align: right;\n",
       "    }\n",
       "</style>\n",
       "<table border=\"1\" class=\"dataframe\">\n",
       "  <thead>\n",
       "    <tr style=\"text-align: right;\">\n",
       "      <th></th>\n",
       "      <th>date_time</th>\n",
       "      <th>site_name</th>\n",
       "      <th>posa_continent</th>\n",
       "      <th>user_location_country</th>\n",
       "      <th>user_location_region</th>\n",
       "      <th>user_location_city</th>\n",
       "      <th>orig_destination_distance</th>\n",
       "      <th>user_id</th>\n",
       "      <th>is_mobile</th>\n",
       "      <th>is_package</th>\n",
       "      <th>...</th>\n",
       "      <th>srch_children_cnt</th>\n",
       "      <th>srch_rm_cnt</th>\n",
       "      <th>srch_destination_id</th>\n",
       "      <th>srch_destination_type_id</th>\n",
       "      <th>is_booking</th>\n",
       "      <th>cnt</th>\n",
       "      <th>hotel_continent</th>\n",
       "      <th>hotel_country</th>\n",
       "      <th>hotel_market</th>\n",
       "      <th>hotel_cluster</th>\n",
       "    </tr>\n",
       "  </thead>\n",
       "  <tbody>\n",
       "    <tr>\n",
       "      <th>0</th>\n",
       "      <td>2014-08-11 07:46:59</td>\n",
       "      <td>2</td>\n",
       "      <td>3</td>\n",
       "      <td>66</td>\n",
       "      <td>348</td>\n",
       "      <td>48862</td>\n",
       "      <td>2234.2641</td>\n",
       "      <td>12</td>\n",
       "      <td>0</td>\n",
       "      <td>1</td>\n",
       "      <td>...</td>\n",
       "      <td>0</td>\n",
       "      <td>1</td>\n",
       "      <td>8250</td>\n",
       "      <td>1</td>\n",
       "      <td>0</td>\n",
       "      <td>3</td>\n",
       "      <td>2</td>\n",
       "      <td>50</td>\n",
       "      <td>628</td>\n",
       "      <td>1</td>\n",
       "    </tr>\n",
       "    <tr>\n",
       "      <th>1</th>\n",
       "      <td>2014-08-11 08:22:12</td>\n",
       "      <td>2</td>\n",
       "      <td>3</td>\n",
       "      <td>66</td>\n",
       "      <td>348</td>\n",
       "      <td>48862</td>\n",
       "      <td>2234.2641</td>\n",
       "      <td>12</td>\n",
       "      <td>0</td>\n",
       "      <td>1</td>\n",
       "      <td>...</td>\n",
       "      <td>0</td>\n",
       "      <td>1</td>\n",
       "      <td>8250</td>\n",
       "      <td>1</td>\n",
       "      <td>1</td>\n",
       "      <td>1</td>\n",
       "      <td>2</td>\n",
       "      <td>50</td>\n",
       "      <td>628</td>\n",
       "      <td>1</td>\n",
       "    </tr>\n",
       "    <tr>\n",
       "      <th>2</th>\n",
       "      <td>2014-08-11 08:24:33</td>\n",
       "      <td>2</td>\n",
       "      <td>3</td>\n",
       "      <td>66</td>\n",
       "      <td>348</td>\n",
       "      <td>48862</td>\n",
       "      <td>2234.2641</td>\n",
       "      <td>12</td>\n",
       "      <td>0</td>\n",
       "      <td>0</td>\n",
       "      <td>...</td>\n",
       "      <td>0</td>\n",
       "      <td>1</td>\n",
       "      <td>8250</td>\n",
       "      <td>1</td>\n",
       "      <td>0</td>\n",
       "      <td>1</td>\n",
       "      <td>2</td>\n",
       "      <td>50</td>\n",
       "      <td>628</td>\n",
       "      <td>1</td>\n",
       "    </tr>\n",
       "    <tr>\n",
       "      <th>3</th>\n",
       "      <td>2014-08-09 18:05:16</td>\n",
       "      <td>2</td>\n",
       "      <td>3</td>\n",
       "      <td>66</td>\n",
       "      <td>442</td>\n",
       "      <td>35390</td>\n",
       "      <td>913.1932</td>\n",
       "      <td>93</td>\n",
       "      <td>0</td>\n",
       "      <td>0</td>\n",
       "      <td>...</td>\n",
       "      <td>0</td>\n",
       "      <td>1</td>\n",
       "      <td>14984</td>\n",
       "      <td>1</td>\n",
       "      <td>0</td>\n",
       "      <td>1</td>\n",
       "      <td>2</td>\n",
       "      <td>50</td>\n",
       "      <td>1457</td>\n",
       "      <td>80</td>\n",
       "    </tr>\n",
       "    <tr>\n",
       "      <th>4</th>\n",
       "      <td>2014-08-09 18:08:18</td>\n",
       "      <td>2</td>\n",
       "      <td>3</td>\n",
       "      <td>66</td>\n",
       "      <td>442</td>\n",
       "      <td>35390</td>\n",
       "      <td>913.6259</td>\n",
       "      <td>93</td>\n",
       "      <td>0</td>\n",
       "      <td>0</td>\n",
       "      <td>...</td>\n",
       "      <td>0</td>\n",
       "      <td>1</td>\n",
       "      <td>14984</td>\n",
       "      <td>1</td>\n",
       "      <td>0</td>\n",
       "      <td>1</td>\n",
       "      <td>2</td>\n",
       "      <td>50</td>\n",
       "      <td>1457</td>\n",
       "      <td>21</td>\n",
       "    </tr>\n",
       "    <tr>\n",
       "      <th>...</th>\n",
       "      <td>...</td>\n",
       "      <td>...</td>\n",
       "      <td>...</td>\n",
       "      <td>...</td>\n",
       "      <td>...</td>\n",
       "      <td>...</td>\n",
       "      <td>...</td>\n",
       "      <td>...</td>\n",
       "      <td>...</td>\n",
       "      <td>...</td>\n",
       "      <td>...</td>\n",
       "      <td>...</td>\n",
       "      <td>...</td>\n",
       "      <td>...</td>\n",
       "      <td>...</td>\n",
       "      <td>...</td>\n",
       "      <td>...</td>\n",
       "      <td>...</td>\n",
       "      <td>...</td>\n",
       "      <td>...</td>\n",
       "      <td>...</td>\n",
       "    </tr>\n",
       "    <tr>\n",
       "      <th>149995</th>\n",
       "      <td>2014-02-14 20:54:39</td>\n",
       "      <td>2</td>\n",
       "      <td>3</td>\n",
       "      <td>66</td>\n",
       "      <td>462</td>\n",
       "      <td>16353</td>\n",
       "      <td>995.8137</td>\n",
       "      <td>574353</td>\n",
       "      <td>1</td>\n",
       "      <td>0</td>\n",
       "      <td>...</td>\n",
       "      <td>1</td>\n",
       "      <td>1</td>\n",
       "      <td>12132</td>\n",
       "      <td>1</td>\n",
       "      <td>0</td>\n",
       "      <td>1</td>\n",
       "      <td>2</td>\n",
       "      <td>50</td>\n",
       "      <td>366</td>\n",
       "      <td>18</td>\n",
       "    </tr>\n",
       "    <tr>\n",
       "      <th>149996</th>\n",
       "      <td>2014-03-01 12:12:49</td>\n",
       "      <td>2</td>\n",
       "      <td>3</td>\n",
       "      <td>66</td>\n",
       "      <td>462</td>\n",
       "      <td>11417</td>\n",
       "      <td>992.5849</td>\n",
       "      <td>574353</td>\n",
       "      <td>0</td>\n",
       "      <td>1</td>\n",
       "      <td>...</td>\n",
       "      <td>1</td>\n",
       "      <td>3</td>\n",
       "      <td>12132</td>\n",
       "      <td>1</td>\n",
       "      <td>0</td>\n",
       "      <td>1</td>\n",
       "      <td>2</td>\n",
       "      <td>50</td>\n",
       "      <td>366</td>\n",
       "      <td>18</td>\n",
       "    </tr>\n",
       "    <tr>\n",
       "      <th>149997</th>\n",
       "      <td>2014-03-01 12:50:02</td>\n",
       "      <td>2</td>\n",
       "      <td>3</td>\n",
       "      <td>66</td>\n",
       "      <td>462</td>\n",
       "      <td>11417</td>\n",
       "      <td>992.5849</td>\n",
       "      <td>574353</td>\n",
       "      <td>0</td>\n",
       "      <td>0</td>\n",
       "      <td>...</td>\n",
       "      <td>1</td>\n",
       "      <td>3</td>\n",
       "      <td>12132</td>\n",
       "      <td>1</td>\n",
       "      <td>0</td>\n",
       "      <td>3</td>\n",
       "      <td>2</td>\n",
       "      <td>50</td>\n",
       "      <td>366</td>\n",
       "      <td>18</td>\n",
       "    </tr>\n",
       "    <tr>\n",
       "      <th>149998</th>\n",
       "      <td>2014-03-01 12:59:49</td>\n",
       "      <td>2</td>\n",
       "      <td>3</td>\n",
       "      <td>66</td>\n",
       "      <td>462</td>\n",
       "      <td>11417</td>\n",
       "      <td>992.5849</td>\n",
       "      <td>574353</td>\n",
       "      <td>0</td>\n",
       "      <td>0</td>\n",
       "      <td>...</td>\n",
       "      <td>1</td>\n",
       "      <td>1</td>\n",
       "      <td>12132</td>\n",
       "      <td>1</td>\n",
       "      <td>0</td>\n",
       "      <td>1</td>\n",
       "      <td>2</td>\n",
       "      <td>50</td>\n",
       "      <td>366</td>\n",
       "      <td>18</td>\n",
       "    </tr>\n",
       "    <tr>\n",
       "      <th>149999</th>\n",
       "      <td>2014-03-01 13:03:34</td>\n",
       "      <td>2</td>\n",
       "      <td>3</td>\n",
       "      <td>66</td>\n",
       "      <td>462</td>\n",
       "      <td>11417</td>\n",
       "      <td>992.5849</td>\n",
       "      <td>574353</td>\n",
       "      <td>0</td>\n",
       "      <td>0</td>\n",
       "      <td>...</td>\n",
       "      <td>1</td>\n",
       "      <td>1</td>\n",
       "      <td>12132</td>\n",
       "      <td>1</td>\n",
       "      <td>1</td>\n",
       "      <td>1</td>\n",
       "      <td>2</td>\n",
       "      <td>50</td>\n",
       "      <td>366</td>\n",
       "      <td>18</td>\n",
       "    </tr>\n",
       "  </tbody>\n",
       "</table>\n",
       "<p>97460 rows × 24 columns</p>\n",
       "</div>"
      ],
      "text/plain": [
       "                  date_time  site_name  posa_continent  user_location_country  \\\n",
       "0       2014-08-11 07:46:59          2               3                     66   \n",
       "1       2014-08-11 08:22:12          2               3                     66   \n",
       "2       2014-08-11 08:24:33          2               3                     66   \n",
       "3       2014-08-09 18:05:16          2               3                     66   \n",
       "4       2014-08-09 18:08:18          2               3                     66   \n",
       "...                     ...        ...             ...                    ...   \n",
       "149995  2014-02-14 20:54:39          2               3                     66   \n",
       "149996  2014-03-01 12:12:49          2               3                     66   \n",
       "149997  2014-03-01 12:50:02          2               3                     66   \n",
       "149998  2014-03-01 12:59:49          2               3                     66   \n",
       "149999  2014-03-01 13:03:34          2               3                     66   \n",
       "\n",
       "        user_location_region  user_location_city  orig_destination_distance  \\\n",
       "0                        348               48862                  2234.2641   \n",
       "1                        348               48862                  2234.2641   \n",
       "2                        348               48862                  2234.2641   \n",
       "3                        442               35390                   913.1932   \n",
       "4                        442               35390                   913.6259   \n",
       "...                      ...                 ...                        ...   \n",
       "149995                   462               16353                   995.8137   \n",
       "149996                   462               11417                   992.5849   \n",
       "149997                   462               11417                   992.5849   \n",
       "149998                   462               11417                   992.5849   \n",
       "149999                   462               11417                   992.5849   \n",
       "\n",
       "        user_id  is_mobile  is_package  ...  srch_children_cnt srch_rm_cnt  \\\n",
       "0            12          0           1  ...                  0           1   \n",
       "1            12          0           1  ...                  0           1   \n",
       "2            12          0           0  ...                  0           1   \n",
       "3            93          0           0  ...                  0           1   \n",
       "4            93          0           0  ...                  0           1   \n",
       "...         ...        ...         ...  ...                ...         ...   \n",
       "149995   574353          1           0  ...                  1           1   \n",
       "149996   574353          0           1  ...                  1           3   \n",
       "149997   574353          0           0  ...                  1           3   \n",
       "149998   574353          0           0  ...                  1           1   \n",
       "149999   574353          0           0  ...                  1           1   \n",
       "\n",
       "       srch_destination_id  srch_destination_type_id  is_booking  cnt  \\\n",
       "0                     8250                         1           0    3   \n",
       "1                     8250                         1           1    1   \n",
       "2                     8250                         1           0    1   \n",
       "3                    14984                         1           0    1   \n",
       "4                    14984                         1           0    1   \n",
       "...                    ...                       ...         ...  ...   \n",
       "149995               12132                         1           0    1   \n",
       "149996               12132                         1           0    1   \n",
       "149997               12132                         1           0    3   \n",
       "149998               12132                         1           0    1   \n",
       "149999               12132                         1           1    1   \n",
       "\n",
       "        hotel_continent  hotel_country  hotel_market  hotel_cluster  \n",
       "0                     2             50           628              1  \n",
       "1                     2             50           628              1  \n",
       "2                     2             50           628              1  \n",
       "3                     2             50          1457             80  \n",
       "4                     2             50          1457             21  \n",
       "...                 ...            ...           ...            ...  \n",
       "149995                2             50           366             18  \n",
       "149996                2             50           366             18  \n",
       "149997                2             50           366             18  \n",
       "149998                2             50           366             18  \n",
       "149999                2             50           366             18  \n",
       "\n",
       "[97460 rows x 24 columns]"
      ]
     },
     "execution_count": 120,
     "metadata": {},
     "output_type": "execute_result"
    }
   ],
   "source": [
    "df.drop_duplicates()"
   ]
  },
  {
   "cell_type": "code",
   "execution_count": 121,
   "id": "wired-degree",
   "metadata": {},
   "outputs": [
    {
     "data": {
      "text/plain": [
       "(97460, 24)"
      ]
     },
     "execution_count": 121,
     "metadata": {},
     "output_type": "execute_result"
    }
   ],
   "source": [
    "df.shape"
   ]
  },
  {
   "cell_type": "markdown",
   "id": "british-chancellor",
   "metadata": {},
   "source": [
    "## What are we predicting?\n",
    "The objective is to predict which hotel_cluster a user will book given the information in their search. There are 100 clusters in total. "
   ]
  },
  {
   "cell_type": "code",
   "execution_count": 137,
   "id": "complicated-fantasy",
   "metadata": {},
   "outputs": [
    {
     "data": {
      "text/plain": [
       "<AxesSubplot:>"
      ]
     },
     "execution_count": 137,
     "metadata": {},
     "output_type": "execute_result"
    },
    {
     "data": {
      "image/png": "[encoded data removed]",
      "text/plain": [
       "<Figure size 1440x360 with 1 Axes>"
      ]
     },
     "metadata": {
      "needs_background": "light"
     },
     "output_type": "display_data"
    }
   ],
   "source": [
    "# Plot frequency for each hotel_clusters\n",
    "df['hotel_cluster'].value_counts().plot(kind='bar',color=\"blue\",figsize=(20,5))\n",
    "\n",
    "#plt.figure(figsize=(12, 6))\n",
    "#sns.distplot(df['hotel_cluster'],color=\"blue\")"
   ]
  },
  {
   "cell_type": "markdown",
   "id": "sized-junction",
   "metadata": {},
   "source": [
    "### We identified the searches by each user belonging to a specific type of destination. This gave us some useful information about which hotel cluster was finally chosen over other hotel clusters explored by the user."
   ]
  },
  {
   "cell_type": "code",
   "execution_count": 138,
   "id": "suspended-sword",
   "metadata": {},
   "outputs": [],
   "source": [
    "#search_by_user = df.groupby(['user_id','hotel_cluster','srch_destination_id','is_booking']).sum.reset_index()\n",
    "search_by_user = df[['user_id','hotel_cluster','srch_destination_id','is_booking']]"
   ]
  },
  {
   "cell_type": "code",
   "execution_count": 139,
   "id": "broad-poison",
   "metadata": {},
   "outputs": [
    {
     "data": {
      "text/html": [
       "<div>\n",
       "<style scoped>\n",
       "    .dataframe tbody tr th:only-of-type {\n",
       "        vertical-align: middle;\n",
       "    }\n",
       "\n",
       "    .dataframe tbody tr th {\n",
       "        vertical-align: top;\n",
       "    }\n",
       "\n",
       "    .dataframe thead th {\n",
       "        text-align: right;\n",
       "    }\n",
       "</style>\n",
       "<table border=\"1\" class=\"dataframe\">\n",
       "  <thead>\n",
       "    <tr style=\"text-align: right;\">\n",
       "      <th></th>\n",
       "      <th>user_id</th>\n",
       "      <th>hotel_cluster</th>\n",
       "      <th>srch_destination_id</th>\n",
       "      <th>is_booking</th>\n",
       "    </tr>\n",
       "  </thead>\n",
       "  <tbody>\n",
       "    <tr>\n",
       "      <th>149950</th>\n",
       "      <td>574091</td>\n",
       "      <td>0</td>\n",
       "      <td>8834</td>\n",
       "      <td>0</td>\n",
       "    </tr>\n",
       "    <tr>\n",
       "      <th>149951</th>\n",
       "      <td>574091</td>\n",
       "      <td>83</td>\n",
       "      <td>8834</td>\n",
       "      <td>0</td>\n",
       "    </tr>\n",
       "    <tr>\n",
       "      <th>149952</th>\n",
       "      <td>574091</td>\n",
       "      <td>33</td>\n",
       "      <td>8834</td>\n",
       "      <td>0</td>\n",
       "    </tr>\n",
       "    <tr>\n",
       "      <th>149953</th>\n",
       "      <td>574091</td>\n",
       "      <td>32</td>\n",
       "      <td>8834</td>\n",
       "      <td>0</td>\n",
       "    </tr>\n",
       "    <tr>\n",
       "      <th>149954</th>\n",
       "      <td>574091</td>\n",
       "      <td>48</td>\n",
       "      <td>8834</td>\n",
       "      <td>0</td>\n",
       "    </tr>\n",
       "    <tr>\n",
       "      <th>149955</th>\n",
       "      <td>574091</td>\n",
       "      <td>94</td>\n",
       "      <td>8834</td>\n",
       "      <td>0</td>\n",
       "    </tr>\n",
       "    <tr>\n",
       "      <th>149956</th>\n",
       "      <td>574091</td>\n",
       "      <td>79</td>\n",
       "      <td>8250</td>\n",
       "      <td>0</td>\n",
       "    </tr>\n",
       "    <tr>\n",
       "      <th>149957</th>\n",
       "      <td>574091</td>\n",
       "      <td>1</td>\n",
       "      <td>8250</td>\n",
       "      <td>0</td>\n",
       "    </tr>\n",
       "    <tr>\n",
       "      <th>149958</th>\n",
       "      <td>574091</td>\n",
       "      <td>1</td>\n",
       "      <td>8250</td>\n",
       "      <td>0</td>\n",
       "    </tr>\n",
       "    <tr>\n",
       "      <th>149959</th>\n",
       "      <td>574091</td>\n",
       "      <td>55</td>\n",
       "      <td>24278</td>\n",
       "      <td>0</td>\n",
       "    </tr>\n",
       "    <tr>\n",
       "      <th>149960</th>\n",
       "      <td>574091</td>\n",
       "      <td>0</td>\n",
       "      <td>8834</td>\n",
       "      <td>0</td>\n",
       "    </tr>\n",
       "    <tr>\n",
       "      <th>149961</th>\n",
       "      <td>574091</td>\n",
       "      <td>37</td>\n",
       "      <td>8834</td>\n",
       "      <td>0</td>\n",
       "    </tr>\n",
       "    <tr>\n",
       "      <th>149962</th>\n",
       "      <td>574091</td>\n",
       "      <td>68</td>\n",
       "      <td>8834</td>\n",
       "      <td>0</td>\n",
       "    </tr>\n",
       "    <tr>\n",
       "      <th>149963</th>\n",
       "      <td>574091</td>\n",
       "      <td>38</td>\n",
       "      <td>8250</td>\n",
       "      <td>0</td>\n",
       "    </tr>\n",
       "    <tr>\n",
       "      <th>149964</th>\n",
       "      <td>574091</td>\n",
       "      <td>39</td>\n",
       "      <td>564</td>\n",
       "      <td>0</td>\n",
       "    </tr>\n",
       "    <tr>\n",
       "      <th>149965</th>\n",
       "      <td>574091</td>\n",
       "      <td>45</td>\n",
       "      <td>8250</td>\n",
       "      <td>0</td>\n",
       "    </tr>\n",
       "    <tr>\n",
       "      <th>149966</th>\n",
       "      <td>574091</td>\n",
       "      <td>88</td>\n",
       "      <td>8250</td>\n",
       "      <td>0</td>\n",
       "    </tr>\n",
       "    <tr>\n",
       "      <th>149967</th>\n",
       "      <td>574091</td>\n",
       "      <td>1</td>\n",
       "      <td>8250</td>\n",
       "      <td>0</td>\n",
       "    </tr>\n",
       "    <tr>\n",
       "      <th>149968</th>\n",
       "      <td>574091</td>\n",
       "      <td>24</td>\n",
       "      <td>8250</td>\n",
       "      <td>0</td>\n",
       "    </tr>\n",
       "    <tr>\n",
       "      <th>149969</th>\n",
       "      <td>574091</td>\n",
       "      <td>79</td>\n",
       "      <td>8250</td>\n",
       "      <td>0</td>\n",
       "    </tr>\n",
       "    <tr>\n",
       "      <th>149970</th>\n",
       "      <td>574091</td>\n",
       "      <td>54</td>\n",
       "      <td>8250</td>\n",
       "      <td>0</td>\n",
       "    </tr>\n",
       "    <tr>\n",
       "      <th>149971</th>\n",
       "      <td>574091</td>\n",
       "      <td>91</td>\n",
       "      <td>8243</td>\n",
       "      <td>0</td>\n",
       "    </tr>\n",
       "    <tr>\n",
       "      <th>149972</th>\n",
       "      <td>574091</td>\n",
       "      <td>59</td>\n",
       "      <td>8243</td>\n",
       "      <td>0</td>\n",
       "    </tr>\n",
       "    <tr>\n",
       "      <th>149973</th>\n",
       "      <td>574091</td>\n",
       "      <td>49</td>\n",
       "      <td>8243</td>\n",
       "      <td>1</td>\n",
       "    </tr>\n",
       "    <tr>\n",
       "      <th>149974</th>\n",
       "      <td>574091</td>\n",
       "      <td>49</td>\n",
       "      <td>8243</td>\n",
       "      <td>1</td>\n",
       "    </tr>\n",
       "    <tr>\n",
       "      <th>149975</th>\n",
       "      <td>574091</td>\n",
       "      <td>49</td>\n",
       "      <td>8243</td>\n",
       "      <td>0</td>\n",
       "    </tr>\n",
       "    <tr>\n",
       "      <th>149976</th>\n",
       "      <td>574091</td>\n",
       "      <td>1</td>\n",
       "      <td>8250</td>\n",
       "      <td>0</td>\n",
       "    </tr>\n",
       "    <tr>\n",
       "      <th>149977</th>\n",
       "      <td>574091</td>\n",
       "      <td>1</td>\n",
       "      <td>8250</td>\n",
       "      <td>0</td>\n",
       "    </tr>\n",
       "    <tr>\n",
       "      <th>149978</th>\n",
       "      <td>574091</td>\n",
       "      <td>54</td>\n",
       "      <td>8250</td>\n",
       "      <td>0</td>\n",
       "    </tr>\n",
       "    <tr>\n",
       "      <th>149979</th>\n",
       "      <td>574091</td>\n",
       "      <td>92</td>\n",
       "      <td>8250</td>\n",
       "      <td>0</td>\n",
       "    </tr>\n",
       "    <tr>\n",
       "      <th>149980</th>\n",
       "      <td>574091</td>\n",
       "      <td>83</td>\n",
       "      <td>12215</td>\n",
       "      <td>0</td>\n",
       "    </tr>\n",
       "    <tr>\n",
       "      <th>149981</th>\n",
       "      <td>574091</td>\n",
       "      <td>19</td>\n",
       "      <td>25471</td>\n",
       "      <td>0</td>\n",
       "    </tr>\n",
       "    <tr>\n",
       "      <th>149982</th>\n",
       "      <td>574091</td>\n",
       "      <td>21</td>\n",
       "      <td>8254</td>\n",
       "      <td>0</td>\n",
       "    </tr>\n",
       "    <tr>\n",
       "      <th>149983</th>\n",
       "      <td>574334</td>\n",
       "      <td>94</td>\n",
       "      <td>6306</td>\n",
       "      <td>0</td>\n",
       "    </tr>\n",
       "    <tr>\n",
       "      <th>149984</th>\n",
       "      <td>574334</td>\n",
       "      <td>23</td>\n",
       "      <td>8214</td>\n",
       "      <td>0</td>\n",
       "    </tr>\n",
       "    <tr>\n",
       "      <th>149985</th>\n",
       "      <td>574334</td>\n",
       "      <td>76</td>\n",
       "      <td>8214</td>\n",
       "      <td>0</td>\n",
       "    </tr>\n",
       "    <tr>\n",
       "      <th>149986</th>\n",
       "      <td>574334</td>\n",
       "      <td>83</td>\n",
       "      <td>8214</td>\n",
       "      <td>0</td>\n",
       "    </tr>\n",
       "    <tr>\n",
       "      <th>149987</th>\n",
       "      <td>574334</td>\n",
       "      <td>76</td>\n",
       "      <td>8214</td>\n",
       "      <td>0</td>\n",
       "    </tr>\n",
       "    <tr>\n",
       "      <th>149988</th>\n",
       "      <td>574334</td>\n",
       "      <td>76</td>\n",
       "      <td>8214</td>\n",
       "      <td>0</td>\n",
       "    </tr>\n",
       "    <tr>\n",
       "      <th>149989</th>\n",
       "      <td>574334</td>\n",
       "      <td>76</td>\n",
       "      <td>8214</td>\n",
       "      <td>0</td>\n",
       "    </tr>\n",
       "    <tr>\n",
       "      <th>149990</th>\n",
       "      <td>574334</td>\n",
       "      <td>83</td>\n",
       "      <td>8214</td>\n",
       "      <td>0</td>\n",
       "    </tr>\n",
       "    <tr>\n",
       "      <th>149991</th>\n",
       "      <td>574334</td>\n",
       "      <td>77</td>\n",
       "      <td>8214</td>\n",
       "      <td>0</td>\n",
       "    </tr>\n",
       "    <tr>\n",
       "      <th>149992</th>\n",
       "      <td>574334</td>\n",
       "      <td>77</td>\n",
       "      <td>8214</td>\n",
       "      <td>0</td>\n",
       "    </tr>\n",
       "    <tr>\n",
       "      <th>149993</th>\n",
       "      <td>574334</td>\n",
       "      <td>23</td>\n",
       "      <td>27186</td>\n",
       "      <td>0</td>\n",
       "    </tr>\n",
       "    <tr>\n",
       "      <th>149994</th>\n",
       "      <td>574334</td>\n",
       "      <td>50</td>\n",
       "      <td>27186</td>\n",
       "      <td>0</td>\n",
       "    </tr>\n",
       "    <tr>\n",
       "      <th>149995</th>\n",
       "      <td>574353</td>\n",
       "      <td>18</td>\n",
       "      <td>12132</td>\n",
       "      <td>0</td>\n",
       "    </tr>\n",
       "    <tr>\n",
       "      <th>149996</th>\n",
       "      <td>574353</td>\n",
       "      <td>18</td>\n",
       "      <td>12132</td>\n",
       "      <td>0</td>\n",
       "    </tr>\n",
       "    <tr>\n",
       "      <th>149997</th>\n",
       "      <td>574353</td>\n",
       "      <td>18</td>\n",
       "      <td>12132</td>\n",
       "      <td>0</td>\n",
       "    </tr>\n",
       "    <tr>\n",
       "      <th>149998</th>\n",
       "      <td>574353</td>\n",
       "      <td>18</td>\n",
       "      <td>12132</td>\n",
       "      <td>0</td>\n",
       "    </tr>\n",
       "    <tr>\n",
       "      <th>149999</th>\n",
       "      <td>574353</td>\n",
       "      <td>18</td>\n",
       "      <td>12132</td>\n",
       "      <td>1</td>\n",
       "    </tr>\n",
       "  </tbody>\n",
       "</table>\n",
       "</div>"
      ],
      "text/plain": [
       "        user_id  hotel_cluster  srch_destination_id  is_booking\n",
       "149950   574091              0                 8834           0\n",
       "149951   574091             83                 8834           0\n",
       "149952   574091             33                 8834           0\n",
       "149953   574091             32                 8834           0\n",
       "149954   574091             48                 8834           0\n",
       "149955   574091             94                 8834           0\n",
       "149956   574091             79                 8250           0\n",
       "149957   574091              1                 8250           0\n",
       "149958   574091              1                 8250           0\n",
       "149959   574091             55                24278           0\n",
       "149960   574091              0                 8834           0\n",
       "149961   574091             37                 8834           0\n",
       "149962   574091             68                 8834           0\n",
       "149963   574091             38                 8250           0\n",
       "149964   574091             39                  564           0\n",
       "149965   574091             45                 8250           0\n",
       "149966   574091             88                 8250           0\n",
       "149967   574091              1                 8250           0\n",
       "149968   574091             24                 8250           0\n",
       "149969   574091             79                 8250           0\n",
       "149970   574091             54                 8250           0\n",
       "149971   574091             91                 8243           0\n",
       "149972   574091             59                 8243           0\n",
       "149973   574091             49                 8243           1\n",
       "149974   574091             49                 8243           1\n",
       "149975   574091             49                 8243           0\n",
       "149976   574091              1                 8250           0\n",
       "149977   574091              1                 8250           0\n",
       "149978   574091             54                 8250           0\n",
       "149979   574091             92                 8250           0\n",
       "149980   574091             83                12215           0\n",
       "149981   574091             19                25471           0\n",
       "149982   574091             21                 8254           0\n",
       "149983   574334             94                 6306           0\n",
       "149984   574334             23                 8214           0\n",
       "149985   574334             76                 8214           0\n",
       "149986   574334             83                 8214           0\n",
       "149987   574334             76                 8214           0\n",
       "149988   574334             76                 8214           0\n",
       "149989   574334             76                 8214           0\n",
       "149990   574334             83                 8214           0\n",
       "149991   574334             77                 8214           0\n",
       "149992   574334             77                 8214           0\n",
       "149993   574334             23                27186           0\n",
       "149994   574334             50                27186           0\n",
       "149995   574353             18                12132           0\n",
       "149996   574353             18                12132           0\n",
       "149997   574353             18                12132           0\n",
       "149998   574353             18                12132           0\n",
       "149999   574353             18                12132           1"
      ]
     },
     "execution_count": 139,
     "metadata": {},
     "output_type": "execute_result"
    }
   ],
   "source": [
    "search_by_user.tail(50)"
   ]
  },
  {
   "cell_type": "code",
   "execution_count": 140,
   "id": "hybrid-effect",
   "metadata": {},
   "outputs": [
    {
     "data": {
      "text/html": [
       "<div>\n",
       "<style scoped>\n",
       "    .dataframe tbody tr th:only-of-type {\n",
       "        vertical-align: middle;\n",
       "    }\n",
       "\n",
       "    .dataframe tbody tr th {\n",
       "        vertical-align: top;\n",
       "    }\n",
       "\n",
       "    .dataframe thead th {\n",
       "        text-align: right;\n",
       "    }\n",
       "</style>\n",
       "<table border=\"1\" class=\"dataframe\">\n",
       "  <thead>\n",
       "    <tr style=\"text-align: right;\">\n",
       "      <th></th>\n",
       "      <th>user_id</th>\n",
       "      <th>hotel_cluster</th>\n",
       "      <th>srch_destination_id</th>\n",
       "      <th>is_booking</th>\n",
       "    </tr>\n",
       "  </thead>\n",
       "  <tbody>\n",
       "    <tr>\n",
       "      <th>9986</th>\n",
       "      <td>54261</td>\n",
       "      <td>65</td>\n",
       "      <td>11938</td>\n",
       "      <td>0</td>\n",
       "    </tr>\n",
       "    <tr>\n",
       "      <th>9987</th>\n",
       "      <td>54261</td>\n",
       "      <td>87</td>\n",
       "      <td>11938</td>\n",
       "      <td>0</td>\n",
       "    </tr>\n",
       "    <tr>\n",
       "      <th>9988</th>\n",
       "      <td>54261</td>\n",
       "      <td>52</td>\n",
       "      <td>11938</td>\n",
       "      <td>0</td>\n",
       "    </tr>\n",
       "    <tr>\n",
       "      <th>9989</th>\n",
       "      <td>54261</td>\n",
       "      <td>52</td>\n",
       "      <td>11938</td>\n",
       "      <td>0</td>\n",
       "    </tr>\n",
       "    <tr>\n",
       "      <th>9990</th>\n",
       "      <td>54261</td>\n",
       "      <td>65</td>\n",
       "      <td>11938</td>\n",
       "      <td>0</td>\n",
       "    </tr>\n",
       "    <tr>\n",
       "      <th>9991</th>\n",
       "      <td>54261</td>\n",
       "      <td>52</td>\n",
       "      <td>11938</td>\n",
       "      <td>1</td>\n",
       "    </tr>\n",
       "    <tr>\n",
       "      <th>9992</th>\n",
       "      <td>54261</td>\n",
       "      <td>20</td>\n",
       "      <td>8821</td>\n",
       "      <td>0</td>\n",
       "    </tr>\n",
       "    <tr>\n",
       "      <th>9993</th>\n",
       "      <td>54261</td>\n",
       "      <td>30</td>\n",
       "      <td>8821</td>\n",
       "      <td>0</td>\n",
       "    </tr>\n",
       "  </tbody>\n",
       "</table>\n",
       "</div>"
      ],
      "text/plain": [
       "      user_id  hotel_cluster  srch_destination_id  is_booking\n",
       "9986    54261             65                11938           0\n",
       "9987    54261             87                11938           0\n",
       "9988    54261             52                11938           0\n",
       "9989    54261             52                11938           0\n",
       "9990    54261             65                11938           0\n",
       "9991    54261             52                11938           1\n",
       "9992    54261             20                 8821           0\n",
       "9993    54261             30                 8821           0"
      ]
     },
     "execution_count": 140,
     "metadata": {},
     "output_type": "execute_result"
    }
   ],
   "source": [
    "search_by_user[df['user_id'] == 54261]"
   ]
  },
  {
   "cell_type": "code",
   "execution_count": 141,
   "id": "proprietary-tension",
   "metadata": {},
   "outputs": [],
   "source": [
    "rejected_hotel_cluster= search_by_user[df['is_booking'] == 0]"
   ]
  },
  {
   "cell_type": "code",
   "execution_count": 142,
   "id": "coordinate-basics",
   "metadata": {},
   "outputs": [],
   "source": [
    "#df = df.loc[df['is_booking'] == 0]"
   ]
  },
  {
   "cell_type": "markdown",
   "id": "ambient-canon",
   "metadata": {},
   "source": [
    "## Check-in and Check-out dates"
   ]
  },
  {
   "cell_type": "code",
   "execution_count": 143,
   "id": "incorporated-toddler",
   "metadata": {},
   "outputs": [],
   "source": [
    "from datetime import datetime\n",
    "def get_year(x):\n",
    "    if x is not float and not None:\n",
    "        try:\n",
    "            return datetime.strptime(x, '%Y-%m-%d').year\n",
    "        except :\n",
    "            return datetime.strptime(x, '%Y-%m-%d %H:%M:%S').year\n",
    "    else:\n",
    "        return 2013\n",
    "\n",
    "def get_month(x):\n",
    "    if x is float and not None:\n",
    "        try:\n",
    "            return datetime.strptime(x, '%Y-%m-%d').month\n",
    "        except:\n",
    "            return datetime.strptime(x, '%Y-%m-%d %H:%M:%S').month\n",
    "    else:\n",
    "        return 1"
   ]
  },
  {
   "cell_type": "code",
   "execution_count": 144,
   "id": "superb-cooperative",
   "metadata": {},
   "outputs": [
    {
     "name": "stderr",
     "output_type": "stream",
     "text": [
      "<ipython-input-144-075decfa5f13>:2: SettingWithCopyWarning: \n",
      "A value is trying to be set on a copy of a slice from a DataFrame.\n",
      "Try using .loc[row_indexer,col_indexer] = value instead\n",
      "\n",
      "See the caveats in the documentation: https://pandas.pydata.org/pandas-docs/stable/user_guide/indexing.html#returning-a-view-versus-a-copy\n",
      "  df['checkin_year'] = pd.Series(df.srch_ci, index=df.index)\n",
      "<ipython-input-144-075decfa5f13>:3: SettingWithCopyWarning: \n",
      "A value is trying to be set on a copy of a slice from a DataFrame.\n",
      "Try using .loc[row_indexer,col_indexer] = value instead\n",
      "\n",
      "See the caveats in the documentation: https://pandas.pydata.org/pandas-docs/stable/user_guide/indexing.html#returning-a-view-versus-a-copy\n",
      "  df['checkin_month'] = pd.Series(df.srch_ci, index=df.index)\n",
      "c:\\users\\user\\anaconda3\\envs\\tensorflow_env\\lib\\site-packages\\pandas\\core\\generic.py:5489: SettingWithCopyWarning: \n",
      "A value is trying to be set on a copy of a slice from a DataFrame.\n",
      "Try using .loc[row_indexer,col_indexer] = value instead\n",
      "\n",
      "See the caveats in the documentation: https://pandas.pydata.org/pandas-docs/stable/user_guide/indexing.html#returning-a-view-versus-a-copy\n",
      "  self[name] = value\n"
     ]
    }
   ],
   "source": [
    "# Work on check-in month and year (srch_ci column)\n",
    "df['checkin_year'] = pd.Series(df.srch_ci, index=df.index)\n",
    "df['checkin_month'] = pd.Series(df.srch_ci, index=df.index)\n",
    "\n",
    "# convert year & months to int\n",
    "df.checkin_year = df.checkin_year.apply(lambda x: get_year(x))\n",
    "df.checkin_month = df.checkin_month.apply(lambda x: get_month(x))\n"
   ]
  },
  {
   "cell_type": "code",
   "execution_count": 145,
   "id": "hourly-screen",
   "metadata": {},
   "outputs": [
    {
     "name": "stderr",
     "output_type": "stream",
     "text": [
      "<ipython-input-145-b3dc77cf1bb8>:3: SettingWithCopyWarning: \n",
      "A value is trying to be set on a copy of a slice from a DataFrame.\n",
      "Try using .loc[row_indexer,col_indexer] = value instead\n",
      "\n",
      "See the caveats in the documentation: https://pandas.pydata.org/pandas-docs/stable/user_guide/indexing.html#returning-a-view-versus-a-copy\n",
      "  df['checkout_year'] = pd.Series(df.srch_co, index=df.index)\n",
      "<ipython-input-145-b3dc77cf1bb8>:4: SettingWithCopyWarning: \n",
      "A value is trying to be set on a copy of a slice from a DataFrame.\n",
      "Try using .loc[row_indexer,col_indexer] = value instead\n",
      "\n",
      "See the caveats in the documentation: https://pandas.pydata.org/pandas-docs/stable/user_guide/indexing.html#returning-a-view-versus-a-copy\n",
      "  df['checkout_month'] = pd.Series(df.srch_co, index=df.index)\n"
     ]
    }
   ],
   "source": [
    "# work on Check-out month and year (srch_co column)\n",
    "\n",
    "df['checkout_year'] = pd.Series(df.srch_co, index=df.index)\n",
    "df['checkout_month'] = pd.Series(df.srch_co, index=df.index)\n",
    "\n",
    "# convert year & months to int\n",
    "df.checkout_year = df.checkout_year.apply(lambda x: get_year(x))\n",
    "df.checkout_month = df.checkout_month.apply(lambda x: get_month(x))\n"
   ]
  },
  {
   "cell_type": "code",
   "execution_count": 146,
   "id": "mature-ebony",
   "metadata": {},
   "outputs": [
    {
     "name": "stdout",
     "output_type": "stream",
     "text": [
      "1\n",
      "2014\n"
     ]
    }
   ],
   "source": [
    "print(df.iloc[1]['checkout_month'])\n",
    "print(df.iloc[1]['checkout_year'])"
   ]
  },
  {
   "cell_type": "markdown",
   "id": "published-colony",
   "metadata": {},
   "source": [
    "## Duration of Stay each of user"
   ]
  },
  {
   "cell_type": "code",
   "execution_count": 147,
   "id": "helpful-estonia",
   "metadata": {},
   "outputs": [
    {
     "name": "stderr",
     "output_type": "stream",
     "text": [
      "<ipython-input-147-24ab19ed81d3>:1: SettingWithCopyWarning: \n",
      "A value is trying to be set on a copy of a slice from a DataFrame.\n",
      "Try using .loc[row_indexer,col_indexer] = value instead\n",
      "\n",
      "See the caveats in the documentation: https://pandas.pydata.org/pandas-docs/stable/user_guide/indexing.html#returning-a-view-versus-a-copy\n",
      "  df['duration']=(df[\"srch_co\"].apply(lambda x: datetime.strptime(x,\"%Y-%m-%d\")) - df[\"srch_ci\"].apply(lambda x: datetime.strptime(x,\"%Y-%m-%d\")))\n"
     ]
    }
   ],
   "source": [
    "df['duration']=(df[\"srch_co\"].apply(lambda x: datetime.strptime(x,\"%Y-%m-%d\")) - df[\"srch_ci\"].apply(lambda x: datetime.strptime(x,\"%Y-%m-%d\")))"
   ]
  },
  {
   "cell_type": "code",
   "execution_count": 148,
   "id": "structural-venue",
   "metadata": {},
   "outputs": [
    {
     "name": "stderr",
     "output_type": "stream",
     "text": [
      "<ipython-input-148-159a60603ada>:1: SettingWithCopyWarning: \n",
      "A value is trying to be set on a copy of a slice from a DataFrame.\n",
      "Try using .loc[row_indexer,col_indexer] = value instead\n",
      "\n",
      "See the caveats in the documentation: https://pandas.pydata.org/pandas-docs/stable/user_guide/indexing.html#returning-a-view-versus-a-copy\n",
      "  df[\"duration\"] = df[\"duration\"].apply(lambda x:str(x).split(\"days\")[0].split(\" \")[0])\n"
     ]
    }
   ],
   "source": [
    "df[\"duration\"] = df[\"duration\"].apply(lambda x:str(x).split(\"days\")[0].split(\" \")[0])"
   ]
  },
  {
   "cell_type": "markdown",
   "id": "young-structure",
   "metadata": {},
   "source": [
    "## Duration of Stay VS Hotel Cluster"
   ]
  },
  {
   "cell_type": "code",
   "execution_count": 149,
   "id": "palestinian-oregon",
   "metadata": {},
   "outputs": [
    {
     "data": {
      "text/plain": [
       "Text(0, 0.5, 'duration')"
      ]
     },
     "execution_count": 149,
     "metadata": {},
     "output_type": "execute_result"
    },
    {
     "data": {
      "image/png": "[encoded data removed]",
      "text/plain": [
       "<Figure size 1944x504 with 1 Axes>"
      ]
     },
     "metadata": {
      "needs_background": "light"
     },
     "output_type": "display_data"
    }
   ],
   "source": [
    "# putting the two above together\n",
    "plt.figure(figsize=(27, 7))\n",
    "sns.countplot(x='hotel_cluster',data=df)\n",
    "plt.ylabel('duration')"
   ]
  },
  {
   "cell_type": "markdown",
   "id": "respiratory-effect",
   "metadata": {},
   "source": [
    "## Solo Trip or Family Trip"
   ]
  },
  {
   "cell_type": "code",
   "execution_count": null,
   "id": "genetic-adjustment",
   "metadata": {},
   "outputs": [],
   "source": [
    "df['solo_travel'] = np.where((df['srch_adults_cnt']==1) & (df['srch_children_cnt']==0),1,0)\n",
    "# short trip using stay duration\n",
    "df['short_trip'] = np.where((df['duration']==3),1,0)"
   ]
  },
  {
   "cell_type": "code",
   "execution_count": null,
   "id": "immediate-young",
   "metadata": {},
   "outputs": [],
   "source": []
  },
  {
   "cell_type": "markdown",
   "id": "leading-writing",
   "metadata": {},
   "source": [
    "## Destination file contains 149 latent features for each destination"
   ]
  },
  {
   "cell_type": "code",
   "execution_count": 150,
   "id": "light-torture",
   "metadata": {},
   "outputs": [],
   "source": [
    "from sklearn.decomposition import PCA\n",
    "from sklearn.preprocessing import StandardScaler\n",
    "\n",
    "dest_data = pd.read_csv(\"..\\\\data\\\\destinations.csv\", sep=',')"
   ]
  },
  {
   "cell_type": "code",
   "execution_count": 151,
   "id": "ceramic-journal",
   "metadata": {},
   "outputs": [
    {
     "data": {
      "text/html": [
       "<div>\n",
       "<style scoped>\n",
       "    .dataframe tbody tr th:only-of-type {\n",
       "        vertical-align: middle;\n",
       "    }\n",
       "\n",
       "    .dataframe tbody tr th {\n",
       "        vertical-align: top;\n",
       "    }\n",
       "\n",
       "    .dataframe thead th {\n",
       "        text-align: right;\n",
       "    }\n",
       "</style>\n",
       "<table border=\"1\" class=\"dataframe\">\n",
       "  <thead>\n",
       "    <tr style=\"text-align: right;\">\n",
       "      <th></th>\n",
       "      <th>srch_destination_id</th>\n",
       "      <th>d1</th>\n",
       "      <th>d2</th>\n",
       "      <th>d3</th>\n",
       "      <th>d4</th>\n",
       "      <th>d5</th>\n",
       "      <th>d6</th>\n",
       "      <th>d7</th>\n",
       "      <th>d8</th>\n",
       "      <th>d9</th>\n",
       "      <th>...</th>\n",
       "      <th>d140</th>\n",
       "      <th>d141</th>\n",
       "      <th>d142</th>\n",
       "      <th>d143</th>\n",
       "      <th>d144</th>\n",
       "      <th>d145</th>\n",
       "      <th>d146</th>\n",
       "      <th>d147</th>\n",
       "      <th>d148</th>\n",
       "      <th>d149</th>\n",
       "    </tr>\n",
       "  </thead>\n",
       "  <tbody>\n",
       "    <tr>\n",
       "      <th>0</th>\n",
       "      <td>0</td>\n",
       "      <td>-2.198657</td>\n",
       "      <td>-2.198657</td>\n",
       "      <td>-2.198657</td>\n",
       "      <td>-2.198657</td>\n",
       "      <td>-2.198657</td>\n",
       "      <td>-1.897627</td>\n",
       "      <td>-2.198657</td>\n",
       "      <td>-2.198657</td>\n",
       "      <td>-1.897627</td>\n",
       "      <td>...</td>\n",
       "      <td>-2.198657</td>\n",
       "      <td>-2.198657</td>\n",
       "      <td>-2.198657</td>\n",
       "      <td>-2.198657</td>\n",
       "      <td>-2.198657</td>\n",
       "      <td>-2.198657</td>\n",
       "      <td>-2.198657</td>\n",
       "      <td>-2.198657</td>\n",
       "      <td>-2.198657</td>\n",
       "      <td>-2.198657</td>\n",
       "    </tr>\n",
       "    <tr>\n",
       "      <th>1</th>\n",
       "      <td>1</td>\n",
       "      <td>-2.181690</td>\n",
       "      <td>-2.181690</td>\n",
       "      <td>-2.181690</td>\n",
       "      <td>-2.082564</td>\n",
       "      <td>-2.181690</td>\n",
       "      <td>-2.165028</td>\n",
       "      <td>-2.181690</td>\n",
       "      <td>-2.181690</td>\n",
       "      <td>-2.031597</td>\n",
       "      <td>...</td>\n",
       "      <td>-2.165028</td>\n",
       "      <td>-2.181690</td>\n",
       "      <td>-2.165028</td>\n",
       "      <td>-2.181690</td>\n",
       "      <td>-2.181690</td>\n",
       "      <td>-2.165028</td>\n",
       "      <td>-2.181690</td>\n",
       "      <td>-2.181690</td>\n",
       "      <td>-2.181690</td>\n",
       "      <td>-2.181690</td>\n",
       "    </tr>\n",
       "    <tr>\n",
       "      <th>2</th>\n",
       "      <td>2</td>\n",
       "      <td>-2.183490</td>\n",
       "      <td>-2.224164</td>\n",
       "      <td>-2.224164</td>\n",
       "      <td>-2.189562</td>\n",
       "      <td>-2.105819</td>\n",
       "      <td>-2.075407</td>\n",
       "      <td>-2.224164</td>\n",
       "      <td>-2.118483</td>\n",
       "      <td>-2.140393</td>\n",
       "      <td>...</td>\n",
       "      <td>-2.224164</td>\n",
       "      <td>-2.224164</td>\n",
       "      <td>-2.196379</td>\n",
       "      <td>-2.224164</td>\n",
       "      <td>-2.192009</td>\n",
       "      <td>-2.224164</td>\n",
       "      <td>-2.224164</td>\n",
       "      <td>-2.224164</td>\n",
       "      <td>-2.224164</td>\n",
       "      <td>-2.057548</td>\n",
       "    </tr>\n",
       "    <tr>\n",
       "      <th>3</th>\n",
       "      <td>3</td>\n",
       "      <td>-2.177409</td>\n",
       "      <td>-2.177409</td>\n",
       "      <td>-2.177409</td>\n",
       "      <td>-2.177409</td>\n",
       "      <td>-2.177409</td>\n",
       "      <td>-2.115485</td>\n",
       "      <td>-2.177409</td>\n",
       "      <td>-2.177409</td>\n",
       "      <td>-2.177409</td>\n",
       "      <td>...</td>\n",
       "      <td>-2.161081</td>\n",
       "      <td>-2.177409</td>\n",
       "      <td>-2.177409</td>\n",
       "      <td>-2.177409</td>\n",
       "      <td>-2.177409</td>\n",
       "      <td>-2.177409</td>\n",
       "      <td>-2.177409</td>\n",
       "      <td>-2.177409</td>\n",
       "      <td>-2.177409</td>\n",
       "      <td>-2.177409</td>\n",
       "    </tr>\n",
       "    <tr>\n",
       "      <th>4</th>\n",
       "      <td>4</td>\n",
       "      <td>-2.189562</td>\n",
       "      <td>-2.187783</td>\n",
       "      <td>-2.194008</td>\n",
       "      <td>-2.171153</td>\n",
       "      <td>-2.152303</td>\n",
       "      <td>-2.056618</td>\n",
       "      <td>-2.194008</td>\n",
       "      <td>-2.194008</td>\n",
       "      <td>-2.145911</td>\n",
       "      <td>...</td>\n",
       "      <td>-2.187356</td>\n",
       "      <td>-2.194008</td>\n",
       "      <td>-2.191779</td>\n",
       "      <td>-2.194008</td>\n",
       "      <td>-2.194008</td>\n",
       "      <td>-2.185161</td>\n",
       "      <td>-2.194008</td>\n",
       "      <td>-2.194008</td>\n",
       "      <td>-2.194008</td>\n",
       "      <td>-2.188037</td>\n",
       "    </tr>\n",
       "  </tbody>\n",
       "</table>\n",
       "<p>5 rows × 150 columns</p>\n",
       "</div>"
      ],
      "text/plain": [
       "   srch_destination_id        d1        d2        d3        d4        d5  \\\n",
       "0                    0 -2.198657 -2.198657 -2.198657 -2.198657 -2.198657   \n",
       "1                    1 -2.181690 -2.181690 -2.181690 -2.082564 -2.181690   \n",
       "2                    2 -2.183490 -2.224164 -2.224164 -2.189562 -2.105819   \n",
       "3                    3 -2.177409 -2.177409 -2.177409 -2.177409 -2.177409   \n",
       "4                    4 -2.189562 -2.187783 -2.194008 -2.171153 -2.152303   \n",
       "\n",
       "         d6        d7        d8        d9  ...      d140      d141      d142  \\\n",
       "0 -1.897627 -2.198657 -2.198657 -1.897627  ... -2.198657 -2.198657 -2.198657   \n",
       "1 -2.165028 -2.181690 -2.181690 -2.031597  ... -2.165028 -2.181690 -2.165028   \n",
       "2 -2.075407 -2.224164 -2.118483 -2.140393  ... -2.224164 -2.224164 -2.196379   \n",
       "3 -2.115485 -2.177409 -2.177409 -2.177409  ... -2.161081 -2.177409 -2.177409   \n",
       "4 -2.056618 -2.194008 -2.194008 -2.145911  ... -2.187356 -2.194008 -2.191779   \n",
       "\n",
       "       d143      d144      d145      d146      d147      d148      d149  \n",
       "0 -2.198657 -2.198657 -2.198657 -2.198657 -2.198657 -2.198657 -2.198657  \n",
       "1 -2.181690 -2.181690 -2.165028 -2.181690 -2.181690 -2.181690 -2.181690  \n",
       "2 -2.224164 -2.192009 -2.224164 -2.224164 -2.224164 -2.224164 -2.057548  \n",
       "3 -2.177409 -2.177409 -2.177409 -2.177409 -2.177409 -2.177409 -2.177409  \n",
       "4 -2.194008 -2.194008 -2.185161 -2.194008 -2.194008 -2.194008 -2.188037  \n",
       "\n",
       "[5 rows x 150 columns]"
      ]
     },
     "execution_count": 151,
     "metadata": {},
     "output_type": "execute_result"
    }
   ],
   "source": [
    "dest_data.head(5)"
   ]
  },
  {
   "cell_type": "markdown",
   "id": "democratic-intervention",
   "metadata": {},
   "source": [
    "## Apply PCA to extract only top 10 most relevant dimensions"
   ]
  },
  {
   "cell_type": "code",
   "execution_count": 152,
   "id": "according-dollar",
   "metadata": {},
   "outputs": [
    {
     "data": {
      "text/plain": [
       "array([[-3.23594639e+04,  3.91171508e-02,  1.83897680e-01, ...,\n",
       "        -8.95076187e-04,  2.72242521e-05, -1.38904284e-06],\n",
       "       [-3.23584639e+04, -3.56569311e-01,  9.17178951e-02, ...,\n",
       "         1.90740877e-04, -2.29089126e-04,  8.45786956e-05],\n",
       "       [-3.23574639e+04,  8.63287331e-02,  3.66722352e-02, ...,\n",
       "        -2.13700576e-03,  1.87017759e-03, -2.20432977e-04],\n",
       "       ...,\n",
       "       [ 3.26315361e+04,  8.05617083e-02,  1.92824073e-01, ...,\n",
       "        -5.68538143e-04, -1.21487882e-04,  1.58066944e-04],\n",
       "       [ 3.26325361e+04, -6.66110376e-01, -4.38087800e-02, ...,\n",
       "        -4.00914640e-05,  2.20538540e-04, -1.60722688e-05],\n",
       "       [ 3.26335361e+04, -4.61482798e-01, -2.75790500e-02, ...,\n",
       "        -4.96164892e-04, -1.61638319e-04,  3.60342984e-05]])"
      ]
     },
     "execution_count": 152,
     "metadata": {},
     "output_type": "execute_result"
    }
   ],
   "source": [
    "model = PCA(n_components=None).fit(dest_data)\n",
    "dest_data_pc = model.transform(dest_data)\n",
    "dest_data_pc"
   ]
  },
  {
   "cell_type": "code",
   "execution_count": 153,
   "id": "physical-treaty",
   "metadata": {},
   "outputs": [
    {
     "data": {
      "text/plain": [
       "150"
      ]
     },
     "execution_count": 153,
     "metadata": {},
     "output_type": "execute_result"
    }
   ],
   "source": [
    "# number of components\n",
    "number_features= model.components_.shape[0]\n",
    "number_features"
   ]
  },
  {
   "cell_type": "code",
   "execution_count": 154,
   "id": "korean-arrival",
   "metadata": {},
   "outputs": [
    {
     "name": "stdout",
     "output_type": "stream",
     "text": [
      "[0, 37, 9, 58, 108, 6, 108, 20, 108, 88, 6, 20, 71, 94, 71, 53, 6, 66, 53, 43, 136, 103, 103, 53, 14, 77, 136, 141, 114, 132, 55, 136, 55, 44, 13, 44, 122, 122, 11, 110, 11, 83, 76, 21, 17, 78, 146, 17, 129, 137, 126, 126, 75, 126, 129, 34, 34, 10, 142, 47, 47, 22, 102, 2, 25, 96, 35, 4, 35, 36, 61, 61, 30, 73, 36, 1, 109, 96, 127, 50, 1, 98, 127, 134, 30, 82, 48, 32, 69, 81, 105, 81, 81, 85, 59, 68, 32, 8, 38, 143, 42, 62, 39, 62, 54, 144, 124, 26, 104, 67, 89, 120, 125, 107, 100, 46, 19, 3, 145, 133, 63, 64, 63, 28, 95, 111, 95, 148, 117, 97, 52, 31, 40, 118, 12, 140, 86, 119, 86, 60, 90, 113, 70, 15, 23, 116, 123, 72, 72, 135]\n"
     ]
    }
   ],
   "source": [
    "# get the index of the most important feature on EACH component\n",
    "# LIST COMPREHENSION HERE\n",
    "most_related_column = [np.abs(model.components_[i]).argmax() for i in range(number_features)]\n",
    "print(most_related_column)\n",
    "\n",
    "initial_column= ['srch_destination_id', 'd1', 'd2', 'd3', 'd4', 'd5', 'd6', 'd7', 'd8', 'd9', 'd10', 'd11', 'd12', 'd13', 'd14', 'd15', 'd16', 'd17', 'd18', 'd19', 'd20', 'd21', 'd22', 'd23', 'd24', 'd25', 'd26', 'd27', 'd28', 'd29', 'd30', 'd31', 'd32', 'd33', 'd34', 'd35', 'd36', 'd37', 'd38', 'd39', 'd40', 'd41', 'd42', 'd43', 'd44', 'd45', 'd46', 'd47', 'd48', 'd49', 'd50', 'd51', 'd52', 'd53', 'd54', 'd55', 'd56', 'd57', 'd58', 'd59', 'd60', 'd61', 'd62', 'd63', 'd64', 'd65', 'd66', 'd67', 'd68', 'd69', 'd70', 'd71', 'd72', 'd73', 'd74', 'd75', 'd76', 'd77', 'd78', 'd79', 'd80', 'd81', 'd82', 'd83', 'd84', 'd85', 'd86', 'd87', 'd88', 'd89', 'd90', 'd91', 'd92', 'd93', 'd94', 'd95', 'd96', 'd97', 'd98', 'd99','d100','d101','d102','d103','d104','d105','d106', 'd107','d108','d109','d110','d111','d112','d113','d114','d115', 'd116','d117','d118','d119','d120','d121','d122','d123','d124','d125','d126','d127','d128','d129','d130','d131','d132','d133','d134','d135','d136','d137','d138','d139','d140','d141','d142','d143', 'd144','d145','d146','d147','d148','d149']\n",
    "# get the index of the most important feature on EACH component]\n",
    "# get the names\n",
    "most_relevant_column_names = [initial_column[most_related_column[i]] for i in range(number_features)]\n",
    "\n",
    "# LIST COMPREHENSION HERE AGAIN\n",
    "dic = {'PC{}'.format(i): most_relevant_column_names[i] for i in range(number_features)}\n",
    "\n",
    "# build the dataframe\n",
    "relevant_column = pd.DataFrame(dic.items())"
   ]
  },
  {
   "cell_type": "code",
   "execution_count": 155,
   "id": "binding-paste",
   "metadata": {},
   "outputs": [
    {
     "data": {
      "text/html": [
       "<div>\n",
       "<style scoped>\n",
       "    .dataframe tbody tr th:only-of-type {\n",
       "        vertical-align: middle;\n",
       "    }\n",
       "\n",
       "    .dataframe tbody tr th {\n",
       "        vertical-align: top;\n",
       "    }\n",
       "\n",
       "    .dataframe thead th {\n",
       "        text-align: right;\n",
       "    }\n",
       "</style>\n",
       "<table border=\"1\" class=\"dataframe\">\n",
       "  <thead>\n",
       "    <tr style=\"text-align: right;\">\n",
       "      <th></th>\n",
       "      <th>0</th>\n",
       "      <th>1</th>\n",
       "    </tr>\n",
       "  </thead>\n",
       "  <tbody>\n",
       "    <tr>\n",
       "      <th>0</th>\n",
       "      <td>PC0</td>\n",
       "      <td>srch_destination_id</td>\n",
       "    </tr>\n",
       "    <tr>\n",
       "      <th>1</th>\n",
       "      <td>PC1</td>\n",
       "      <td>d37</td>\n",
       "    </tr>\n",
       "    <tr>\n",
       "      <th>2</th>\n",
       "      <td>PC2</td>\n",
       "      <td>d9</td>\n",
       "    </tr>\n",
       "    <tr>\n",
       "      <th>3</th>\n",
       "      <td>PC3</td>\n",
       "      <td>d58</td>\n",
       "    </tr>\n",
       "    <tr>\n",
       "      <th>4</th>\n",
       "      <td>PC4</td>\n",
       "      <td>d108</td>\n",
       "    </tr>\n",
       "    <tr>\n",
       "      <th>5</th>\n",
       "      <td>PC5</td>\n",
       "      <td>d6</td>\n",
       "    </tr>\n",
       "    <tr>\n",
       "      <th>6</th>\n",
       "      <td>PC6</td>\n",
       "      <td>d108</td>\n",
       "    </tr>\n",
       "    <tr>\n",
       "      <th>7</th>\n",
       "      <td>PC7</td>\n",
       "      <td>d20</td>\n",
       "    </tr>\n",
       "    <tr>\n",
       "      <th>8</th>\n",
       "      <td>PC8</td>\n",
       "      <td>d108</td>\n",
       "    </tr>\n",
       "    <tr>\n",
       "      <th>9</th>\n",
       "      <td>PC9</td>\n",
       "      <td>d88</td>\n",
       "    </tr>\n",
       "    <tr>\n",
       "      <th>10</th>\n",
       "      <td>PC10</td>\n",
       "      <td>d6</td>\n",
       "    </tr>\n",
       "    <tr>\n",
       "      <th>11</th>\n",
       "      <td>PC11</td>\n",
       "      <td>d20</td>\n",
       "    </tr>\n",
       "    <tr>\n",
       "      <th>12</th>\n",
       "      <td>PC12</td>\n",
       "      <td>d71</td>\n",
       "    </tr>\n",
       "    <tr>\n",
       "      <th>13</th>\n",
       "      <td>PC13</td>\n",
       "      <td>d94</td>\n",
       "    </tr>\n",
       "    <tr>\n",
       "      <th>14</th>\n",
       "      <td>PC14</td>\n",
       "      <td>d71</td>\n",
       "    </tr>\n",
       "    <tr>\n",
       "      <th>15</th>\n",
       "      <td>PC15</td>\n",
       "      <td>d53</td>\n",
       "    </tr>\n",
       "    <tr>\n",
       "      <th>16</th>\n",
       "      <td>PC16</td>\n",
       "      <td>d6</td>\n",
       "    </tr>\n",
       "    <tr>\n",
       "      <th>17</th>\n",
       "      <td>PC17</td>\n",
       "      <td>d66</td>\n",
       "    </tr>\n",
       "    <tr>\n",
       "      <th>18</th>\n",
       "      <td>PC18</td>\n",
       "      <td>d53</td>\n",
       "    </tr>\n",
       "    <tr>\n",
       "      <th>19</th>\n",
       "      <td>PC19</td>\n",
       "      <td>d43</td>\n",
       "    </tr>\n",
       "  </tbody>\n",
       "</table>\n",
       "</div>"
      ],
      "text/plain": [
       "       0                    1\n",
       "0    PC0  srch_destination_id\n",
       "1    PC1                  d37\n",
       "2    PC2                   d9\n",
       "3    PC3                  d58\n",
       "4    PC4                 d108\n",
       "5    PC5                   d6\n",
       "6    PC6                 d108\n",
       "7    PC7                  d20\n",
       "8    PC8                 d108\n",
       "9    PC9                  d88\n",
       "10  PC10                   d6\n",
       "11  PC11                  d20\n",
       "12  PC12                  d71\n",
       "13  PC13                  d94\n",
       "14  PC14                  d71\n",
       "15  PC15                  d53\n",
       "16  PC16                   d6\n",
       "17  PC17                  d66\n",
       "18  PC18                  d53\n",
       "19  PC19                  d43"
      ]
     },
     "execution_count": 155,
     "metadata": {},
     "output_type": "execute_result"
    }
   ],
   "source": [
    "relevant_column.head(20)"
   ]
  },
  {
   "cell_type": "markdown",
   "id": "grateful-italy",
   "metadata": {},
   "source": [
    "# Merge only top 10 most correlated columns"
   ]
  },
  {
   "cell_type": "code",
   "execution_count": 156,
   "id": "dutch-detection",
   "metadata": {},
   "outputs": [],
   "source": [
    "df = pd.merge(df,dest_data[['srch_destination_id','d37', 'd9', 'd58', 'd108', 'd6', 'd108', 'd20', 'd108', 'd88', 'd71']],on='srch_destination_id')"
   ]
  },
  {
   "cell_type": "markdown",
   "id": "graduate-importance",
   "metadata": {},
   "source": [
    "## Visualize Correlation Matrix Between the Features of the Training Set"
   ]
  },
  {
   "cell_type": "code",
   "execution_count": 157,
   "id": "creative-healing",
   "metadata": {},
   "outputs": [
    {
     "data": {
      "text/plain": [
       "Index(['date_time', 'site_name', 'posa_continent', 'user_location_country',\n",
       "       'user_location_region', 'user_location_city',\n",
       "       'orig_destination_distance', 'user_id', 'is_mobile', 'is_package',\n",
       "       'channel', 'srch_ci', 'srch_co', 'srch_adults_cnt', 'srch_children_cnt',\n",
       "       'srch_rm_cnt', 'srch_destination_id', 'srch_destination_type_id',\n",
       "       'is_booking', 'cnt', 'hotel_continent', 'hotel_country', 'hotel_market',\n",
       "       'hotel_cluster', 'checkin_year', 'checkin_month', 'checkout_year',\n",
       "       'checkout_month', 'duration', 'd37', 'd9', 'd58', 'd108', 'd6', 'd108',\n",
       "       'd20', 'd108', 'd88', 'd71'],\n",
       "      dtype='object')"
      ]
     },
     "execution_count": 157,
     "metadata": {},
     "output_type": "execute_result"
    }
   ],
   "source": [
    "df_copy= df.copy()\n",
    "df_copy.columns"
   ]
  },
  {
   "cell_type": "code",
   "execution_count": 158,
   "id": "fantastic-thumbnail",
   "metadata": {},
   "outputs": [],
   "source": [
    "df_copy= df_copy.drop(['date_time'],axis=1)\n",
    "df_copy= df_copy.drop(['srch_ci'],axis=1)\n",
    "df_copy= df_copy.drop(['srch_co'],axis=1)\n",
    "df_copy= df_copy.drop(['is_booking'],axis=1)\n",
    "df_copy= df_copy.drop(['checkin_year'],axis=1)\n",
    "df_copy= df_copy.drop(['checkin_month'],axis=1)\n",
    "df_copy= df_copy.drop(['checkout_year'],axis=1)\n",
    "df_copy= df_copy.drop(['checkout_month'],axis=1)\n",
    "df_copy= df_copy.drop(['d37'],axis=1)\n",
    "df_copy= df_copy.drop(['d9'],axis=1)\n",
    "df_copy= df_copy.drop(['d58'],axis=1)\n",
    "df_copy= df_copy.drop(['d108'],axis=1)\n",
    "df_copy= df_copy.drop(['d6'],axis=1)\n",
    "df_copy= df_copy.drop(['d20'],axis=1)\n",
    "df_copy= df_copy.drop(['d88'],axis=1)\n",
    "df_copy= df_copy.drop(['d71'],axis=1)"
   ]
  },
  {
   "cell_type": "code",
   "execution_count": 159,
   "id": "martial-invitation",
   "metadata": {},
   "outputs": [],
   "source": [
    "df_copy[\"duration\"] = df_copy[\"duration\"].astype(str).astype(int)"
   ]
  },
  {
   "cell_type": "code",
   "execution_count": 160,
   "id": "public-encounter",
   "metadata": {},
   "outputs": [
    {
     "data": {
      "text/plain": [
       "<AxesSubplot:>"
      ]
     },
     "execution_count": 160,
     "metadata": {},
     "output_type": "execute_result"
    },
    {
     "data": {
      "image/png": "[encoded data removed]",
      "text/plain": [
       "<Figure size 1440x720 with 2 Axes>"
      ]
     },
     "metadata": {
      "needs_background": "light"
     },
     "output_type": "display_data"
    }
   ],
   "source": [
    "import seaborn as sb\n",
    "corr = df_copy.corr()\n",
    "fig, ax = plt.subplots(figsize=(20, 10))\n",
    "sb.heatmap(round(corr, 2).iloc[:, :], annot=True, linewidths=.5, ax=ax, cmap=\"rainbow\",fmt='.2f')"
   ]
  },
  {
   "cell_type": "code",
   "execution_count": null,
   "id": "living-olympus",
   "metadata": {},
   "outputs": [],
   "source": []
  },
  {
   "cell_type": "markdown",
   "id": "injured-eclipse",
   "metadata": {},
   "source": [
    "# Data Visualization"
   ]
  },
  {
   "cell_type": "markdown",
   "id": "registered-night",
   "metadata": {},
   "source": [
    "## Most number of hotels in the Country"
   ]
  },
  {
   "cell_type": "code",
   "execution_count": 161,
   "id": "personal-setting",
   "metadata": {},
   "outputs": [
    {
     "data": {
      "text/plain": [
       "<AxesSubplot:xlabel='hotel_continent', ylabel='count'>"
      ]
     },
     "execution_count": 161,
     "metadata": {},
     "output_type": "execute_result"
    },
    {
     "data": {
      "image/png": "[encoded data removed]",
      "text/plain": [
       "<Figure size 720x288 with 1 Axes>"
      ]
     },
     "metadata": {
      "needs_background": "light"
     },
     "output_type": "display_data"
    }
   ],
   "source": [
    "plt.figure(figsize=(10, 4))\n",
    "sns.countplot(x='hotel_continent', palette='hls',data=df, edgecolor=sns.color_palette(\"dark\", 3))"
   ]
  },
  {
   "cell_type": "markdown",
   "id": "smart-requirement",
   "metadata": {},
   "source": [
    "## User Location Country"
   ]
  },
  {
   "cell_type": "markdown",
   "id": "alike-angola",
   "metadata": {},
   "source": [
    "## The ID of the country the customer is located"
   ]
  },
  {
   "cell_type": "code",
   "execution_count": 162,
   "id": "operating-federation",
   "metadata": {},
   "outputs": [
    {
     "data": {
      "text/plain": [
       "<AxesSubplot:xlabel='user_location_country', ylabel='count'>"
      ]
     },
     "execution_count": 162,
     "metadata": {},
     "output_type": "execute_result"
    },
    {
     "data": {
      "image/png": "[encoded data removed]",
      "text/plain": [
       "<Figure size 720x288 with 1 Axes>"
      ]
     },
     "metadata": {
      "needs_background": "light"
     },
     "output_type": "display_data"
    }
   ],
   "source": [
    "plt.figure(figsize=(10, 4))\n",
    "sns.countplot(x=df['user_location_country'],palette=\"Set1\", edgecolor=sns.color_palette(\"dark\", 3))"
   ]
  },
  {
   "cell_type": "markdown",
   "id": "stainless-closure",
   "metadata": {},
   "source": [
    "## Hotel Country"
   ]
  },
  {
   "cell_type": "markdown",
   "id": "billion-garage",
   "metadata": {},
   "source": [
    "Let's take a look, \n",
    "       i.  What are the most countries the customer travel from?\n",
    "       ii. What are the most countries the customer travel to?"
   ]
  },
  {
   "cell_type": "code",
   "execution_count": 163,
   "id": "moving-projection",
   "metadata": {},
   "outputs": [
    {
     "name": "stderr",
     "output_type": "stream",
     "text": [
      "c:\\users\\user\\anaconda3\\envs\\tensorflow_env\\lib\\site-packages\\seaborn\\_decorators.py:36: FutureWarning: Pass the following variable as a keyword arg: x. From version 0.12, the only valid positional argument will be `data`, and passing other arguments without an explicit keyword will result in an error or misinterpretation.\n",
      "  warnings.warn(\n",
      "c:\\users\\user\\anaconda3\\envs\\tensorflow_env\\lib\\site-packages\\seaborn\\_decorators.py:36: FutureWarning: Pass the following variable as a keyword arg: x. From version 0.12, the only valid positional argument will be `data`, and passing other arguments without an explicit keyword will result in an error or misinterpretation.\n",
      "  warnings.warn(\n"
     ]
    },
    {
     "data": {
      "text/plain": [
       "<AxesSubplot:xlabel='hotel_country', ylabel='count'>"
      ]
     },
     "execution_count": 163,
     "metadata": {},
     "output_type": "execute_result"
    },
    {
     "data": {
      "image/png": "[encoded data removed]",
      "text/plain": [
       "<Figure size 1440x288 with 1 Axes>"
      ]
     },
     "metadata": {
      "needs_background": "light"
     },
     "output_type": "display_data"
    },
    {
     "data": {
      "image/png": "[encoded data removed]",
      "text/plain": [
       "<Figure size 1800x288 with 1 Axes>"
      ]
     },
     "metadata": {
      "needs_background": "light"
     },
     "output_type": "display_data"
    }
   ],
   "source": [
    "#We are only interested in booking events\n",
    "df_only_booking = df.loc[df['is_booking'] == 1]\n",
    "#print(df_only_booking)\n",
    "\n",
    "# Most countries the customer travel from\n",
    "plt.figure(figsize=(20, 4))\n",
    "sns.countplot('user_location_country',data=df_only_booking.sort_values(by=['user_location_country']),palette=\"Set3\", edgecolor=sns.color_palette(\"dark\", 3))\n",
    "\n",
    "# Most countries the customer travel to\n",
    "plt.figure(figsize=(25, 4))\n",
    "sns.countplot('hotel_country',data=df_only_booking.sort_values(by=['hotel_country']),palette=\"Set3\", edgecolor=sns.color_palette(\"dark\", 3))"
   ]
  },
  {
   "cell_type": "markdown",
   "id": "proprietary-ranking",
   "metadata": {},
   "source": [
    "## User Location Region"
   ]
  },
  {
   "cell_type": "markdown",
   "id": "exterior-tennis",
   "metadata": {},
   "source": [
    "## The ID of the region the customer is located"
   ]
  },
  {
   "cell_type": "code",
   "execution_count": 164,
   "id": "bottom-halifax",
   "metadata": {},
   "outputs": [
    {
     "data": {
      "image/png": "[encoded data removed]",
      "text/plain": [
       "<Figure size 1440x432 with 1 Axes>"
      ]
     },
     "metadata": {
      "needs_background": "light"
     },
     "output_type": "display_data"
    }
   ],
   "source": [
    "plt.figure(figsize=(20, 6))\n",
    "sns.countplot(x=df['user_location_region'],palette=\"Set3\", edgecolor=sns.color_palette(\"dark\", 3))\n",
    "plt.show()"
   ]
  },
  {
   "cell_type": "markdown",
   "id": "unauthorized-wholesale",
   "metadata": {},
   "source": [
    "## Top Ten User Countries"
   ]
  },
  {
   "cell_type": "code",
   "execution_count": 165,
   "id": "owned-easter",
   "metadata": {},
   "outputs": [],
   "source": [
    "top_user_countries_hotel = df.groupby('user_location_country')['user_location_region'].count().sort_values(ascending=False)[:10]"
   ]
  },
  {
   "cell_type": "code",
   "execution_count": 166,
   "id": "green-suspension",
   "metadata": {},
   "outputs": [
    {
     "data": {
      "text/plain": [
       "user_location_country\n",
       "66     78321\n",
       "205    11329\n",
       "46      2517\n",
       "1       1729\n",
       "215     1320\n",
       "77      1122\n",
       "182      298\n",
       "63       154\n",
       "69        61\n",
       "16        23\n",
       "Name: user_location_region, dtype: int64"
      ]
     },
     "execution_count": 166,
     "metadata": {},
     "output_type": "execute_result"
    }
   ],
   "source": [
    "top_user_countries_hotel"
   ]
  },
  {
   "cell_type": "markdown",
   "id": "interpreted-reservation",
   "metadata": {},
   "source": [
    "## Original destination distance between a hotel and a customer "
   ]
  },
  {
   "cell_type": "code",
   "execution_count": 167,
   "id": "annoying-steam",
   "metadata": {},
   "outputs": [
    {
     "name": "stderr",
     "output_type": "stream",
     "text": [
      "c:\\users\\user\\anaconda3\\envs\\tensorflow_env\\lib\\site-packages\\seaborn\\distributions.py:2557: FutureWarning: `distplot` is a deprecated function and will be removed in a future version. Please adapt your code to use either `displot` (a figure-level function with similar flexibility) or `histplot` (an axes-level function for histograms).\n",
      "  warnings.warn(msg, FutureWarning)\n"
     ]
    },
    {
     "data": {
      "text/plain": [
       "<AxesSubplot:xlabel='orig_destination_distance'>"
      ]
     },
     "execution_count": 167,
     "metadata": {},
     "output_type": "execute_result"
    },
    {
     "data": {
      "image/png": "[encoded data removed]",
      "text/plain": [
       "<Figure size 720x288 with 1 Axes>"
      ]
     },
     "metadata": {
      "needs_background": "light"
     },
     "output_type": "display_data"
    }
   ],
   "source": [
    "plt.figure(figsize=(10, 4))\n",
    "sns.distplot(df['orig_destination_distance'],kde=False,bins=40,color='r')"
   ]
  },
  {
   "cell_type": "markdown",
   "id": "prospective-domestic",
   "metadata": {},
   "source": [
    "## Difference Between User and Destination country"
   ]
  },
  {
   "cell_type": "code",
   "execution_count": 168,
   "id": "occupational-dover",
   "metadata": {},
   "outputs": [
    {
     "name": "stderr",
     "output_type": "stream",
     "text": [
      "c:\\users\\user\\anaconda3\\envs\\tensorflow_env\\lib\\site-packages\\seaborn\\distributions.py:2557: FutureWarning: `distplot` is a deprecated function and will be removed in a future version. Please adapt your code to use either `displot` (a figure-level function with similar flexibility) or `histplot` (an axes-level function for histograms).\n",
      "  warnings.warn(msg, FutureWarning)\n"
     ]
    },
    {
     "data": {
      "text/plain": [
       "<AxesSubplot:xlabel='hotel_country', ylabel='Density'>"
      ]
     },
     "execution_count": 168,
     "metadata": {},
     "output_type": "execute_result"
    },
    {
     "data": {
      "image/png": "[encoded data removed]",
      "text/plain": [
       "<Figure size 720x288 with 1 Axes>"
      ]
     },
     "metadata": {
      "needs_background": "light"
     },
     "output_type": "display_data"
    }
   ],
   "source": [
    "plt.figure(figsize=(10, 4))\n",
    "sns.distplot(df['user_location_country'], label=\"User country\")\n",
    "sns.distplot(df['hotel_country'], label=\"Hotel country\")"
   ]
  },
  {
   "cell_type": "markdown",
   "id": "unavailable-minutes",
   "metadata": {},
   "source": [
    "## Number of Booked Nights as Difference Between Check-in and Check out"
   ]
  },
  {
   "cell_type": "markdown",
   "id": "dated-leadership",
   "metadata": {},
   "source": [
    "Get number of booked nights as difference between check-in and check-out"
   ]
  },
  {
   "cell_type": "code",
   "execution_count": 169,
   "id": "french-identification",
   "metadata": {},
   "outputs": [],
   "source": [
    "df[\"srch_ci\"] =  pd.to_datetime(df[\"srch_ci\"], infer_datetime_format=True)\n",
    "df[\"srch_co\"] =  pd.to_datetime(df[\"srch_co\"], infer_datetime_format=True)"
   ]
  },
  {
   "cell_type": "code",
   "execution_count": 170,
   "id": "caring-segment",
   "metadata": {},
   "outputs": [
    {
     "data": {
      "image/png": "[encoded data removed]",
      "text/plain": [
       "<Figure size 792x648 with 1 Axes>"
      ]
     },
     "metadata": {
      "needs_background": "light"
     },
     "output_type": "display_data"
    }
   ],
   "source": [
    "hotel_nights = df['srch_co'] - df['srch_ci'] \n",
    "# convert to float to avoid NA problems\n",
    "hotel_nights = (hotel_nights / np.timedelta64(1, 'D')).astype(float) \n",
    "df['hotel_nights'] = hotel_nights\n",
    "\n",
    "#get number of booked nights as difference between check in and check out\n",
    "plt.figure(figsize=(11, 9))\n",
    "ax = sns.boxplot(x='hotel_continent', y='hotel_nights', palette=\"Set2\", data=df)\n",
    "lim = ax.set(ylim=(0, 15))"
   ]
  },
  {
   "cell_type": "markdown",
   "id": "reverse-network",
   "metadata": {},
   "source": [
    "## Posa Continent"
   ]
  },
  {
   "cell_type": "raw",
   "id": "delayed-uganda",
   "metadata": {},
   "source": [
    "ID of continent associated with site_name\n",
    "Most of People Booking are from Continent 3 I guess is one of the rich continent."
   ]
  },
  {
   "cell_type": "code",
   "execution_count": 171,
   "id": "descending-moral",
   "metadata": {},
   "outputs": [
    {
     "data": {
      "text/plain": [
       "<AxesSubplot:xlabel='posa_continent', ylabel='count'>"
      ]
     },
     "execution_count": 171,
     "metadata": {},
     "output_type": "execute_result"
    },
    {
     "data": {
      "image/png": "[encoded data removed]",
      "text/plain": [
       "<Figure size 720x288 with 1 Axes>"
      ]
     },
     "metadata": {
      "needs_background": "light"
     },
     "output_type": "display_data"
    }
   ],
   "source": [
    "plt.figure(figsize=(10, 4))\n",
    "sns.countplot(x='posa_continent', data=df)"
   ]
  },
  {
   "cell_type": "markdown",
   "id": "armed-estimate",
   "metadata": {},
   "source": [
    "## Hotel Continent VS Posa Continent"
   ]
  },
  {
   "cell_type": "code",
   "execution_count": 172,
   "id": "copyrighted-lafayette",
   "metadata": {},
   "outputs": [
    {
     "data": {
      "text/plain": [
       "<AxesSubplot:xlabel='hotel_continent', ylabel='count'>"
      ]
     },
     "execution_count": 172,
     "metadata": {},
     "output_type": "execute_result"
    },
    {
     "data": {
      "image/png": "[encoded data removed]",
      "text/plain": [
       "<Figure size 720x288 with 1 Axes>"
      ]
     },
     "metadata": {
      "needs_background": "light"
     },
     "output_type": "display_data"
    }
   ],
   "source": [
    "# putting the two above together\n",
    "plt.figure(figsize=(10, 4))\n",
    "sns.countplot(x='hotel_continent', hue='posa_continent', edgecolor=sns.color_palette(\"dark\", 3), data=df)"
   ]
  },
  {
   "cell_type": "markdown",
   "id": "alternate-blast",
   "metadata": {},
   "source": [
    "## Continent are Booking from Mobile where 1 for Mobile devices, 0 Otherwise"
   ]
  },
  {
   "cell_type": "code",
   "execution_count": 173,
   "id": "considerable-shareware",
   "metadata": {},
   "outputs": [
    {
     "data": {
      "text/plain": [
       "<AxesSubplot:xlabel='posa_continent', ylabel='count'>"
      ]
     },
     "execution_count": 173,
     "metadata": {},
     "output_type": "execute_result"
    },
    {
     "data": {
      "image/png": "[encoded data removed]",
      "text/plain": [
       "<Figure size 720x288 with 1 Axes>"
      ]
     },
     "metadata": {
      "needs_background": "light"
     },
     "output_type": "display_data"
    }
   ],
   "source": [
    "# how many people by continent are booking from mobile\n",
    "plt.figure(figsize=(10, 4))\n",
    "sns.countplot(x='posa_continent', hue='is_mobile', data = df)"
   ]
  },
  {
   "cell_type": "markdown",
   "id": "polar-connecticut",
   "metadata": {},
   "source": [
    "## Mobile Device Booking & Package 1 for Booking/Click was part of Package, 0 Otherwise"
   ]
  },
  {
   "cell_type": "markdown",
   "id": "timely-potato",
   "metadata": {},
   "source": [
    "Let's have a look on \n",
    "      i.  What's the frequency of bookings through mobile?\n",
    "      ii. What's the frequency of bookings with package?"
   ]
  },
  {
   "cell_type": "code",
   "execution_count": 174,
   "id": "retired-ethernet",
   "metadata": {},
   "outputs": [
    {
     "data": {
      "text/plain": [
       "<AxesSubplot:xlabel='is_package', ylabel='count'>"
      ]
     },
     "execution_count": 174,
     "metadata": {},
     "output_type": "execute_result"
    },
    {
     "data": {
      "image/png": "[encoded data removed]",
      "text/plain": [
       "<Figure size 1440x360 with 2 Axes>"
      ]
     },
     "metadata": {
      "needs_background": "light"
     },
     "output_type": "display_data"
    }
   ],
   "source": [
    "# Plotting frequency of is_mobile & is_package\n",
    "\n",
    "fig, (axis1,axis2) = plt.subplots(1,2,figsize=(20,5))\n",
    "\n",
    "# Frequency of bookings through mobile\n",
    "sns.countplot(x='is_mobile',data=df_only_booking, order=[0,1], palette=\"Set1\", ax=axis1)\n",
    "\n",
    "# Frequency of bookings with package\n",
    "sns.countplot(x='is_package',data=df_only_booking, order=[0,1], palette=\"Set1\", ax=axis2)"
   ]
  },
  {
   "cell_type": "markdown",
   "id": "recovered-relative",
   "metadata": {},
   "source": [
    "## Channel - Id of a Marketing Channel"
   ]
  },
  {
   "cell_type": "markdown",
   "id": "tough-bacteria",
   "metadata": {},
   "source": [
    "What's the most impactful channel?"
   ]
  },
  {
   "cell_type": "code",
   "execution_count": 175,
   "id": "egyptian-terror",
   "metadata": {},
   "outputs": [
    {
     "data": {
      "text/plain": [
       "<AxesSubplot:xlabel='channel', ylabel='count'>"
      ]
     },
     "execution_count": 175,
     "metadata": {},
     "output_type": "execute_result"
    },
    {
     "data": {
      "image/png": "[encoded data removed]",
      "text/plain": [
       "<Figure size 1080x216 with 1 Axes>"
      ]
     },
     "metadata": {
      "needs_background": "light"
     },
     "output_type": "display_data"
    }
   ],
   "source": [
    "# Plot most importantly channel\n",
    "\n",
    "fig, (axis1) = plt.subplots(1,1,figsize=(15,3))\n",
    "sns.countplot(x='channel', order=list(range(0,10)), data=df, palette=\"Set2\")"
   ]
  },
  {
   "cell_type": "markdown",
   "id": "hairy-morgan",
   "metadata": {},
   "source": [
    "## Number of Adults & Number of Children specified in the hotel room"
   ]
  },
  {
   "cell_type": "code",
   "execution_count": 176,
   "id": "wanted-diesel",
   "metadata": {},
   "outputs": [
    {
     "data": {
      "image/png": "[encoded data removed]",
      "text/plain": [
       "<Figure size 720x288 with 1 Axes>"
      ]
     },
     "metadata": {
      "needs_background": "light"
     },
     "output_type": "display_data"
    }
   ],
   "source": [
    "# putting Number Adults Count\n",
    "plt.figure(figsize=(10, 4))\n",
    "sns.countplot(x=df['srch_adults_cnt'],palette=\"Set3\", edgecolor=sns.color_palette(\"dark\", 3))\n",
    "plt.show()"
   ]
  },
  {
   "cell_type": "code",
   "execution_count": 177,
   "id": "organic-webster",
   "metadata": {},
   "outputs": [
    {
     "data": {
      "image/png": "[encoded data removed]",
      "text/plain": [
       "<Figure size 720x288 with 1 Axes>"
      ]
     },
     "metadata": {
      "needs_background": "light"
     },
     "output_type": "display_data"
    }
   ],
   "source": [
    "# putting Number Children Count\n",
    "plt.figure(figsize=(10, 4))\n",
    "sns.countplot(x=df['srch_children_cnt'],palette=\"Set3\", edgecolor=sns.color_palette(\"dark\", 3))\n",
    "plt.show()"
   ]
  },
  {
   "cell_type": "markdown",
   "id": "departmental-recommendation",
   "metadata": {},
   "source": [
    "## Number of Hotel Rooms Specified in the search"
   ]
  },
  {
   "cell_type": "code",
   "execution_count": 178,
   "id": "optical-youth",
   "metadata": {},
   "outputs": [
    {
     "data": {
      "image/png": "[encoded data removed]",
      "text/plain": [
       "<Figure size 720x288 with 1 Axes>"
      ]
     },
     "metadata": {
      "needs_background": "light"
     },
     "output_type": "display_data"
    }
   ],
   "source": [
    "# putting Number Children Count\n",
    "plt.figure(figsize=(10, 4))\n",
    "sns.countplot(x=df['srch_rm_cnt'],palette=\"Set2\", edgecolor=sns.color_palette(\"dark\", 3))\n",
    "plt.show()"
   ]
  },
  {
   "cell_type": "markdown",
   "id": "endless-convertible",
   "metadata": {},
   "source": [
    "## Total Number of Bookings over Date"
   ]
  },
  {
   "cell_type": "code",
   "execution_count": 179,
   "id": "tested-austin",
   "metadata": {},
   "outputs": [
    {
     "data": {
      "image/png": "[encoded data removed]",
      "text/plain": [
       "<Figure size 1440x360 with 1 Axes>"
      ]
     },
     "metadata": {
      "needs_background": "light"
     },
     "output_type": "display_data"
    }
   ],
   "source": [
    "df['Date']  = df['srch_ci'].apply(lambda x: (str(x)[:7]) if x == x else np.nan)\n",
    "\n",
    "# Plot number of bookings over Date\n",
    "date_bookings  = df.groupby('Date')[\"is_booking\"].sum()\n",
    "ax1 = date_bookings.plot(legend=True,marker='o',title=\"Total Bookings\", figsize=(20,5)) \n",
    "ax1.set_xticks(range(len(date_bookings)))\n",
    "xlabels = ax1.set_xticklabels(date_bookings.index.tolist(), rotation=90)"
   ]
  },
  {
   "cell_type": "code",
   "execution_count": 203,
   "id": "closing-special",
   "metadata": {},
   "outputs": [],
   "source": []
  },
  {
   "cell_type": "code",
   "execution_count": null,
   "id": "liberal-papua",
   "metadata": {},
   "outputs": [],
   "source": []
  }
 ],
 "metadata": {
  "kernelspec": {
   "display_name": "Python 3",
   "language": "python",
   "name": "python3"
  },
  "language_info": {
   "codemirror_mode": {
    "name": "ipython",
    "version": 3
   },
   "file_extension": ".py",
   "mimetype": "text/x-python",
   "name": "python",
   "nbconvert_exporter": "python",
   "pygments_lexer": "ipython3",
   "version": "3.8.5"
  }
 },
 "nbformat": 4,
 "nbformat_minor": 5
}
