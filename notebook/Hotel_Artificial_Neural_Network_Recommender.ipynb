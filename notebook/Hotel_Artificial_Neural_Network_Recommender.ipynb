{
 "cells": [
  {
   "cell_type": "markdown",
   "id": "hazardous-improvement",
   "metadata": {},
   "source": [
    "# Expedia Hotel Recommendation System using Keras"
   ]
  },
  {
   "cell_type": "code",
   "execution_count": 54,
   "id": "challenging-immigration",
   "metadata": {},
   "outputs": [],
   "source": [
    "import numpy as np\n",
    "import pandas as pd\n",
    "import matplotlib.pyplot as plt\n",
    "import os\n",
    "import warnings\n",
    "\n",
    "from keras.layers import Embedding, Flatten, Concatenate\n",
    "from keras.models import Model\n",
    "from keras.layers import Dense\n",
    "from keras.layers import Input, Reshape, Dot\n",
    "from keras.layers.embeddings import Embedding\n",
    "from keras.optimizers import Adam\n",
    "from keras.regularizers import l2\n",
    "\n",
    "import tensorflow as tf\n",
    "from keras import backend as K\n",
    "\n",
    "from sklearn.model_selection import train_test_split\n",
    "from sklearn.preprocessing import LabelEncoder\n",
    "\n",
    "warnings.filterwarnings('ignore')\n",
    "%matplotlib inline"
   ]
  },
  {
   "cell_type": "code",
   "execution_count": 55,
   "id": "spatial-watts",
   "metadata": {},
   "outputs": [],
   "source": [
    "hotel_train_data = pd.read_csv(\"..data\\\\train.csv\", sep=',', nrows=150000)"
   ]
  },
  {
   "cell_type": "code",
   "execution_count": 56,
   "id": "published-beads",
   "metadata": {},
   "outputs": [
    {
     "data": {
      "text/html": [
       "<div>\n",
       "<style scoped>\n",
       "    .dataframe tbody tr th:only-of-type {\n",
       "        vertical-align: middle;\n",
       "    }\n",
       "\n",
       "    .dataframe tbody tr th {\n",
       "        vertical-align: top;\n",
       "    }\n",
       "\n",
       "    .dataframe thead th {\n",
       "        text-align: right;\n",
       "    }\n",
       "</style>\n",
       "<table border=\"1\" class=\"dataframe\">\n",
       "  <thead>\n",
       "    <tr style=\"text-align: right;\">\n",
       "      <th></th>\n",
       "      <th>date_time</th>\n",
       "      <th>site_name</th>\n",
       "      <th>posa_continent</th>\n",
       "      <th>user_location_country</th>\n",
       "      <th>user_location_region</th>\n",
       "      <th>user_location_city</th>\n",
       "      <th>orig_destination_distance</th>\n",
       "      <th>user_id</th>\n",
       "      <th>is_mobile</th>\n",
       "      <th>is_package</th>\n",
       "      <th>...</th>\n",
       "      <th>srch_children_cnt</th>\n",
       "      <th>srch_rm_cnt</th>\n",
       "      <th>srch_destination_id</th>\n",
       "      <th>srch_destination_type_id</th>\n",
       "      <th>is_booking</th>\n",
       "      <th>cnt</th>\n",
       "      <th>hotel_continent</th>\n",
       "      <th>hotel_country</th>\n",
       "      <th>hotel_market</th>\n",
       "      <th>hotel_cluster</th>\n",
       "    </tr>\n",
       "  </thead>\n",
       "  <tbody>\n",
       "    <tr>\n",
       "      <th>0</th>\n",
       "      <td>2014-08-11 07:46:59</td>\n",
       "      <td>2</td>\n",
       "      <td>3</td>\n",
       "      <td>66</td>\n",
       "      <td>348</td>\n",
       "      <td>48862</td>\n",
       "      <td>2234.2641</td>\n",
       "      <td>12</td>\n",
       "      <td>0</td>\n",
       "      <td>1</td>\n",
       "      <td>...</td>\n",
       "      <td>0</td>\n",
       "      <td>1</td>\n",
       "      <td>8250</td>\n",
       "      <td>1</td>\n",
       "      <td>0</td>\n",
       "      <td>3</td>\n",
       "      <td>2</td>\n",
       "      <td>50</td>\n",
       "      <td>628</td>\n",
       "      <td>1</td>\n",
       "    </tr>\n",
       "    <tr>\n",
       "      <th>1</th>\n",
       "      <td>2014-08-11 08:22:12</td>\n",
       "      <td>2</td>\n",
       "      <td>3</td>\n",
       "      <td>66</td>\n",
       "      <td>348</td>\n",
       "      <td>48862</td>\n",
       "      <td>2234.2641</td>\n",
       "      <td>12</td>\n",
       "      <td>0</td>\n",
       "      <td>1</td>\n",
       "      <td>...</td>\n",
       "      <td>0</td>\n",
       "      <td>1</td>\n",
       "      <td>8250</td>\n",
       "      <td>1</td>\n",
       "      <td>1</td>\n",
       "      <td>1</td>\n",
       "      <td>2</td>\n",
       "      <td>50</td>\n",
       "      <td>628</td>\n",
       "      <td>1</td>\n",
       "    </tr>\n",
       "  </tbody>\n",
       "</table>\n",
       "<p>2 rows × 24 columns</p>\n",
       "</div>"
      ],
      "text/plain": [
       "             date_time  site_name  posa_continent  user_location_country  \\\n",
       "0  2014-08-11 07:46:59          2               3                     66   \n",
       "1  2014-08-11 08:22:12          2               3                     66   \n",
       "\n",
       "   user_location_region  user_location_city  orig_destination_distance  \\\n",
       "0                   348               48862                  2234.2641   \n",
       "1                   348               48862                  2234.2641   \n",
       "\n",
       "   user_id  is_mobile  is_package  ...  srch_children_cnt srch_rm_cnt  \\\n",
       "0       12          0           1  ...                  0           1   \n",
       "1       12          0           1  ...                  0           1   \n",
       "\n",
       "  srch_destination_id  srch_destination_type_id  is_booking  cnt  \\\n",
       "0                8250                         1           0    3   \n",
       "1                8250                         1           1    1   \n",
       "\n",
       "   hotel_continent  hotel_country  hotel_market  hotel_cluster  \n",
       "0                2             50           628              1  \n",
       "1                2             50           628              1  \n",
       "\n",
       "[2 rows x 24 columns]"
      ]
     },
     "execution_count": 56,
     "metadata": {},
     "output_type": "execute_result"
    }
   ],
   "source": [
    "hotel_train_data.head(2)"
   ]
  },
  {
   "cell_type": "markdown",
   "id": "sexual-startup",
   "metadata": {},
   "source": [
    "# Data Pre-processing"
   ]
  },
  {
   "cell_type": "code",
   "execution_count": 57,
   "id": "protected-furniture",
   "metadata": {},
   "outputs": [],
   "source": [
    "df = hotel_train_data[['user_id','hotel_cluster','is_booking']]"
   ]
  },
  {
   "cell_type": "code",
   "execution_count": 58,
   "id": "refined-australian",
   "metadata": {},
   "outputs": [],
   "source": [
    "df = hotel_train_data[['user_id','hotel_cluster','is_booking']]"
   ]
  },
  {
   "cell_type": "code",
   "execution_count": 59,
   "id": "infectious-living",
   "metadata": {},
   "outputs": [
    {
     "data": {
      "text/html": [
       "<div>\n",
       "<style scoped>\n",
       "    .dataframe tbody tr th:only-of-type {\n",
       "        vertical-align: middle;\n",
       "    }\n",
       "\n",
       "    .dataframe tbody tr th {\n",
       "        vertical-align: top;\n",
       "    }\n",
       "\n",
       "    .dataframe thead th {\n",
       "        text-align: right;\n",
       "    }\n",
       "</style>\n",
       "<table border=\"1\" class=\"dataframe\">\n",
       "  <thead>\n",
       "    <tr style=\"text-align: right;\">\n",
       "      <th></th>\n",
       "      <th>User_id</th>\n",
       "      <th>Item_id</th>\n",
       "      <th>Rating</th>\n",
       "    </tr>\n",
       "  </thead>\n",
       "  <tbody>\n",
       "    <tr>\n",
       "      <th>0</th>\n",
       "      <td>12</td>\n",
       "      <td>1</td>\n",
       "      <td>0</td>\n",
       "    </tr>\n",
       "    <tr>\n",
       "      <th>1</th>\n",
       "      <td>12</td>\n",
       "      <td>1</td>\n",
       "      <td>1</td>\n",
       "    </tr>\n",
       "    <tr>\n",
       "      <th>2</th>\n",
       "      <td>12</td>\n",
       "      <td>1</td>\n",
       "      <td>0</td>\n",
       "    </tr>\n",
       "    <tr>\n",
       "      <th>3</th>\n",
       "      <td>93</td>\n",
       "      <td>80</td>\n",
       "      <td>0</td>\n",
       "    </tr>\n",
       "    <tr>\n",
       "      <th>4</th>\n",
       "      <td>93</td>\n",
       "      <td>21</td>\n",
       "      <td>0</td>\n",
       "    </tr>\n",
       "  </tbody>\n",
       "</table>\n",
       "</div>"
      ],
      "text/plain": [
       "   User_id  Item_id  Rating\n",
       "0       12        1       0\n",
       "1       12        1       1\n",
       "2       12        1       0\n",
       "3       93       80       0\n",
       "4       93       21       0"
      ]
     },
     "execution_count": 59,
     "metadata": {},
     "output_type": "execute_result"
    }
   ],
   "source": [
    "#I've renamed columns for my work\n",
    "df.columns =['User_id', 'Item_id', 'Rating']\n",
    "df.head()"
   ]
  },
  {
   "cell_type": "code",
   "execution_count": 60,
   "id": "structural-remedy",
   "metadata": {},
   "outputs": [
    {
     "data": {
      "text/plain": [
       "(150000, 3)"
      ]
     },
     "execution_count": 60,
     "metadata": {},
     "output_type": "execute_result"
    }
   ],
   "source": [
    "df.shape"
   ]
  },
  {
   "cell_type": "code",
   "execution_count": 61,
   "id": "empty-massage",
   "metadata": {},
   "outputs": [
    {
     "data": {
      "text/plain": [
       "5142"
      ]
     },
     "execution_count": 61,
     "metadata": {},
     "output_type": "execute_result"
    }
   ],
   "source": [
    "n_users = len(df.User_id.unique())\n",
    "n_users"
   ]
  },
  {
   "cell_type": "code",
   "execution_count": 62,
   "id": "chubby-gross",
   "metadata": {},
   "outputs": [
    {
     "data": {
      "text/plain": [
       "100"
      ]
     },
     "execution_count": 62,
     "metadata": {},
     "output_type": "execute_result"
    }
   ],
   "source": [
    "n_books = len(df.Item_id.unique())\n",
    "n_books"
   ]
  },
  {
   "cell_type": "markdown",
   "id": "acoustic-hayes",
   "metadata": {},
   "source": [
    "Create variables with the total number of unique users and item in the data, as well as the min and max ratings present in the data"
   ]
  },
  {
   "cell_type": "code",
   "execution_count": 63,
   "id": "electrical-poison",
   "metadata": {},
   "outputs": [
    {
     "name": "stdout",
     "output_type": "stream",
     "text": [
      "0.0 1.0\n"
     ]
    }
   ],
   "source": [
    "user_enc = LabelEncoder()\n",
    "df['user'] = user_enc.fit_transform(df['User_id'].values)\n",
    "n_users = df['user'].nunique()\n",
    "\n",
    "item_enc = LabelEncoder()\n",
    "df['item'] = item_enc.fit_transform(df['Item_id'].values)\n",
    "n_items = df['item'].nunique()\n",
    "\n",
    "df['rating'] = df['Rating'].values.astype(np.float32)\n",
    "min_rating = min(df['rating'])\n",
    "max_rating = max(df['rating'])\n",
    "n_users, n_items\n",
    "print(min_rating, max_rating)"
   ]
  },
  {
   "cell_type": "markdown",
   "id": "wicked-shopper",
   "metadata": {},
   "source": [
    "# Split the data into training and test data sets"
   ]
  },
  {
   "cell_type": "code",
   "execution_count": 64,
   "id": "moderate-donna",
   "metadata": {},
   "outputs": [
    {
     "data": {
      "text/plain": [
       "((135000, 2), (15000, 2), (135000,), (15000,))"
      ]
     },
     "execution_count": 64,
     "metadata": {},
     "output_type": "execute_result"
    }
   ],
   "source": [
    "X = df[['user', 'item']].values\n",
    "y = df['rating'].values\n",
    "X_train, X_test, y_train, y_test = train_test_split(X, y, test_size=0.1, random_state=42)\n",
    "X_train.shape, X_test.shape, y_train.shape, y_test.shape"
   ]
  },
  {
   "cell_type": "code",
   "execution_count": 65,
   "id": "african-teaching",
   "metadata": {},
   "outputs": [],
   "source": [
    "n_factors = 50\n",
    "X_train_array = [X_train[:, 0], X_train[:, 1]]\n",
    "X_test_array = [X_test[:, 0], X_test[:, 1]]"
   ]
  },
  {
   "cell_type": "markdown",
   "id": "hazardous-center",
   "metadata": {},
   "source": [
    "# Creating Neural Network\n",
    "\n",
    "Neural Networks proved there effectivness for almost every machine learning problem as of now and they also perform exceptionally well for recommendation systems.\n",
    "\n",
    "Embeddings are weights that are learned to represent some specific variable like items and user in our case and therefore we can not only use them to get good results on our problem but also to extract inside about our data."
   ]
  },
  {
   "cell_type": "code",
   "execution_count": 66,
   "id": "impressed-apollo",
   "metadata": {},
   "outputs": [],
   "source": [
    "# creating user embedding\n",
    "user = Input(shape=(1,))\n",
    "u = Embedding(n_users, n_factors, embeddings_initializer='he_normal',\n",
    "                  embeddings_regularizer=l2(1e-6))(user)\n",
    "u = Reshape((n_factors,))(u)\n",
    "\n",
    "# creating item embedding path\n",
    "item = Input(shape=(1,))\n",
    "i = Embedding(n_items, n_factors, embeddings_initializer='he_normal',\n",
    "                  embeddings_regularizer=l2(1e-6))(item)\n",
    "i = Reshape((n_factors,))(i)\n",
    "    \n",
    "# concatenate features\n",
    "x = Concatenate()([u, i])\n",
    "   \n",
    "    \n",
    "# add fully-connected-layers\n",
    "fc1 = Dense(128, activation='relu')(x)\n",
    "fc2 = Dense(32, activation='relu')(fc1)\n",
    "out = Dense(1)(fc2)\n",
    "\n",
    "model = Model([user, item], out)\n",
    "opt = Adam(lr=0.001)\n",
    "model.compile(optimizer = opt, loss = 'mean_absolute_error', metrics=['accuracy'])"
   ]
  },
  {
   "cell_type": "code",
   "execution_count": 67,
   "id": "ecological-shipping",
   "metadata": {},
   "outputs": [
    {
     "name": "stdout",
     "output_type": "stream",
     "text": [
      "Model: \"functional_11\"\n",
      "__________________________________________________________________________________________________\n",
      "Layer (type)                    Output Shape         Param #     Connected to                     \n",
      "==================================================================================================\n",
      "input_13 (InputLayer)           [(None, 1)]          0                                            \n",
      "__________________________________________________________________________________________________\n",
      "input_14 (InputLayer)           [(None, 1)]          0                                            \n",
      "__________________________________________________________________________________________________\n",
      "embedding_12 (Embedding)        (None, 1, 50)        257100      input_13[0][0]                   \n",
      "__________________________________________________________________________________________________\n",
      "embedding_13 (Embedding)        (None, 1, 50)        5000        input_14[0][0]                   \n",
      "__________________________________________________________________________________________________\n",
      "reshape_11 (Reshape)            (None, 50)           0           embedding_12[0][0]               \n",
      "__________________________________________________________________________________________________\n",
      "reshape_12 (Reshape)            (None, 50)           0           embedding_13[0][0]               \n",
      "__________________________________________________________________________________________________\n",
      "concatenate_5 (Concatenate)     (None, 100)          0           reshape_11[0][0]                 \n",
      "                                                                 reshape_12[0][0]                 \n",
      "__________________________________________________________________________________________________\n",
      "dense_15 (Dense)                (None, 128)          12928       concatenate_5[0][0]              \n",
      "__________________________________________________________________________________________________\n",
      "dense_16 (Dense)                (None, 32)           4128        dense_15[0][0]                   \n",
      "__________________________________________________________________________________________________\n",
      "dense_17 (Dense)                (None, 1)            33          dense_16[0][0]                   \n",
      "==================================================================================================\n",
      "Total params: 279,189\n",
      "Trainable params: 279,189\n",
      "Non-trainable params: 0\n",
      "__________________________________________________________________________________________________\n"
     ]
    }
   ],
   "source": [
    "model.summary()"
   ]
  },
  {
   "cell_type": "markdown",
   "id": "narrative-intellectual",
   "metadata": {},
   "source": [
    "# Evaluation\n",
    "\n",
    "There are many evaluation metrics but for this project we used, most popular metric to evaluate accuracy of predicted ratings are Root Mean Squared Error (RMSE) and Mean Absolute Error (MAE)."
   ]
  },
  {
   "cell_type": "code",
   "execution_count": 68,
   "id": "important-finish",
   "metadata": {},
   "outputs": [
    {
     "name": "stdout",
     "output_type": "stream",
     "text": [
      "Epoch 1/5\n",
      "2110/2110 [==============================] - 9s 4ms/step - loss: 0.0862 - accuracy: 0.9168 - val_loss: 0.0843 - val_accuracy: 0.9164\n",
      "Epoch 2/5\n",
      "2110/2110 [==============================] - 8s 4ms/step - loss: 0.0836 - accuracy: 0.9168 - val_loss: 0.0838 - val_accuracy: 0.9164\n",
      "Epoch 3/5\n",
      "2110/2110 [==============================] - 9s 4ms/step - loss: 0.0834 - accuracy: 0.9168 - val_loss: 0.0838 - val_accuracy: 0.9164\n",
      "Epoch 4/5\n",
      "2110/2110 [==============================] - 8s 4ms/step - loss: 0.0834 - accuracy: 0.9168 - val_loss: 0.0839 - val_accuracy: 0.9164\n",
      "Epoch 5/5\n",
      "2110/2110 [==============================] - 9s 4ms/step - loss: 0.0834 - accuracy: 0.9168 - val_loss: 0.0837 - val_accuracy: 0.9164\n"
     ]
    }
   ],
   "source": [
    "history = model.fit(x=X_train_array, y=y_train, batch_size=64, epochs=5,\n",
    "                    verbose=1, validation_data=(X_test_array, y_test))"
   ]
  },
  {
   "cell_type": "markdown",
   "id": "laden-qualification",
   "metadata": {},
   "source": [
    "## Creating RMSE function for Neural Network"
   ]
  },
  {
   "cell_type": "code",
   "execution_count": 69,
   "id": "suited-floating",
   "metadata": {},
   "outputs": [],
   "source": [
    "def root_mean_squared_error(y_test, y_train):\n",
    "        return K.sqrt(K.mean(K.square(y_test - y_train))) "
   ]
  },
  {
   "cell_type": "code",
   "execution_count": 70,
   "id": "latter-mailing",
   "metadata": {},
   "outputs": [],
   "source": [
    "# creating user embedding\n",
    "user = Input(shape=(1,))\n",
    "u = Embedding(n_users, n_factors, embeddings_initializer='he_normal',\n",
    "                  embeddings_regularizer=l2(1e-6))(user)\n",
    "u = Reshape((n_factors,))(u)\n",
    "\n",
    "# creating item embedding path\n",
    "item = Input(shape=(1,))\n",
    "i = Embedding(n_items, n_factors, embeddings_initializer='he_normal',\n",
    "                  embeddings_regularizer=l2(1e-6))(item)\n",
    "i = Reshape((n_factors,))(i)\n",
    "    \n",
    "# concatenate features\n",
    "x = Concatenate()([u, i])\n",
    "     \n",
    "# add fully-connected-layers\n",
    "fc1 = Dense(128, activation='relu')(x)\n",
    "fc2 = Dense(32, activation='relu')(fc1)\n",
    "out = Dense(1)(fc2)\n",
    "\n",
    "model = Model([user, item], out)\n",
    "opt = Adam(lr=0.001)\n",
    "model.compile(optimizer = opt , loss = root_mean_squared_error, metrics=['accuracy'])"
   ]
  },
  {
   "cell_type": "code",
   "execution_count": 71,
   "id": "limiting-token",
   "metadata": {},
   "outputs": [
    {
     "name": "stdout",
     "output_type": "stream",
     "text": [
      "Model: \"functional_13\"\n",
      "__________________________________________________________________________________________________\n",
      "Layer (type)                    Output Shape         Param #     Connected to                     \n",
      "==================================================================================================\n",
      "input_15 (InputLayer)           [(None, 1)]          0                                            \n",
      "__________________________________________________________________________________________________\n",
      "input_16 (InputLayer)           [(None, 1)]          0                                            \n",
      "__________________________________________________________________________________________________\n",
      "embedding_14 (Embedding)        (None, 1, 50)        257100      input_15[0][0]                   \n",
      "__________________________________________________________________________________________________\n",
      "embedding_15 (Embedding)        (None, 1, 50)        5000        input_16[0][0]                   \n",
      "__________________________________________________________________________________________________\n",
      "reshape_13 (Reshape)            (None, 50)           0           embedding_14[0][0]               \n",
      "__________________________________________________________________________________________________\n",
      "reshape_14 (Reshape)            (None, 50)           0           embedding_15[0][0]               \n",
      "__________________________________________________________________________________________________\n",
      "concatenate_6 (Concatenate)     (None, 100)          0           reshape_13[0][0]                 \n",
      "                                                                 reshape_14[0][0]                 \n",
      "__________________________________________________________________________________________________\n",
      "dense_18 (Dense)                (None, 128)          12928       concatenate_6[0][0]              \n",
      "__________________________________________________________________________________________________\n",
      "dense_19 (Dense)                (None, 32)           4128        dense_18[0][0]                   \n",
      "__________________________________________________________________________________________________\n",
      "dense_20 (Dense)                (None, 1)            33          dense_19[0][0]                   \n",
      "==================================================================================================\n",
      "Total params: 279,189\n",
      "Trainable params: 279,189\n",
      "Non-trainable params: 0\n",
      "__________________________________________________________________________________________________\n"
     ]
    }
   ],
   "source": [
    "model.summary()"
   ]
  },
  {
   "cell_type": "code",
   "execution_count": 72,
   "id": "fifteen-burns",
   "metadata": {},
   "outputs": [
    {
     "name": "stdout",
     "output_type": "stream",
     "text": [
      "Epoch 1/5\n",
      "2110/2110 [==============================] - 8s 4ms/step - loss: 0.2671 - accuracy: 0.9168 - val_loss: 0.2680 - val_accuracy: 0.9164\n",
      "Epoch 2/5\n",
      "2110/2110 [==============================] - 8s 4ms/step - loss: 0.2623 - accuracy: 0.9168 - val_loss: 0.2698 - val_accuracy: 0.9164\n",
      "Epoch 3/5\n",
      "2110/2110 [==============================] - 8s 4ms/step - loss: 0.2610 - accuracy: 0.9168 - val_loss: 0.2700 - val_accuracy: 0.9163\n",
      "Epoch 4/5\n",
      "2110/2110 [==============================] - 8s 4ms/step - loss: 0.2599 - accuracy: 0.9167 - val_loss: 0.2722 - val_accuracy: 0.9163\n",
      "Epoch 5/5\n",
      "2110/2110 [==============================] - 8s 4ms/step - loss: 0.2581 - accuracy: 0.9166 - val_loss: 0.2747 - val_accuracy: 0.9166\n"
     ]
    }
   ],
   "source": [
    "history = model.fit(x=X_train_array, y=y_train, batch_size=64, epochs=5,\n",
    "                    verbose=1, validation_data=(X_test_array, y_test))"
   ]
  },
  {
   "cell_type": "code",
   "execution_count": 73,
   "id": "vocal-chance",
   "metadata": {},
   "outputs": [
    {
     "data": {
      "image/png": "[encoded data removed]",
      "text/plain": [
       "<Figure size 432x288 with 1 Axes>"
      ]
     },
     "metadata": {
      "needs_background": "light"
     },
     "output_type": "display_data"
    }
   ],
   "source": [
    "train_loss = history.history['loss']\n",
    "val_loss = history.history['val_loss']\n",
    "plt.plot(train_loss, color='r', label='Train Loss')\n",
    "plt.plot(val_loss, color='b', label='Validation Loss')\n",
    "plt.title(\"Train and Validation Loss Curve\")\n",
    "plt.legend()\n",
    "plt.show()"
   ]
  },
  {
   "cell_type": "markdown",
   "id": "effective-label",
   "metadata": {},
   "source": [
    "# Making Recommendations"
   ]
  },
  {
   "cell_type": "code",
   "execution_count": 74,
   "id": "elect-antique",
   "metadata": {},
   "outputs": [
    {
     "data": {
      "text/plain": [
       "array([0, 1, 2, 3, 4])"
      ]
     },
     "execution_count": 74,
     "metadata": {},
     "output_type": "execute_result"
    }
   ],
   "source": [
    "# Creating dataset for making recommendations for the first user\n",
    "hotel_data = np.array(list(set(df.Item_id)))\n",
    "hotel_data[:5]"
   ]
  },
  {
   "cell_type": "code",
   "execution_count": 75,
   "id": "assisted-immune",
   "metadata": {},
   "outputs": [
    {
     "data": {
      "text/plain": [
       "array([1, 1, 1, 1, 1])"
      ]
     },
     "execution_count": 75,
     "metadata": {},
     "output_type": "execute_result"
    }
   ],
   "source": [
    "user = np.array([1 for i in range(len(hotel_data))])\n",
    "user[:5]"
   ]
  },
  {
   "cell_type": "code",
   "execution_count": 76,
   "id": "vital-glass",
   "metadata": {},
   "outputs": [
    {
     "data": {
      "text/plain": [
       "array([72, 49, 59, 19, 36], dtype=int64)"
      ]
     },
     "execution_count": 76,
     "metadata": {},
     "output_type": "execute_result"
    }
   ],
   "source": [
    "predictions = model.predict([user, hotel_data])\n",
    "\n",
    "predictions = np.array([a[0] for a in predictions])\n",
    "\n",
    "recommended_item_ids = (-predictions).argsort()[:5]\n",
    "\n",
    "recommended_item_ids"
   ]
  },
  {
   "cell_type": "code",
   "execution_count": 77,
   "id": "transparent-vision",
   "metadata": {},
   "outputs": [
    {
     "data": {
      "text/plain": [
       "array([0.19043083, 0.18687372, 0.18581037, 0.18546915, 0.18278559],\n",
       "      dtype=float32)"
      ]
     },
     "execution_count": 77,
     "metadata": {},
     "output_type": "execute_result"
    }
   ],
   "source": [
    "# print predicted scores\n",
    "predictions[recommended_item_ids]"
   ]
  },
  {
   "cell_type": "markdown",
   "id": "electrical-flesh",
   "metadata": {},
   "source": [
    "# Recommend Hotel Cluster for a User"
   ]
  },
  {
   "cell_type": "code",
   "execution_count": 99,
   "id": "enhanced-creator",
   "metadata": {},
   "outputs": [],
   "source": [
    "rows = []\n",
    "hotel = list(df.drop_duplicates(subset='Item_id', keep='first').Item_id)\n",
    "names = list(df.drop_duplicates(subset='Item_id', keep='first').Item_id)\n",
    "\n",
    "for i in range(len(hotel)):\n",
    "    rows.append( dict({'name': names[i], 'Item_id' : hotel[i], 'User_id' : 1048}))\n",
    "test_data = pd.DataFrame(rows)"
   ]
  },
  {
   "cell_type": "code",
   "execution_count": 100,
   "id": "impressive-facing",
   "metadata": {},
   "outputs": [
    {
     "name": "stdout",
     "output_type": "stream",
     "text": [
      "Score:  72.0  for hotel cluster:  1\n",
      "Score:  59.0  for hotel cluster:  21\n",
      "Score:  49.0  for hotel cluster:  80\n",
      "Score:  36.0  for hotel cluster:  41\n",
      "Score:  19.0  for hotel cluster:  92\n"
     ]
    }
   ],
   "source": [
    "for idx, (score, name) in enumerate(sorted(zip(recommended_item_ids, names), reverse=True)):\n",
    " \n",
    "    print(\"Score: \", round(float(score), 2), \" for hotel cluster: \", name)"
   ]
  },
  {
   "cell_type": "code",
   "execution_count": null,
   "id": "ideal-october",
   "metadata": {},
   "outputs": [],
   "source": []
  }
 ],
 "metadata": {
  "kernelspec": {
   "display_name": "Python 3",
   "language": "python",
   "name": "python3"
  },
  "language_info": {
   "codemirror_mode": {
    "name": "ipython",
    "version": 3
   },
   "file_extension": ".py",
   "mimetype": "text/x-python",
   "name": "python",
   "nbconvert_exporter": "python",
   "pygments_lexer": "ipython3",
   "version": "3.8.5"
  }
 },
 "nbformat": 4,
 "nbformat_minor": 5
}
