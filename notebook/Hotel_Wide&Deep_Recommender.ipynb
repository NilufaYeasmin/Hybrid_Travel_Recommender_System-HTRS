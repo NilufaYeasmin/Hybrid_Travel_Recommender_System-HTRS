{
 "cells": [
  {
   "cell_type": "markdown",
   "id": "smaller-darwin",
   "metadata": {},
   "source": [
    "# Expedia Hotel Recommender System- Wide and Deep"
   ]
  },
  {
   "cell_type": "markdown",
   "id": "orange-dominant",
   "metadata": {},
   "source": [
    "## Importing all libraries"
   ]
  },
  {
   "cell_type": "code",
   "execution_count": 158,
   "id": "simple-signature",
   "metadata": {},
   "outputs": [],
   "source": [
    "import numpy as np\n",
    "import pandas as pd\n",
    "import matplotlib.pyplot as plt\n",
    "import seaborn as sns\n",
    "%matplotlib inline\n",
    "\n",
    "import tensorflow as tf\n",
    "import warnings\n",
    "import math\n",
    "from math import sqrt\n",
    "\n",
    "from tensorflow.python.keras.models import Model\n",
    "from tensorflow.python.keras.layers import Dense\n",
    "\n",
    "import sys\n",
    "from sklearn import metrics\n",
    "from sklearn.metrics import roc_curve, auc\n",
    "from sklearn.metrics import roc_auc_score\n",
    "from sklearn.metrics import mean_squared_error,r2_score\n",
    "from sklearn.metrics import mean_absolute_error\n",
    "from sklearn.preprocessing import LabelEncoder, MinMaxScaler\n",
    "from sklearn.model_selection import train_test_split\n",
    "\n",
    "from deepctr.layers.core import PredictionLayer, DNN\n",
    "from deepctr.layers.utils import add_func\n",
    "from deepctr.models import WDL\n",
    "\n",
    "from deepctr.models import DeepFM\n",
    "from deepctr.feature_column import SparseFeat, DenseFeat,get_feature_names"
   ]
  },
  {
   "cell_type": "markdown",
   "id": "gorgeous-testimony",
   "metadata": {},
   "source": [
    "# Reading and Storing Data"
   ]
  },
  {
   "cell_type": "code",
   "execution_count": 159,
   "id": "banner-drilling",
   "metadata": {},
   "outputs": [
    {
     "data": {
      "text/plain": [
       "(150000, 24)"
      ]
     },
     "execution_count": 159,
     "metadata": {},
     "output_type": "execute_result"
    }
   ],
   "source": [
    "df = pd.read_csv(\"..data\\\\train.csv\", sep=',', nrows=150000)\n",
    "df.shape"
   ]
  },
  {
   "cell_type": "code",
   "execution_count": 160,
   "id": "statistical-internship",
   "metadata": {},
   "outputs": [
    {
     "data": {
      "text/html": [
       "<div>\n",
       "<style scoped>\n",
       "    .dataframe tbody tr th:only-of-type {\n",
       "        vertical-align: middle;\n",
       "    }\n",
       "\n",
       "    .dataframe tbody tr th {\n",
       "        vertical-align: top;\n",
       "    }\n",
       "\n",
       "    .dataframe thead th {\n",
       "        text-align: right;\n",
       "    }\n",
       "</style>\n",
       "<table border=\"1\" class=\"dataframe\">\n",
       "  <thead>\n",
       "    <tr style=\"text-align: right;\">\n",
       "      <th></th>\n",
       "      <th>date_time</th>\n",
       "      <th>site_name</th>\n",
       "      <th>posa_continent</th>\n",
       "      <th>user_location_country</th>\n",
       "      <th>user_location_region</th>\n",
       "      <th>user_location_city</th>\n",
       "      <th>orig_destination_distance</th>\n",
       "      <th>user_id</th>\n",
       "      <th>is_mobile</th>\n",
       "      <th>is_package</th>\n",
       "      <th>...</th>\n",
       "      <th>srch_children_cnt</th>\n",
       "      <th>srch_rm_cnt</th>\n",
       "      <th>srch_destination_id</th>\n",
       "      <th>srch_destination_type_id</th>\n",
       "      <th>is_booking</th>\n",
       "      <th>cnt</th>\n",
       "      <th>hotel_continent</th>\n",
       "      <th>hotel_country</th>\n",
       "      <th>hotel_market</th>\n",
       "      <th>hotel_cluster</th>\n",
       "    </tr>\n",
       "  </thead>\n",
       "  <tbody>\n",
       "    <tr>\n",
       "      <th>0</th>\n",
       "      <td>2014-08-11 07:46:59</td>\n",
       "      <td>2</td>\n",
       "      <td>3</td>\n",
       "      <td>66</td>\n",
       "      <td>348</td>\n",
       "      <td>48862</td>\n",
       "      <td>2234.2641</td>\n",
       "      <td>12</td>\n",
       "      <td>0</td>\n",
       "      <td>1</td>\n",
       "      <td>...</td>\n",
       "      <td>0</td>\n",
       "      <td>1</td>\n",
       "      <td>8250</td>\n",
       "      <td>1</td>\n",
       "      <td>0</td>\n",
       "      <td>3</td>\n",
       "      <td>2</td>\n",
       "      <td>50</td>\n",
       "      <td>628</td>\n",
       "      <td>1</td>\n",
       "    </tr>\n",
       "    <tr>\n",
       "      <th>1</th>\n",
       "      <td>2014-08-11 08:22:12</td>\n",
       "      <td>2</td>\n",
       "      <td>3</td>\n",
       "      <td>66</td>\n",
       "      <td>348</td>\n",
       "      <td>48862</td>\n",
       "      <td>2234.2641</td>\n",
       "      <td>12</td>\n",
       "      <td>0</td>\n",
       "      <td>1</td>\n",
       "      <td>...</td>\n",
       "      <td>0</td>\n",
       "      <td>1</td>\n",
       "      <td>8250</td>\n",
       "      <td>1</td>\n",
       "      <td>1</td>\n",
       "      <td>1</td>\n",
       "      <td>2</td>\n",
       "      <td>50</td>\n",
       "      <td>628</td>\n",
       "      <td>1</td>\n",
       "    </tr>\n",
       "  </tbody>\n",
       "</table>\n",
       "<p>2 rows × 24 columns</p>\n",
       "</div>"
      ],
      "text/plain": [
       "             date_time  site_name  posa_continent  user_location_country  \\\n",
       "0  2014-08-11 07:46:59          2               3                     66   \n",
       "1  2014-08-11 08:22:12          2               3                     66   \n",
       "\n",
       "   user_location_region  user_location_city  orig_destination_distance  \\\n",
       "0                   348               48862                  2234.2641   \n",
       "1                   348               48862                  2234.2641   \n",
       "\n",
       "   user_id  is_mobile  is_package  ...  srch_children_cnt srch_rm_cnt  \\\n",
       "0       12          0           1  ...                  0           1   \n",
       "1       12          0           1  ...                  0           1   \n",
       "\n",
       "  srch_destination_id  srch_destination_type_id  is_booking  cnt  \\\n",
       "0                8250                         1           0    3   \n",
       "1                8250                         1           1    1   \n",
       "\n",
       "   hotel_continent  hotel_country  hotel_market  hotel_cluster  \n",
       "0                2             50           628              1  \n",
       "1                2             50           628              1  \n",
       "\n",
       "[2 rows x 24 columns]"
      ]
     },
     "execution_count": 160,
     "metadata": {},
     "output_type": "execute_result"
    }
   ],
   "source": [
    "df.head(2)"
   ]
  },
  {
   "cell_type": "code",
   "execution_count": 161,
   "id": "skilled-halifax",
   "metadata": {},
   "outputs": [
    {
     "name": "stdout",
     "output_type": "stream",
     "text": [
      "<class 'pandas.core.frame.DataFrame'>\n",
      "RangeIndex: 150000 entries, 0 to 149999\n",
      "Data columns (total 24 columns):\n",
      " #   Column                     Non-Null Count   Dtype  \n",
      "---  ------                     --------------   -----  \n",
      " 0   date_time                  150000 non-null  object \n",
      " 1   site_name                  150000 non-null  int64  \n",
      " 2   posa_continent             150000 non-null  int64  \n",
      " 3   user_location_country      150000 non-null  int64  \n",
      " 4   user_location_region       150000 non-null  int64  \n",
      " 5   user_location_city         150000 non-null  int64  \n",
      " 6   orig_destination_distance  97558 non-null   float64\n",
      " 7   user_id                    150000 non-null  int64  \n",
      " 8   is_mobile                  150000 non-null  int64  \n",
      " 9   is_package                 150000 non-null  int64  \n",
      " 10  channel                    150000 non-null  int64  \n",
      " 11  srch_ci                    149875 non-null  object \n",
      " 12  srch_co                    149875 non-null  object \n",
      " 13  srch_adults_cnt            150000 non-null  int64  \n",
      " 14  srch_children_cnt          150000 non-null  int64  \n",
      " 15  srch_rm_cnt                150000 non-null  int64  \n",
      " 16  srch_destination_id        150000 non-null  int64  \n",
      " 17  srch_destination_type_id   150000 non-null  int64  \n",
      " 18  is_booking                 150000 non-null  int64  \n",
      " 19  cnt                        150000 non-null  int64  \n",
      " 20  hotel_continent            150000 non-null  int64  \n",
      " 21  hotel_country              150000 non-null  int64  \n",
      " 22  hotel_market               150000 non-null  int64  \n",
      " 23  hotel_cluster              150000 non-null  int64  \n",
      "dtypes: float64(1), int64(20), object(3)\n",
      "memory usage: 27.5+ MB\n"
     ]
    }
   ],
   "source": [
    "df.info()"
   ]
  },
  {
   "cell_type": "code",
   "execution_count": 162,
   "id": "specialized-sister",
   "metadata": {},
   "outputs": [],
   "source": [
    "# extract month from date_time\n",
    "df['checkin_month'] = pd.DatetimeIndex(df['srch_ci']).month\n",
    "df['checkout_month'] = pd.DatetimeIndex(df['srch_co']).month\n",
    "df['click_month'] = pd.DatetimeIndex(df['date_time']).month"
   ]
  },
  {
   "cell_type": "code",
   "execution_count": 163,
   "id": "white-turkish",
   "metadata": {},
   "outputs": [],
   "source": [
    "df= df.drop(['date_time'],axis=1)\n",
    "df= df.drop(['srch_ci'],axis=1)\n",
    "df= df.drop(['srch_co'],axis=1)\n",
    "df= df.drop(['orig_destination_distance'],axis=1)"
   ]
  },
  {
   "cell_type": "code",
   "execution_count": 164,
   "id": "opposed-traffic",
   "metadata": {},
   "outputs": [],
   "source": [
    "# rename columns\n",
    "df = df.rename(columns={'hotel_cluster': 'item_id', 'is_booking': 'rating'})"
   ]
  },
  {
   "cell_type": "markdown",
   "id": "mathematical-reminder",
   "metadata": {},
   "source": [
    "### Sparse Features/ Categorical features"
   ]
  },
  {
   "cell_type": "code",
   "execution_count": 165,
   "id": "flying-possibility",
   "metadata": {},
   "outputs": [],
   "source": [
    "# categorical_sparse \n",
    "sparse_features = ['site_name','posa_continent','user_location_country','user_location_region','user_location_city',\n",
    "             'user_id','is_mobile','is_package','channel','click_month','checkin_month','checkout_month',\n",
    "            'srch_adults_cnt','srch_children_cnt','srch_rm_cnt','srch_destination_id','hotel_continent',\n",
    "               'hotel_country','cnt','click_month', 'checkin_month','checkout_month']"
   ]
  },
  {
   "cell_type": "markdown",
   "id": "charming-dependence",
   "metadata": {},
   "source": [
    "### Dense Features/ Continuous Features"
   ]
  },
  {
   "cell_type": "code",
   "execution_count": 166,
   "id": "civilian-square",
   "metadata": {},
   "outputs": [],
   "source": [
    "dense_features = ['hotel_market']"
   ]
  },
  {
   "cell_type": "markdown",
   "id": "comparable-rouge",
   "metadata": {},
   "source": [
    "### Target Features"
   ]
  },
  {
   "cell_type": "code",
   "execution_count": 167,
   "id": "humanitarian-bradford",
   "metadata": {},
   "outputs": [],
   "source": [
    "target = ['rating']"
   ]
  },
  {
   "cell_type": "markdown",
   "id": "exotic-lancaster",
   "metadata": {},
   "source": [
    "## Simple preprocessing\n",
    "\n",
    "Usually we have two methods to encode the sparse categorical feature for embedding\n",
    "\n",
    "**Label Encoding: map the features to integer value from 0 ~ len(#unique) - 1 "
   ]
  },
  {
   "cell_type": "code",
   "execution_count": 168,
   "id": "cutting-performer",
   "metadata": {},
   "outputs": [],
   "source": [
    "# Label Encoding for sparse features,and normalization for dense numerical features\n",
    "for feat in sparse_features:\n",
    "    lbe = LabelEncoder()\n",
    "    df[feat] = lbe.fit_transform(df[feat])"
   ]
  },
  {
   "cell_type": "markdown",
   "id": "animal-neutral",
   "metadata": {},
   "source": [
    "### Here we use normalization"
   ]
  },
  {
   "cell_type": "code",
   "execution_count": 169,
   "id": "premium-weekly",
   "metadata": {},
   "outputs": [],
   "source": [
    "mms = MinMaxScaler(feature_range=(0,1))\n",
    "df[dense_features] = mms.fit_transform(df[dense_features])"
   ]
  },
  {
   "cell_type": "markdown",
   "id": "aquatic-license",
   "metadata": {},
   "source": [
    "## Generate feature columns"
   ]
  },
  {
   "cell_type": "markdown",
   "id": "voluntary-warren",
   "metadata": {},
   "source": [
    "For sparse features, we transform them into dense vectors by embedding techniques. For dense numerical features, we concatenate them to the input tensors of fully connected layer.\n",
    "\n",
    "**Label Encoding and Generate feature columns"
   ]
  },
  {
   "cell_type": "code",
   "execution_count": 170,
   "id": "essential-words",
   "metadata": {},
   "outputs": [],
   "source": [
    "fixlen_feature_columns = [SparseFeat(feat, vocabulary_size=df[feat].nunique(),embedding_dim=4)\n",
    "                       for i,feat in enumerate(sparse_features)] + [DenseFeat(feat, 1,)\n",
    "                      for feat in dense_features]\n",
    "\n",
    "dnn_feature_columns = fixlen_feature_columns\n",
    "linear_feature_columns = fixlen_feature_columns\n",
    "\n",
    "feature_names = get_feature_names(linear_feature_columns + dnn_feature_columns)"
   ]
  },
  {
   "cell_type": "markdown",
   "id": "collect-notion",
   "metadata": {},
   "source": [
    "## Generate the training samples and train the model"
   ]
  },
  {
   "cell_type": "code",
   "execution_count": 171,
   "id": "subjective-edition",
   "metadata": {},
   "outputs": [],
   "source": [
    "train, test = train_test_split(df, test_size=0.2)\n",
    "\n",
    "train_model_input = {name:train[name].values for name in feature_names}\n",
    "test_model_input = {name:test[name].values for name in feature_names}"
   ]
  },
  {
   "cell_type": "markdown",
   "id": "tight-mountain",
   "metadata": {},
   "source": [
    "## Define Model and train the model"
   ]
  },
  {
   "cell_type": "code",
   "execution_count": 172,
   "id": "abstract-bride",
   "metadata": {},
   "outputs": [],
   "source": [
    "#linear_feature_columns: An iterable containing all the features used by linear part of the model.\n",
    "\n",
    "model = WDL(linear_feature_columns, dnn_feature_columns, dnn_hidden_units=(128, 128), l2_reg_linear=1e-05,\n",
    "        l2_reg_embedding=1e-05, l2_reg_dnn=0, seed=1024, dnn_dropout=0, dnn_activation='relu',\n",
    "        task='binary')\n",
    "\n",
    "\n",
    "model.compile(\"adam\", \"mse\",metrics=['mse'])"
   ]
  },
  {
   "cell_type": "code",
   "execution_count": 173,
   "id": "aquatic-protocol",
   "metadata": {},
   "outputs": [
    {
     "name": "stdout",
     "output_type": "stream",
     "text": [
      "Epoch 1/10\n"
     ]
    },
    {
     "name": "stderr",
     "output_type": "stream",
     "text": [
      "C:\\Users\\User\\anaconda3\\envs\\tensorflow_env\\lib\\site-packages\\tensorflow\\python\\framework\\indexed_slices.py:431: UserWarning: Converting sparse IndexedSlices to a dense Tensor of unknown shape. This may consume a large amount of memory.\n",
      "  warnings.warn(\n"
     ]
    },
    {
     "name": "stdout",
     "output_type": "stream",
     "text": [
      "375/375 - 4s - loss: 0.0778 - mse: 0.0775 - val_loss: 0.0698 - val_mse: 0.0693\n",
      "Epoch 2/10\n",
      "375/375 - 2s - loss: 0.0668 - mse: 0.0660 - val_loss: 0.0716 - val_mse: 0.0707\n",
      "Epoch 3/10\n",
      "375/375 - 3s - loss: 0.0643 - mse: 0.0631 - val_loss: 0.0736 - val_mse: 0.0723\n",
      "Epoch 4/10\n",
      "375/375 - 3s - loss: 0.0624 - mse: 0.0611 - val_loss: 0.0759 - val_mse: 0.0743\n",
      "Epoch 5/10\n",
      "375/375 - 3s - loss: 0.0612 - mse: 0.0596 - val_loss: 0.0779 - val_mse: 0.0762\n",
      "Epoch 6/10\n",
      "375/375 - 3s - loss: 0.0603 - mse: 0.0586 - val_loss: 0.0794 - val_mse: 0.0776\n",
      "Epoch 7/10\n",
      "375/375 - 3s - loss: 0.0595 - mse: 0.0577 - val_loss: 0.0813 - val_mse: 0.0795\n",
      "Epoch 8/10\n",
      "375/375 - 3s - loss: 0.0588 - mse: 0.0569 - val_loss: 0.0809 - val_mse: 0.0790\n",
      "Epoch 9/10\n",
      "375/375 - 3s - loss: 0.0582 - mse: 0.0563 - val_loss: 0.0833 - val_mse: 0.0813\n",
      "Epoch 10/10\n",
      "375/375 - 3s - loss: 0.0574 - mse: 0.0554 - val_loss: 0.0840 - val_mse: 0.0820\n"
     ]
    }
   ],
   "source": [
    "history = model.fit(train_model_input, train[target].values,\n",
    "                        batch_size=256, epochs=10, verbose=2, validation_split=0.2, )"
   ]
  },
  {
   "cell_type": "code",
   "execution_count": 174,
   "id": "searching-tension",
   "metadata": {},
   "outputs": [],
   "source": [
    "#model prediction\n",
    "pred_result = model.predict(test_model_input, batch_size=256)"
   ]
  },
  {
   "cell_type": "code",
   "execution_count": 175,
   "id": "straight-snowboard",
   "metadata": {},
   "outputs": [
    {
     "name": "stdout",
     "output_type": "stream",
     "text": [
      "RMSE:\t0.284000\n",
      "MAE:\t0.126000\n",
      "MSE:\t0.081000\n",
      "AUC:\t0.752000\n"
     ]
    }
   ],
   "source": [
    "auc = roc_auc_score(test[target].values, pred_result)\n",
    "\n",
    "print(\"RMSE:\\t%f\" % np.round(math.sqrt(mean_squared_error(test[target].values, pred_result)),3),\"MAE:\\t%f\" % np.round(mean_absolute_error(test[target].values, pred_result),3),\n",
    "      \"MSE:\\t%f\" % np.round(mean_squared_error(test[target].values, pred_result),3),\"AUC:\\t%f\" % np.round(auc,3),sep='\\n')"
   ]
  },
  {
   "cell_type": "markdown",
   "id": "united-heath",
   "metadata": {},
   "source": [
    "## Let's Experiments on Hyper-parameters tuning and see their effect on model "
   ]
  },
  {
   "cell_type": "markdown",
   "id": "joint-aside",
   "metadata": {},
   "source": [
    "### Instantiates the Wide&Deep Learning architecture.\n",
    "\n",
    "#### Parameters:\t\n",
    "\n",
    "linear_feature_columns – An iterable containing all the features used by linear part of the model.\n",
    "\n",
    "dnn_feature_columns – An iterable containing all the features used by deep part of the model.\n",
    "\n",
    "dnn_hidden_units – list,list of positive integer or empty list, the layer number and units in each layer of DNN\n",
    "\n",
    "l2_reg_linear – float. L2 regularizer strength applied to wide part\n",
    "\n",
    "l2_reg_embedding – float. L2 regularizer strength applied to embedding vector\n",
    "\n",
    "l2_reg_dnn – float. L2 regularizer strength applied to DNN\n",
    "\n",
    "seed – integer ,to use as random seed.\n",
    "\n",
    "dnn_dropout – float in [0,1), the probability we will drop out a given DNN coordinate.\n",
    "\n",
    "dnn_activation – Activation function to use in DNN\n",
    "\n",
    "task – str, \"binary\" for binary logloss or \"regression\" for regression loss"
   ]
  },
  {
   "cell_type": "markdown",
   "id": "growing-storm",
   "metadata": {},
   "source": [
    "### Tuning Hyperparameters with GridSearch\n",
    "\n",
    "Grid search, which is an optimization scheme trying all possible combinations of specified hyperparameter choices."
   ]
  },
  {
   "cell_type": "code",
   "execution_count": 176,
   "id": "awful-integer",
   "metadata": {},
   "outputs": [],
   "source": [
    "param_grid = {'dnn_hidden_units' : [(1,1),(2,2),(3,3),(8,8),(17,17),(128,128),(256,256)],\n",
    "              'l2_reg_linear':[1e-05,1e-3,.1, 1, 10],\n",
    "              'l2_reg_embedding':[1e-7,1e-5,1e-3,1e-1,1],\n",
    "              'l2_reg_dnn':[0,0.2,2,4],\n",
    "              'dnn_dropout':np.arange(0, 1, .1)\n",
    "             }\n",
    "result = {}"
   ]
  },
  {
   "cell_type": "markdown",
   "id": "discrete-chuck",
   "metadata": {},
   "source": [
    "### dnn_hidden_units – list,list of positive integer or empty list, the layer number and units in each layer of DNN"
   ]
  },
  {
   "cell_type": "code",
   "execution_count": 177,
   "id": "failing-player",
   "metadata": {},
   "outputs": [
    {
     "name": "stdout",
     "output_type": "stream",
     "text": [
      "Epoch 1/10\n"
     ]
    },
    {
     "name": "stderr",
     "output_type": "stream",
     "text": [
      "C:\\Users\\User\\anaconda3\\envs\\tensorflow_env\\lib\\site-packages\\tensorflow\\python\\framework\\indexed_slices.py:431: UserWarning: Converting sparse IndexedSlices to a dense Tensor of unknown shape. This may consume a large amount of memory.\n",
      "  warnings.warn(\n"
     ]
    },
    {
     "name": "stdout",
     "output_type": "stream",
     "text": [
      "375/375 - 3s - loss: 0.0911 - mse: 0.0910 - val_loss: 0.0755 - val_mse: 0.0754\n",
      "Epoch 2/10\n",
      "375/375 - 2s - loss: 0.0748 - mse: 0.0747 - val_loss: 0.0743 - val_mse: 0.0741\n",
      "Epoch 3/10\n",
      "375/375 - 2s - loss: 0.0734 - mse: 0.0732 - val_loss: 0.0733 - val_mse: 0.0730\n",
      "Epoch 4/10\n",
      "375/375 - 2s - loss: 0.0722 - mse: 0.0719 - val_loss: 0.0726 - val_mse: 0.0721\n",
      "Epoch 5/10\n",
      "375/375 - 2s - loss: 0.0713 - mse: 0.0708 - val_loss: 0.0721 - val_mse: 0.0715\n",
      "Epoch 6/10\n",
      "375/375 - 2s - loss: 0.0706 - mse: 0.0699 - val_loss: 0.0719 - val_mse: 0.0711\n",
      "Epoch 7/10\n",
      "375/375 - 2s - loss: 0.0701 - mse: 0.0692 - val_loss: 0.0717 - val_mse: 0.0708\n",
      "Epoch 8/10\n",
      "375/375 - 2s - loss: 0.0697 - mse: 0.0687 - val_loss: 0.0717 - val_mse: 0.0706\n",
      "Epoch 9/10\n",
      "375/375 - 2s - loss: 0.0694 - mse: 0.0683 - val_loss: 0.0717 - val_mse: 0.0705\n",
      "Epoch 10/10\n",
      "375/375 - 2s - loss: 0.0692 - mse: 0.0679 - val_loss: 0.0717 - val_mse: 0.0704\n",
      "Epoch 1/10\n"
     ]
    },
    {
     "name": "stderr",
     "output_type": "stream",
     "text": [
      "C:\\Users\\User\\anaconda3\\envs\\tensorflow_env\\lib\\site-packages\\tensorflow\\python\\framework\\indexed_slices.py:431: UserWarning: Converting sparse IndexedSlices to a dense Tensor of unknown shape. This may consume a large amount of memory.\n",
      "  warnings.warn(\n"
     ]
    },
    {
     "name": "stdout",
     "output_type": "stream",
     "text": [
      "375/375 - 5s - loss: 0.0880 - mse: 0.0878 - val_loss: 0.0749 - val_mse: 0.0746\n",
      "Epoch 2/10\n",
      "375/375 - 2s - loss: 0.0729 - mse: 0.0724 - val_loss: 0.0714 - val_mse: 0.0707\n",
      "Epoch 3/10\n",
      "375/375 - 2s - loss: 0.0693 - mse: 0.0682 - val_loss: 0.0709 - val_mse: 0.0696\n",
      "Epoch 4/10\n",
      "375/375 - 2s - loss: 0.0669 - mse: 0.0654 - val_loss: 0.0719 - val_mse: 0.0702\n",
      "Epoch 5/10\n",
      "375/375 - 2s - loss: 0.0652 - mse: 0.0634 - val_loss: 0.0735 - val_mse: 0.0716\n",
      "Epoch 6/10\n",
      "375/375 - 2s - loss: 0.0639 - mse: 0.0620 - val_loss: 0.0749 - val_mse: 0.0729\n",
      "Epoch 7/10\n",
      "375/375 - 2s - loss: 0.0627 - mse: 0.0607 - val_loss: 0.0762 - val_mse: 0.0741\n",
      "Epoch 8/10\n",
      "375/375 - 2s - loss: 0.0618 - mse: 0.0597 - val_loss: 0.0773 - val_mse: 0.0752\n",
      "Epoch 9/10\n",
      "375/375 - 2s - loss: 0.0611 - mse: 0.0589 - val_loss: 0.0800 - val_mse: 0.0778\n",
      "Epoch 10/10\n",
      "375/375 - 2s - loss: 0.0604 - mse: 0.0582 - val_loss: 0.0795 - val_mse: 0.0773\n",
      "Epoch 1/10\n"
     ]
    },
    {
     "name": "stderr",
     "output_type": "stream",
     "text": [
      "C:\\Users\\User\\anaconda3\\envs\\tensorflow_env\\lib\\site-packages\\tensorflow\\python\\framework\\indexed_slices.py:431: UserWarning: Converting sparse IndexedSlices to a dense Tensor of unknown shape. This may consume a large amount of memory.\n",
      "  warnings.warn(\n"
     ]
    },
    {
     "name": "stdout",
     "output_type": "stream",
     "text": [
      "375/375 - 4s - loss: 0.0881 - mse: 0.0879 - val_loss: 0.0745 - val_mse: 0.0742\n",
      "Epoch 2/10\n",
      "375/375 - 2s - loss: 0.0712 - mse: 0.0705 - val_loss: 0.0707 - val_mse: 0.0696\n",
      "Epoch 3/10\n",
      "375/375 - 2s - loss: 0.0669 - mse: 0.0657 - val_loss: 0.0720 - val_mse: 0.0706\n",
      "Epoch 4/10\n",
      "375/375 - 2s - loss: 0.0649 - mse: 0.0633 - val_loss: 0.0737 - val_mse: 0.0720\n",
      "Epoch 5/10\n",
      "375/375 - 2s - loss: 0.0634 - mse: 0.0616 - val_loss: 0.0755 - val_mse: 0.0736\n",
      "Epoch 6/10\n",
      "375/375 - 2s - loss: 0.0623 - mse: 0.0603 - val_loss: 0.0769 - val_mse: 0.0750\n",
      "Epoch 7/10\n",
      "375/375 - 2s - loss: 0.0613 - mse: 0.0593 - val_loss: 0.0784 - val_mse: 0.0764\n",
      "Epoch 8/10\n",
      "375/375 - 2s - loss: 0.0606 - mse: 0.0585 - val_loss: 0.0798 - val_mse: 0.0777\n",
      "Epoch 9/10\n",
      "375/375 - 2s - loss: 0.0600 - mse: 0.0579 - val_loss: 0.0801 - val_mse: 0.0779\n",
      "Epoch 10/10\n",
      "375/375 - 2s - loss: 0.0595 - mse: 0.0574 - val_loss: 0.0821 - val_mse: 0.0799\n",
      "Epoch 1/10\n"
     ]
    },
    {
     "name": "stderr",
     "output_type": "stream",
     "text": [
      "C:\\Users\\User\\anaconda3\\envs\\tensorflow_env\\lib\\site-packages\\tensorflow\\python\\framework\\indexed_slices.py:431: UserWarning: Converting sparse IndexedSlices to a dense Tensor of unknown shape. This may consume a large amount of memory.\n",
      "  warnings.warn(\n"
     ]
    },
    {
     "name": "stdout",
     "output_type": "stream",
     "text": [
      "375/375 - 4s - loss: 0.0880 - mse: 0.0879 - val_loss: 0.0718 - val_mse: 0.0714\n",
      "Epoch 2/10\n",
      "375/375 - 2s - loss: 0.0694 - mse: 0.0685 - val_loss: 0.0706 - val_mse: 0.0694\n",
      "Epoch 3/10\n",
      "375/375 - 3s - loss: 0.0661 - mse: 0.0647 - val_loss: 0.0730 - val_mse: 0.0715\n",
      "Epoch 4/10\n",
      "375/375 - 2s - loss: 0.0643 - mse: 0.0626 - val_loss: 0.0742 - val_mse: 0.0725\n",
      "Epoch 5/10\n",
      "375/375 - 2s - loss: 0.0628 - mse: 0.0610 - val_loss: 0.0766 - val_mse: 0.0747\n",
      "Epoch 6/10\n",
      "375/375 - 2s - loss: 0.0617 - mse: 0.0598 - val_loss: 0.0780 - val_mse: 0.0760\n",
      "Epoch 7/10\n",
      "375/375 - 2s - loss: 0.0608 - mse: 0.0588 - val_loss: 0.0786 - val_mse: 0.0765\n",
      "Epoch 8/10\n",
      "375/375 - 3s - loss: 0.0603 - mse: 0.0582 - val_loss: 0.0801 - val_mse: 0.0780\n",
      "Epoch 9/10\n",
      "375/375 - 2s - loss: 0.0597 - mse: 0.0575 - val_loss: 0.0819 - val_mse: 0.0797\n",
      "Epoch 10/10\n",
      "375/375 - 2s - loss: 0.0592 - mse: 0.0570 - val_loss: 0.0820 - val_mse: 0.0798\n",
      "Epoch 1/10\n"
     ]
    },
    {
     "name": "stderr",
     "output_type": "stream",
     "text": [
      "C:\\Users\\User\\anaconda3\\envs\\tensorflow_env\\lib\\site-packages\\tensorflow\\python\\framework\\indexed_slices.py:431: UserWarning: Converting sparse IndexedSlices to a dense Tensor of unknown shape. This may consume a large amount of memory.\n",
      "  warnings.warn(\n"
     ]
    },
    {
     "name": "stdout",
     "output_type": "stream",
     "text": [
      "375/375 - 3s - loss: 0.0847 - mse: 0.0845 - val_loss: 0.0703 - val_mse: 0.0697\n",
      "Epoch 2/10\n",
      "375/375 - 3s - loss: 0.0682 - mse: 0.0673 - val_loss: 0.0713 - val_mse: 0.0702\n",
      "Epoch 3/10\n",
      "375/375 - 2s - loss: 0.0652 - mse: 0.0640 - val_loss: 0.0730 - val_mse: 0.0716\n",
      "Epoch 4/10\n",
      "375/375 - 2s - loss: 0.0633 - mse: 0.0618 - val_loss: 0.0750 - val_mse: 0.0734\n",
      "Epoch 5/10\n",
      "375/375 - 2s - loss: 0.0620 - mse: 0.0603 - val_loss: 0.0763 - val_mse: 0.0746\n",
      "Epoch 6/10\n",
      "375/375 - 2s - loss: 0.0609 - mse: 0.0591 - val_loss: 0.0780 - val_mse: 0.0762\n",
      "Epoch 7/10\n",
      "375/375 - 2s - loss: 0.0601 - mse: 0.0583 - val_loss: 0.0803 - val_mse: 0.0784\n",
      "Epoch 8/10\n",
      "375/375 - 2s - loss: 0.0594 - mse: 0.0575 - val_loss: 0.0817 - val_mse: 0.0798\n",
      "Epoch 9/10\n",
      "375/375 - 2s - loss: 0.0589 - mse: 0.0569 - val_loss: 0.0815 - val_mse: 0.0795\n",
      "Epoch 10/10\n",
      "375/375 - 2s - loss: 0.0584 - mse: 0.0564 - val_loss: 0.0844 - val_mse: 0.0824\n",
      "Epoch 1/10\n"
     ]
    },
    {
     "name": "stderr",
     "output_type": "stream",
     "text": [
      "C:\\Users\\User\\anaconda3\\envs\\tensorflow_env\\lib\\site-packages\\tensorflow\\python\\framework\\indexed_slices.py:431: UserWarning: Converting sparse IndexedSlices to a dense Tensor of unknown shape. This may consume a large amount of memory.\n",
      "  warnings.warn(\n"
     ]
    },
    {
     "name": "stdout",
     "output_type": "stream",
     "text": [
      "375/375 - 4s - loss: 0.0775 - mse: 0.0772 - val_loss: 0.0697 - val_mse: 0.0692\n",
      "Epoch 2/10\n",
      "375/375 - 2s - loss: 0.0667 - mse: 0.0659 - val_loss: 0.0720 - val_mse: 0.0711\n",
      "Epoch 3/10\n",
      "375/375 - 3s - loss: 0.0641 - mse: 0.0631 - val_loss: 0.0735 - val_mse: 0.0722\n",
      "Epoch 4/10\n",
      "375/375 - 3s - loss: 0.0623 - mse: 0.0610 - val_loss: 0.0759 - val_mse: 0.0744\n",
      "Epoch 5/10\n",
      "375/375 - 3s - loss: 0.0611 - mse: 0.0596 - val_loss: 0.0769 - val_mse: 0.0753\n",
      "Epoch 6/10\n",
      "375/375 - 3s - loss: 0.0600 - mse: 0.0584 - val_loss: 0.0807 - val_mse: 0.0789\n",
      "Epoch 7/10\n",
      "375/375 - 3s - loss: 0.0592 - mse: 0.0574 - val_loss: 0.0801 - val_mse: 0.0783\n",
      "Epoch 8/10\n",
      "375/375 - 3s - loss: 0.0584 - mse: 0.0565 - val_loss: 0.0824 - val_mse: 0.0805\n",
      "Epoch 9/10\n",
      "375/375 - 3s - loss: 0.0575 - mse: 0.0556 - val_loss: 0.0842 - val_mse: 0.0822\n",
      "Epoch 10/10\n",
      "375/375 - 3s - loss: 0.0569 - mse: 0.0549 - val_loss: 0.0863 - val_mse: 0.0843\n",
      "Epoch 1/10\n"
     ]
    },
    {
     "name": "stderr",
     "output_type": "stream",
     "text": [
      "C:\\Users\\User\\anaconda3\\envs\\tensorflow_env\\lib\\site-packages\\tensorflow\\python\\framework\\indexed_slices.py:431: UserWarning: Converting sparse IndexedSlices to a dense Tensor of unknown shape. This may consume a large amount of memory.\n",
      "  warnings.warn(\n"
     ]
    },
    {
     "name": "stdout",
     "output_type": "stream",
     "text": [
      "375/375 - 4s - loss: 0.0764 - mse: 0.0761 - val_loss: 0.0698 - val_mse: 0.0693\n",
      "Epoch 2/10\n",
      "375/375 - 3s - loss: 0.0666 - mse: 0.0658 - val_loss: 0.0712 - val_mse: 0.0703\n",
      "Epoch 3/10\n",
      "375/375 - 4s - loss: 0.0640 - mse: 0.0629 - val_loss: 0.0736 - val_mse: 0.0724\n",
      "Epoch 4/10\n",
      "375/375 - 4s - loss: 0.0624 - mse: 0.0610 - val_loss: 0.0756 - val_mse: 0.0742\n",
      "Epoch 5/10\n",
      "375/375 - 6s - loss: 0.0611 - mse: 0.0596 - val_loss: 0.0768 - val_mse: 0.0752\n",
      "Epoch 6/10\n",
      "375/375 - 4s - loss: 0.0603 - mse: 0.0586 - val_loss: 0.0786 - val_mse: 0.0769\n",
      "Epoch 7/10\n",
      "375/375 - 3s - loss: 0.0595 - mse: 0.0577 - val_loss: 0.0809 - val_mse: 0.0791\n",
      "Epoch 8/10\n",
      "375/375 - 4s - loss: 0.0587 - mse: 0.0569 - val_loss: 0.0806 - val_mse: 0.0787\n",
      "Epoch 9/10\n",
      "375/375 - 4s - loss: 0.0579 - mse: 0.0560 - val_loss: 0.0830 - val_mse: 0.0810\n",
      "Epoch 10/10\n",
      "375/375 - 4s - loss: 0.0573 - mse: 0.0554 - val_loss: 0.0844 - val_mse: 0.0823\n"
     ]
    }
   ],
   "source": [
    "dnn_hidden_units_dict = {}\n",
    "for i in param_grid['dnn_hidden_units']:\n",
    "    model = WDL(linear_feature_columns, dnn_feature_columns, dnn_hidden_units=i, \n",
    "              seed=1024,task='binary')\n",
    "\n",
    "    model.compile(\"adam\", \"mse\", metrics=['mse'])\n",
    "\n",
    "    history = model.fit(train_model_input, train[target].values,\n",
    "                            batch_size=256, epochs=10, verbose=2, validation_split=0.2, )\n",
    "    \n",
    "    #model prediction\n",
    "    pred_result = model.predict(test_model_input, batch_size=256)\n",
    "    \n",
    "    #model evaluation RMSE, MAE,MSE\n",
    "    auc = roc_auc_score(test[target].values, pred_result)\n",
    "    dnn_hidden_units_dict[i]={\"RMSE\": np.round(math.sqrt(mean_squared_error(test[target].values, pred_result)),3),\n",
    "      \"MAE\" : np.round(mean_absolute_error(test[target].values, pred_result),3),\n",
    "      \"MSE\" : np.round(mean_squared_error(test[target].values, pred_result),3),\n",
    "      \"AUC\" : np.round(auc,3)}\n",
    "result['dnn_hidden_units_dict']=dnn_hidden_units_dict"
   ]
  },
  {
   "cell_type": "code",
   "execution_count": 178,
   "id": "quality-relative",
   "metadata": {},
   "outputs": [
    {
     "data": {
      "text/plain": [
       "{(1, 1): {'RMSE': 0.266, 'MAE': 0.155, 'MSE': 0.071, 'AUC': 0.772},\n",
       " (2, 2): {'RMSE': 0.277, 'MAE': 0.136, 'MSE': 0.077, 'AUC': 0.757},\n",
       " (3, 3): {'RMSE': 0.281, 'MAE': 0.142, 'MSE': 0.079, 'AUC': 0.757},\n",
       " (8, 8): {'RMSE': 0.281, 'MAE': 0.136, 'MSE': 0.079, 'AUC': 0.754},\n",
       " (17, 17): {'RMSE': 0.285, 'MAE': 0.145, 'MSE': 0.081, 'AUC': 0.755},\n",
       " (128, 128): {'RMSE': 0.289, 'MAE': 0.136, 'MSE': 0.083, 'AUC': 0.75},\n",
       " (256, 256): {'RMSE': 0.285, 'MAE': 0.132, 'MSE': 0.081, 'AUC': 0.75}}"
      ]
     },
     "execution_count": 178,
     "metadata": {},
     "output_type": "execute_result"
    }
   ],
   "source": [
    "dnn_hidden_units_dict"
   ]
  },
  {
   "cell_type": "code",
   "execution_count": 179,
   "id": "naval-screen",
   "metadata": {},
   "outputs": [
    {
     "data": {
      "text/plain": [
       "{'RMSE': 0.277, 'MAE': 0.136, 'MSE': 0.077, 'AUC': 0.757}"
      ]
     },
     "execution_count": 179,
     "metadata": {},
     "output_type": "execute_result"
    }
   ],
   "source": [
    "dnn_hidden_units_dict[(2,2)]"
   ]
  },
  {
   "cell_type": "markdown",
   "id": "interpreted-taiwan",
   "metadata": {},
   "source": [
    "### l2_reg_linear – float. L2 regularizer strength applied to wide part"
   ]
  },
  {
   "cell_type": "code",
   "execution_count": 180,
   "id": "dirty-eleven",
   "metadata": {},
   "outputs": [
    {
     "name": "stdout",
     "output_type": "stream",
     "text": [
      "Epoch 1/10\n"
     ]
    },
    {
     "name": "stderr",
     "output_type": "stream",
     "text": [
      "C:\\Users\\User\\anaconda3\\envs\\tensorflow_env\\lib\\site-packages\\tensorflow\\python\\framework\\indexed_slices.py:431: UserWarning: Converting sparse IndexedSlices to a dense Tensor of unknown shape. This may consume a large amount of memory.\n",
      "  warnings.warn(\n"
     ]
    },
    {
     "name": "stdout",
     "output_type": "stream",
     "text": [
      "375/375 - 5s - loss: 0.0862 - mse: 0.0860 - val_loss: 0.0740 - val_mse: 0.0737\n",
      "Epoch 2/10\n",
      "375/375 - 3s - loss: 0.0715 - mse: 0.0709 - val_loss: 0.0708 - val_mse: 0.0699\n",
      "Epoch 3/10\n",
      "375/375 - 3s - loss: 0.0680 - mse: 0.0668 - val_loss: 0.0711 - val_mse: 0.0697\n",
      "Epoch 4/10\n",
      "375/375 - 3s - loss: 0.0659 - mse: 0.0643 - val_loss: 0.0724 - val_mse: 0.0707\n",
      "Epoch 5/10\n",
      "375/375 - 3s - loss: 0.0643 - mse: 0.0625 - val_loss: 0.0744 - val_mse: 0.0726\n",
      "Epoch 6/10\n",
      "375/375 - 3s - loss: 0.0630 - mse: 0.0611 - val_loss: 0.0762 - val_mse: 0.0742\n",
      "Epoch 7/10\n",
      "375/375 - 3s - loss: 0.0620 - mse: 0.0600 - val_loss: 0.0772 - val_mse: 0.0752\n",
      "Epoch 8/10\n",
      "375/375 - 3s - loss: 0.0612 - mse: 0.0591 - val_loss: 0.0782 - val_mse: 0.0761\n",
      "Epoch 9/10\n",
      "375/375 - 3s - loss: 0.0605 - mse: 0.0584 - val_loss: 0.0794 - val_mse: 0.0773\n",
      "Epoch 10/10\n",
      "375/375 - 3s - loss: 0.0600 - mse: 0.0579 - val_loss: 0.0793 - val_mse: 0.0771\n",
      "Epoch 1/10\n"
     ]
    },
    {
     "name": "stderr",
     "output_type": "stream",
     "text": [
      "C:\\Users\\User\\anaconda3\\envs\\tensorflow_env\\lib\\site-packages\\tensorflow\\python\\framework\\indexed_slices.py:431: UserWarning: Converting sparse IndexedSlices to a dense Tensor of unknown shape. This may consume a large amount of memory.\n",
      "  warnings.warn(\n"
     ]
    },
    {
     "name": "stdout",
     "output_type": "stream",
     "text": [
      "375/375 - 5s - loss: 0.0854 - mse: 0.0845 - val_loss: 0.0743 - val_mse: 0.0735\n",
      "Epoch 2/10\n",
      "375/375 - 3s - loss: 0.0714 - mse: 0.0703 - val_loss: 0.0709 - val_mse: 0.0696\n",
      "Epoch 3/10\n",
      "375/375 - 3s - loss: 0.0676 - mse: 0.0661 - val_loss: 0.0720 - val_mse: 0.0703\n",
      "Epoch 4/10\n",
      "375/375 - 3s - loss: 0.0654 - mse: 0.0637 - val_loss: 0.0736 - val_mse: 0.0718\n",
      "Epoch 5/10\n",
      "375/375 - 3s - loss: 0.0638 - mse: 0.0620 - val_loss: 0.0753 - val_mse: 0.0733\n",
      "Epoch 6/10\n",
      "375/375 - 3s - loss: 0.0626 - mse: 0.0606 - val_loss: 0.0770 - val_mse: 0.0750\n",
      "Epoch 7/10\n",
      "375/375 - 3s - loss: 0.0616 - mse: 0.0596 - val_loss: 0.0785 - val_mse: 0.0765\n",
      "Epoch 8/10\n",
      "375/375 - 3s - loss: 0.0609 - mse: 0.0589 - val_loss: 0.0798 - val_mse: 0.0778\n",
      "Epoch 9/10\n",
      "375/375 - 3s - loss: 0.0603 - mse: 0.0583 - val_loss: 0.0799 - val_mse: 0.0778\n",
      "Epoch 10/10\n",
      "375/375 - 3s - loss: 0.0599 - mse: 0.0578 - val_loss: 0.0809 - val_mse: 0.0788\n",
      "Epoch 1/10\n"
     ]
    },
    {
     "name": "stderr",
     "output_type": "stream",
     "text": [
      "C:\\Users\\User\\anaconda3\\envs\\tensorflow_env\\lib\\site-packages\\tensorflow\\python\\framework\\indexed_slices.py:431: UserWarning: Converting sparse IndexedSlices to a dense Tensor of unknown shape. This may consume a large amount of memory.\n",
      "  warnings.warn(\n"
     ]
    },
    {
     "name": "stdout",
     "output_type": "stream",
     "text": [
      "375/375 - 6s - loss: 0.1016 - mse: 0.0916 - val_loss: 0.0762 - val_mse: 0.0748\n",
      "Epoch 2/10\n",
      "375/375 - 3s - loss: 0.0740 - mse: 0.0731 - val_loss: 0.0723 - val_mse: 0.0713\n",
      "Epoch 3/10\n",
      "375/375 - 3s - loss: 0.0708 - mse: 0.0696 - val_loss: 0.0711 - val_mse: 0.0697\n",
      "Epoch 4/10\n",
      "375/375 - 4s - loss: 0.0687 - mse: 0.0670 - val_loss: 0.0714 - val_mse: 0.0696\n",
      "Epoch 5/10\n",
      "375/375 - 3s - loss: 0.0670 - mse: 0.0650 - val_loss: 0.0724 - val_mse: 0.0703\n",
      "Epoch 6/10\n",
      "375/375 - 3s - loss: 0.0656 - mse: 0.0634 - val_loss: 0.0733 - val_mse: 0.0712\n",
      "Epoch 7/10\n",
      "375/375 - 3s - loss: 0.0644 - mse: 0.0622 - val_loss: 0.0749 - val_mse: 0.0727\n",
      "Epoch 8/10\n",
      "375/375 - 3s - loss: 0.0634 - mse: 0.0611 - val_loss: 0.0756 - val_mse: 0.0733\n",
      "Epoch 9/10\n",
      "375/375 - 3s - loss: 0.0625 - mse: 0.0601 - val_loss: 0.0767 - val_mse: 0.0744\n",
      "Epoch 10/10\n",
      "375/375 - 4s - loss: 0.0618 - mse: 0.0594 - val_loss: 0.0781 - val_mse: 0.0757\n",
      "Epoch 1/10\n"
     ]
    },
    {
     "name": "stderr",
     "output_type": "stream",
     "text": [
      "C:\\Users\\User\\anaconda3\\envs\\tensorflow_env\\lib\\site-packages\\tensorflow\\python\\framework\\indexed_slices.py:431: UserWarning: Converting sparse IndexedSlices to a dense Tensor of unknown shape. This may consume a large amount of memory.\n",
      "  warnings.warn(\n"
     ]
    },
    {
     "name": "stdout",
     "output_type": "stream",
     "text": [
      "375/375 - 5s - loss: 0.1331 - mse: 0.0924 - val_loss: 0.0788 - val_mse: 0.0745\n",
      "Epoch 2/10\n",
      "375/375 - 3s - loss: 0.0740 - mse: 0.0726 - val_loss: 0.0717 - val_mse: 0.0708\n",
      "Epoch 3/10\n",
      "375/375 - 3s - loss: 0.0695 - mse: 0.0683 - val_loss: 0.0709 - val_mse: 0.0695\n",
      "Epoch 4/10\n",
      "375/375 - 4s - loss: 0.0672 - mse: 0.0655 - val_loss: 0.0718 - val_mse: 0.0700\n",
      "Epoch 5/10\n",
      "375/375 - 3s - loss: 0.0655 - mse: 0.0636 - val_loss: 0.0734 - val_mse: 0.0715\n",
      "Epoch 6/10\n",
      "375/375 - 3s - loss: 0.0642 - mse: 0.0622 - val_loss: 0.0746 - val_mse: 0.0725\n",
      "Epoch 7/10\n",
      "375/375 - 3s - loss: 0.0631 - mse: 0.0610 - val_loss: 0.0761 - val_mse: 0.0740\n",
      "Epoch 8/10\n",
      "375/375 - 3s - loss: 0.0622 - mse: 0.0600 - val_loss: 0.0772 - val_mse: 0.0751\n",
      "Epoch 9/10\n",
      "375/375 - 3s - loss: 0.0614 - mse: 0.0591 - val_loss: 0.0784 - val_mse: 0.0762\n",
      "Epoch 10/10\n",
      "375/375 - 3s - loss: 0.0608 - mse: 0.0586 - val_loss: 0.0792 - val_mse: 0.0770\n",
      "Epoch 1/10\n"
     ]
    },
    {
     "name": "stderr",
     "output_type": "stream",
     "text": [
      "C:\\Users\\User\\anaconda3\\envs\\tensorflow_env\\lib\\site-packages\\tensorflow\\python\\framework\\indexed_slices.py:431: UserWarning: Converting sparse IndexedSlices to a dense Tensor of unknown shape. This may consume a large amount of memory.\n",
      "  warnings.warn(\n"
     ]
    },
    {
     "name": "stdout",
     "output_type": "stream",
     "text": [
      "375/375 - 8s - loss: 0.4789 - mse: 0.1070 - val_loss: 0.1185 - val_mse: 0.0754\n",
      "Epoch 2/10\n",
      "375/375 - 3s - loss: 0.0839 - mse: 0.0747 - val_loss: 0.0744 - val_mse: 0.0735\n",
      "Epoch 3/10\n",
      "375/375 - 4s - loss: 0.0724 - mse: 0.0714 - val_loss: 0.0714 - val_mse: 0.0701\n",
      "Epoch 4/10\n",
      "375/375 - 3s - loss: 0.0691 - mse: 0.0674 - val_loss: 0.0716 - val_mse: 0.0698\n",
      "Epoch 5/10\n",
      "375/375 - 3s - loss: 0.0669 - mse: 0.0650 - val_loss: 0.0727 - val_mse: 0.0706\n",
      "Epoch 6/10\n",
      "375/375 - 3s - loss: 0.0654 - mse: 0.0633 - val_loss: 0.0739 - val_mse: 0.0718\n",
      "Epoch 7/10\n",
      "375/375 - 3s - loss: 0.0642 - mse: 0.0619 - val_loss: 0.0751 - val_mse: 0.0728\n",
      "Epoch 8/10\n",
      "375/375 - 3s - loss: 0.0632 - mse: 0.0608 - val_loss: 0.0761 - val_mse: 0.0738\n",
      "Epoch 9/10\n",
      "375/375 - 4s - loss: 0.0622 - mse: 0.0599 - val_loss: 0.0774 - val_mse: 0.0750\n",
      "Epoch 10/10\n",
      "375/375 - 3s - loss: 0.0616 - mse: 0.0592 - val_loss: 0.0783 - val_mse: 0.0759\n"
     ]
    }
   ],
   "source": [
    "l2_reg_linear_dict={}\n",
    "for i in param_grid['l2_reg_linear']:\n",
    "    model = WDL(linear_feature_columns, dnn_feature_columns, dnn_hidden_units=(2,2), l2_reg_linear=i,\n",
    "            l2_reg_embedding=1e-5, l2_reg_dnn=0, seed=1024,task='binary')\n",
    "\n",
    "    model.compile(\"adam\", \"mse\", metrics=['mse'])\n",
    "\n",
    "    history = model.fit(train_model_input, train[target].values,\n",
    "                            batch_size=256, epochs=10, verbose=2, validation_split=0.2, )\n",
    "    pred_result = model.predict(test_model_input, batch_size=256)\n",
    "    \n",
    "    #model prediction\n",
    "    auc = roc_auc_score(test[target].values, pred_result)\n",
    "    \n",
    "     #model evaluation RMSE, MAE,MSE\n",
    "    l2_reg_linear_dict[i]={\"RMSE\": np.round(math.sqrt(mean_squared_error(test[target].values, pred_result)),3),\n",
    "      \"MAE\" : np.round(mean_absolute_error(test[target].values, pred_result),3),\n",
    "      \"MSE\" : np.round(mean_squared_error(test[target].values, pred_result),3),\n",
    "      \"AUC\" : np.round(auc,3)}\n",
    "    \n",
    "result['l2_reg_linear']=l2_reg_linear_dict"
   ]
  },
  {
   "cell_type": "code",
   "execution_count": 181,
   "id": "absolute-chapel",
   "metadata": {},
   "outputs": [
    {
     "data": {
      "text/plain": [
       "{1e-05: {'RMSE': 0.277, 'MAE': 0.131, 'MSE': 0.077, 'AUC': 0.755},\n",
       " 0.001: {'RMSE': 0.28, 'MAE': 0.134, 'MSE': 0.078, 'AUC': 0.758},\n",
       " 0.1: {'RMSE': 0.274, 'MAE': 0.136, 'MSE': 0.075, 'AUC': 0.766},\n",
       " 1: {'RMSE': 0.277, 'MAE': 0.135, 'MSE': 0.076, 'AUC': 0.76},\n",
       " 10: {'RMSE': 0.275, 'MAE': 0.141, 'MSE': 0.076, 'AUC': 0.763}}"
      ]
     },
     "execution_count": 181,
     "metadata": {},
     "output_type": "execute_result"
    }
   ],
   "source": [
    "l2_reg_linear_dict"
   ]
  },
  {
   "cell_type": "code",
   "execution_count": 182,
   "id": "equal-light",
   "metadata": {},
   "outputs": [
    {
     "data": {
      "text/plain": [
       "{'RMSE': 0.274, 'MAE': 0.136, 'MSE': 0.075, 'AUC': 0.766}"
      ]
     },
     "execution_count": 182,
     "metadata": {},
     "output_type": "execute_result"
    }
   ],
   "source": [
    "l2_reg_linear_dict[.1]"
   ]
  },
  {
   "cell_type": "markdown",
   "id": "understood-garden",
   "metadata": {},
   "source": [
    "### l2_reg_embedding – float. L2 regularizer strength applied to embedding vector"
   ]
  },
  {
   "cell_type": "code",
   "execution_count": 183,
   "id": "shaped-questionnaire",
   "metadata": {},
   "outputs": [
    {
     "name": "stdout",
     "output_type": "stream",
     "text": [
      "Epoch 1/10\n"
     ]
    },
    {
     "name": "stderr",
     "output_type": "stream",
     "text": [
      "C:\\Users\\User\\anaconda3\\envs\\tensorflow_env\\lib\\site-packages\\tensorflow\\python\\framework\\indexed_slices.py:431: UserWarning: Converting sparse IndexedSlices to a dense Tensor of unknown shape. This may consume a large amount of memory.\n",
      "  warnings.warn(\n"
     ]
    },
    {
     "name": "stdout",
     "output_type": "stream",
     "text": [
      "375/375 - 4s - loss: 0.1014 - mse: 0.0917 - val_loss: 0.0752 - val_mse: 0.0743\n",
      "Epoch 2/10\n",
      "375/375 - 2s - loss: 0.0716 - mse: 0.0713 - val_loss: 0.0703 - val_mse: 0.0701\n",
      "Epoch 3/10\n",
      "375/375 - 2s - loss: 0.0664 - mse: 0.0661 - val_loss: 0.0704 - val_mse: 0.0702\n",
      "Epoch 4/10\n",
      "375/375 - 2s - loss: 0.0632 - mse: 0.0629 - val_loss: 0.0724 - val_mse: 0.0721\n",
      "Epoch 5/10\n",
      "375/375 - 2s - loss: 0.0610 - mse: 0.0607 - val_loss: 0.0742 - val_mse: 0.0739\n",
      "Epoch 6/10\n",
      "375/375 - 2s - loss: 0.0594 - mse: 0.0591 - val_loss: 0.0756 - val_mse: 0.0752\n",
      "Epoch 7/10\n",
      "375/375 - 2s - loss: 0.0583 - mse: 0.0579 - val_loss: 0.0765 - val_mse: 0.0762\n",
      "Epoch 8/10\n",
      "375/375 - 2s - loss: 0.0575 - mse: 0.0571 - val_loss: 0.0775 - val_mse: 0.0772\n",
      "Epoch 9/10\n",
      "375/375 - 2s - loss: 0.0568 - mse: 0.0564 - val_loss: 0.0789 - val_mse: 0.0785\n",
      "Epoch 10/10\n",
      "375/375 - 2s - loss: 0.0563 - mse: 0.0559 - val_loss: 0.0798 - val_mse: 0.0794\n",
      "Epoch 1/10\n"
     ]
    },
    {
     "name": "stderr",
     "output_type": "stream",
     "text": [
      "C:\\Users\\User\\anaconda3\\envs\\tensorflow_env\\lib\\site-packages\\tensorflow\\python\\framework\\indexed_slices.py:431: UserWarning: Converting sparse IndexedSlices to a dense Tensor of unknown shape. This may consume a large amount of memory.\n",
      "  warnings.warn(\n"
     ]
    },
    {
     "name": "stdout",
     "output_type": "stream",
     "text": [
      "375/375 - 4s - loss: 0.0933 - mse: 0.0864 - val_loss: 0.0744 - val_mse: 0.0736\n",
      "Epoch 2/10\n",
      "375/375 - 2s - loss: 0.0716 - mse: 0.0708 - val_loss: 0.0708 - val_mse: 0.0697\n",
      "Epoch 3/10\n",
      "375/375 - 2s - loss: 0.0681 - mse: 0.0667 - val_loss: 0.0714 - val_mse: 0.0699\n",
      "Epoch 4/10\n",
      "375/375 - 2s - loss: 0.0660 - mse: 0.0643 - val_loss: 0.0728 - val_mse: 0.0710\n",
      "Epoch 5/10\n",
      "375/375 - 2s - loss: 0.0645 - mse: 0.0625 - val_loss: 0.0743 - val_mse: 0.0723\n",
      "Epoch 6/10\n",
      "375/375 - 2s - loss: 0.0633 - mse: 0.0612 - val_loss: 0.0758 - val_mse: 0.0737\n",
      "Epoch 7/10\n",
      "375/375 - 2s - loss: 0.0623 - mse: 0.0601 - val_loss: 0.0767 - val_mse: 0.0746\n",
      "Epoch 8/10\n",
      "375/375 - 2s - loss: 0.0615 - mse: 0.0593 - val_loss: 0.0789 - val_mse: 0.0767\n",
      "Epoch 9/10\n",
      "375/375 - 2s - loss: 0.0608 - mse: 0.0586 - val_loss: 0.0788 - val_mse: 0.0765\n",
      "Epoch 10/10\n",
      "375/375 - 2s - loss: 0.0604 - mse: 0.0582 - val_loss: 0.0795 - val_mse: 0.0773\n",
      "Epoch 1/10\n"
     ]
    },
    {
     "name": "stderr",
     "output_type": "stream",
     "text": [
      "C:\\Users\\User\\anaconda3\\envs\\tensorflow_env\\lib\\site-packages\\tensorflow\\python\\framework\\indexed_slices.py:431: UserWarning: Converting sparse IndexedSlices to a dense Tensor of unknown shape. This may consume a large amount of memory.\n",
      "  warnings.warn(\n"
     ]
    },
    {
     "name": "stdout",
     "output_type": "stream",
     "text": [
      "375/375 - 4s - loss: 0.0971 - mse: 0.0879 - val_loss: 0.0780 - val_mse: 0.0753\n",
      "Epoch 2/10\n",
      "375/375 - 2s - loss: 0.0766 - mse: 0.0744 - val_loss: 0.0753 - val_mse: 0.0733\n",
      "Epoch 3/10\n",
      "375/375 - 2s - loss: 0.0752 - mse: 0.0731 - val_loss: 0.0746 - val_mse: 0.0724\n",
      "Epoch 4/10\n",
      "375/375 - 2s - loss: 0.0746 - mse: 0.0721 - val_loss: 0.0742 - val_mse: 0.0715\n",
      "Epoch 5/10\n",
      "375/375 - 2s - loss: 0.0742 - mse: 0.0712 - val_loss: 0.0739 - val_mse: 0.0707\n",
      "Epoch 6/10\n",
      "375/375 - 2s - loss: 0.0739 - mse: 0.0706 - val_loss: 0.0736 - val_mse: 0.0704\n",
      "Epoch 7/10\n",
      "375/375 - 2s - loss: 0.0736 - mse: 0.0702 - val_loss: 0.0736 - val_mse: 0.0701\n",
      "Epoch 8/10\n",
      "375/375 - 2s - loss: 0.0733 - mse: 0.0698 - val_loss: 0.0733 - val_mse: 0.0700\n",
      "Epoch 9/10\n",
      "375/375 - 2s - loss: 0.0730 - mse: 0.0695 - val_loss: 0.0733 - val_mse: 0.0698\n",
      "Epoch 10/10\n",
      "375/375 - 2s - loss: 0.0728 - mse: 0.0693 - val_loss: 0.0732 - val_mse: 0.0699\n",
      "Epoch 1/10\n"
     ]
    },
    {
     "name": "stderr",
     "output_type": "stream",
     "text": [
      "C:\\Users\\User\\anaconda3\\envs\\tensorflow_env\\lib\\site-packages\\tensorflow\\python\\framework\\indexed_slices.py:431: UserWarning: Converting sparse IndexedSlices to a dense Tensor of unknown shape. This may consume a large amount of memory.\n",
      "  warnings.warn(\n"
     ]
    },
    {
     "name": "stdout",
     "output_type": "stream",
     "text": [
      "375/375 - 3s - loss: 0.1155 - mse: 0.0982 - val_loss: 0.0888 - val_mse: 0.0796\n",
      "Epoch 2/10\n",
      "375/375 - 2s - loss: 0.0817 - mse: 0.0775 - val_loss: 0.0780 - val_mse: 0.0762\n",
      "Epoch 3/10\n",
      "375/375 - 2s - loss: 0.0775 - mse: 0.0760 - val_loss: 0.0769 - val_mse: 0.0751\n",
      "Epoch 4/10\n",
      "375/375 - 2s - loss: 0.0768 - mse: 0.0752 - val_loss: 0.0770 - val_mse: 0.0746\n",
      "Epoch 5/10\n",
      "375/375 - 2s - loss: 0.0767 - mse: 0.0744 - val_loss: 0.0762 - val_mse: 0.0741\n",
      "Epoch 6/10\n",
      "375/375 - 2s - loss: 0.0767 - mse: 0.0740 - val_loss: 0.0763 - val_mse: 0.0736\n",
      "Epoch 7/10\n",
      "375/375 - 2s - loss: 0.0770 - mse: 0.0736 - val_loss: 0.0774 - val_mse: 0.0731\n",
      "Epoch 8/10\n",
      "375/375 - 2s - loss: 0.0772 - mse: 0.0734 - val_loss: 0.0775 - val_mse: 0.0729\n",
      "Epoch 9/10\n",
      "375/375 - 2s - loss: 0.0775 - mse: 0.0732 - val_loss: 0.0778 - val_mse: 0.0727\n",
      "Epoch 10/10\n",
      "375/375 - 2s - loss: 0.0779 - mse: 0.0731 - val_loss: 0.0775 - val_mse: 0.0728\n",
      "Epoch 1/10\n"
     ]
    },
    {
     "name": "stderr",
     "output_type": "stream",
     "text": [
      "C:\\Users\\User\\anaconda3\\envs\\tensorflow_env\\lib\\site-packages\\tensorflow\\python\\framework\\indexed_slices.py:431: UserWarning: Converting sparse IndexedSlices to a dense Tensor of unknown shape. This may consume a large amount of memory.\n",
      "  warnings.warn(\n"
     ]
    },
    {
     "name": "stdout",
     "output_type": "stream",
     "text": [
      "375/375 - 3s - loss: 0.1153 - mse: 0.0987 - val_loss: 0.0884 - val_mse: 0.0799\n",
      "Epoch 2/10\n",
      "375/375 - 2s - loss: 0.0811 - mse: 0.0779 - val_loss: 0.0775 - val_mse: 0.0767\n",
      "Epoch 3/10\n",
      "375/375 - 2s - loss: 0.0771 - mse: 0.0765 - val_loss: 0.0767 - val_mse: 0.0762\n",
      "Epoch 4/10\n",
      "375/375 - 2s - loss: 0.0768 - mse: 0.0762 - val_loss: 0.0765 - val_mse: 0.0759\n",
      "Epoch 5/10\n",
      "375/375 - 2s - loss: 0.0767 - mse: 0.0759 - val_loss: 0.0764 - val_mse: 0.0755\n",
      "Epoch 6/10\n",
      "375/375 - 2s - loss: 0.0766 - mse: 0.0756 - val_loss: 0.0765 - val_mse: 0.0751\n",
      "Epoch 7/10\n",
      "375/375 - 2s - loss: 0.0765 - mse: 0.0753 - val_loss: 0.0764 - val_mse: 0.0747\n",
      "Epoch 8/10\n",
      "375/375 - 2s - loss: 0.0764 - mse: 0.0749 - val_loss: 0.0761 - val_mse: 0.0744\n",
      "Epoch 9/10\n",
      "375/375 - 2s - loss: 0.0764 - mse: 0.0746 - val_loss: 0.0759 - val_mse: 0.0744\n",
      "Epoch 10/10\n",
      "375/375 - 3s - loss: 0.0763 - mse: 0.0744 - val_loss: 0.0759 - val_mse: 0.0738\n"
     ]
    }
   ],
   "source": [
    "l2_reg_embedding_dict={}\n",
    "for i in param_grid['l2_reg_embedding']:\n",
    "    model = WDL(linear_feature_columns, dnn_feature_columns, dnn_hidden_units=(2,2), l2_reg_linear=.1,\n",
    "            l2_reg_embedding=i, l2_reg_dnn=0,  seed=1024, task='binary')\n",
    "\n",
    "    model.compile(\"adam\", \"mse\", metrics=['mse'])\n",
    "\n",
    "    history = model.fit(train_model_input, train[target].values,\n",
    "                            batch_size=256, epochs=10, verbose=2, validation_split=0.2, )\n",
    "    \n",
    "    #model prediction\n",
    "    pred_result = model.predict(test_model_input, batch_size=256)\n",
    "    \n",
    "    # #model evaluation RMSE, MAE,MSE\n",
    "    auc = roc_auc_score(test[target].values, pred_result)\n",
    "    l2_reg_embedding_dict[i]={\"RMSE\": np.round(math.sqrt(mean_squared_error(test[target].values, pred_result)),3),\n",
    "      \"MAE\" : np.round(mean_absolute_error(test[target].values, pred_result),3),\n",
    "      \"MSE\" : np.round(mean_squared_error(test[target].values, pred_result),3),\n",
    "      \"AUC\" : np.round(auc,3)}\n",
    "result['l2_reg_embedding']=l2_reg_embedding_dict"
   ]
  },
  {
   "cell_type": "code",
   "execution_count": 184,
   "id": "julian-radius",
   "metadata": {},
   "outputs": [
    {
     "data": {
      "text/plain": [
       "{1e-07: {'RMSE': 0.281, 'MAE': 0.135, 'MSE': 0.079, 'AUC': 0.749},\n",
       " 1e-05: {'RMSE': 0.277, 'MAE': 0.13, 'MSE': 0.077, 'AUC': 0.757},\n",
       " 0.001: {'RMSE': 0.264, 'MAE': 0.136, 'MSE': 0.07, 'AUC': 0.778},\n",
       " 0.1: {'RMSE': 0.27, 'MAE': 0.162, 'MSE': 0.073, 'AUC': 0.725},\n",
       " 1: {'RMSE': 0.272, 'MAE': 0.157, 'MSE': 0.074, 'AUC': 0.71}}"
      ]
     },
     "execution_count": 184,
     "metadata": {},
     "output_type": "execute_result"
    }
   ],
   "source": [
    "l2_reg_embedding_dict"
   ]
  },
  {
   "cell_type": "code",
   "execution_count": 185,
   "id": "martial-population",
   "metadata": {},
   "outputs": [
    {
     "data": {
      "text/plain": [
       "{'RMSE': 0.264, 'MAE': 0.136, 'MSE': 0.07, 'AUC': 0.778}"
      ]
     },
     "execution_count": 185,
     "metadata": {},
     "output_type": "execute_result"
    }
   ],
   "source": [
    "l2_reg_embedding_dict[.001]"
   ]
  },
  {
   "cell_type": "markdown",
   "id": "scenic-implementation",
   "metadata": {},
   "source": [
    "### l2_reg_dnn – float. L2 regularizer strength applied to DNN"
   ]
  },
  {
   "cell_type": "code",
   "execution_count": 186,
   "id": "agreed-teddy",
   "metadata": {},
   "outputs": [
    {
     "name": "stdout",
     "output_type": "stream",
     "text": [
      "Epoch 1/10\n"
     ]
    },
    {
     "name": "stderr",
     "output_type": "stream",
     "text": [
      "C:\\Users\\User\\anaconda3\\envs\\tensorflow_env\\lib\\site-packages\\tensorflow\\python\\framework\\indexed_slices.py:431: UserWarning: Converting sparse IndexedSlices to a dense Tensor of unknown shape. This may consume a large amount of memory.\n",
      "  warnings.warn(\n"
     ]
    },
    {
     "name": "stdout",
     "output_type": "stream",
     "text": [
      "375/375 - 3s - loss: 0.1084 - mse: 0.0942 - val_loss: 0.0810 - val_mse: 0.0761\n",
      "Epoch 2/10\n",
      "375/375 - 2s - loss: 0.0769 - mse: 0.0741 - val_loss: 0.0752 - val_mse: 0.0726\n",
      "Epoch 3/10\n",
      "375/375 - 2s - loss: 0.0750 - mse: 0.0722 - val_loss: 0.0743 - val_mse: 0.0714\n",
      "Epoch 4/10\n",
      "375/375 - 2s - loss: 0.0744 - mse: 0.0711 - val_loss: 0.0741 - val_mse: 0.0705\n",
      "Epoch 5/10\n",
      "375/375 - 2s - loss: 0.0740 - mse: 0.0704 - val_loss: 0.0739 - val_mse: 0.0702\n",
      "Epoch 6/10\n",
      "375/375 - 2s - loss: 0.0737 - mse: 0.0700 - val_loss: 0.0735 - val_mse: 0.0701\n",
      "Epoch 7/10\n",
      "375/375 - 2s - loss: 0.0734 - mse: 0.0696 - val_loss: 0.0735 - val_mse: 0.0700\n",
      "Epoch 8/10\n",
      "375/375 - 2s - loss: 0.0731 - mse: 0.0694 - val_loss: 0.0734 - val_mse: 0.0700\n",
      "Epoch 9/10\n",
      "375/375 - 2s - loss: 0.0730 - mse: 0.0692 - val_loss: 0.0732 - val_mse: 0.0697\n",
      "Epoch 10/10\n",
      "375/375 - 2s - loss: 0.0727 - mse: 0.0689 - val_loss: 0.0732 - val_mse: 0.0697\n",
      "Epoch 1/10\n"
     ]
    },
    {
     "name": "stderr",
     "output_type": "stream",
     "text": [
      "C:\\Users\\User\\anaconda3\\envs\\tensorflow_env\\lib\\site-packages\\tensorflow\\python\\framework\\indexed_slices.py:431: UserWarning: Converting sparse IndexedSlices to a dense Tensor of unknown shape. This may consume a large amount of memory.\n",
      "  warnings.warn(\n"
     ]
    },
    {
     "name": "stdout",
     "output_type": "stream",
     "text": [
      "375/375 - 3s - loss: 0.5142 - mse: 0.1012 - val_loss: 0.2536 - val_mse: 0.0856\n",
      "Epoch 2/10\n",
      "375/375 - 2s - loss: 0.1933 - mse: 0.0818 - val_loss: 0.1472 - val_mse: 0.0787\n",
      "Epoch 3/10\n",
      "375/375 - 2s - loss: 0.1209 - mse: 0.0774 - val_loss: 0.1008 - val_mse: 0.0764\n",
      "Epoch 4/10\n",
      "375/375 - 2s - loss: 0.0908 - mse: 0.0763 - val_loss: 0.0832 - val_mse: 0.0760\n",
      "Epoch 5/10\n",
      "375/375 - 2s - loss: 0.0801 - mse: 0.0762 - val_loss: 0.0777 - val_mse: 0.0760\n",
      "Epoch 6/10\n",
      "375/375 - 2s - loss: 0.0771 - mse: 0.0762 - val_loss: 0.0764 - val_mse: 0.0760\n",
      "Epoch 7/10\n",
      "375/375 - 2s - loss: 0.0764 - mse: 0.0762 - val_loss: 0.0762 - val_mse: 0.0760\n",
      "Epoch 8/10\n",
      "375/375 - 2s - loss: 0.0764 - mse: 0.0762 - val_loss: 0.0761 - val_mse: 0.0760\n",
      "Epoch 9/10\n",
      "375/375 - 2s - loss: 0.0763 - mse: 0.0762 - val_loss: 0.0761 - val_mse: 0.0760\n",
      "Epoch 10/10\n",
      "375/375 - 2s - loss: 0.0763 - mse: 0.0762 - val_loss: 0.0761 - val_mse: 0.0760\n",
      "Epoch 1/10\n"
     ]
    },
    {
     "name": "stderr",
     "output_type": "stream",
     "text": [
      "C:\\Users\\User\\anaconda3\\envs\\tensorflow_env\\lib\\site-packages\\tensorflow\\python\\framework\\indexed_slices.py:431: UserWarning: Converting sparse IndexedSlices to a dense Tensor of unknown shape. This may consume a large amount of memory.\n",
      "  warnings.warn(\n"
     ]
    },
    {
     "name": "stdout",
     "output_type": "stream",
     "text": [
      "375/375 - 3s - loss: 5.7041 - mse: 0.0973 - val_loss: 2.7291 - val_mse: 0.0832\n",
      "Epoch 2/10\n",
      "375/375 - 2s - loss: 1.8549 - mse: 0.0805 - val_loss: 1.1910 - val_mse: 0.0782\n",
      "Epoch 3/10\n",
      "375/375 - 3s - loss: 0.7969 - mse: 0.0773 - val_loss: 0.4944 - val_mse: 0.0764\n",
      "Epoch 4/10\n",
      "375/375 - 2s - loss: 0.3289 - mse: 0.0764 - val_loss: 0.2082 - val_mse: 0.0761\n",
      "Epoch 5/10\n",
      "375/375 - 3s - loss: 0.1498 - mse: 0.0762 - val_loss: 0.1097 - val_mse: 0.0760\n",
      "Epoch 6/10\n",
      "375/375 - 2s - loss: 0.0932 - mse: 0.0762 - val_loss: 0.0825 - val_mse: 0.0760\n",
      "Epoch 7/10\n",
      "375/375 - 2s - loss: 0.0792 - mse: 0.0762 - val_loss: 0.0770 - val_mse: 0.0760\n",
      "Epoch 8/10\n",
      "375/375 - 3s - loss: 0.0767 - mse: 0.0762 - val_loss: 0.0762 - val_mse: 0.0760\n",
      "Epoch 9/10\n",
      "375/375 - 2s - loss: 0.0764 - mse: 0.0762 - val_loss: 0.0761 - val_mse: 0.0760\n",
      "Epoch 10/10\n",
      "375/375 - 2s - loss: 0.0764 - mse: 0.0762 - val_loss: 0.0761 - val_mse: 0.0760\n",
      "Epoch 1/10\n"
     ]
    },
    {
     "name": "stderr",
     "output_type": "stream",
     "text": [
      "C:\\Users\\User\\anaconda3\\envs\\tensorflow_env\\lib\\site-packages\\tensorflow\\python\\framework\\indexed_slices.py:431: UserWarning: Converting sparse IndexedSlices to a dense Tensor of unknown shape. This may consume a large amount of memory.\n",
      "  warnings.warn(\n"
     ]
    },
    {
     "name": "stdout",
     "output_type": "stream",
     "text": [
      "375/375 - 3s - loss: 5.1831 - mse: 0.0992 - val_loss: 1.4805 - val_mse: 0.0843\n",
      "Epoch 2/10\n",
      "375/375 - 2s - loss: 0.8767 - mse: 0.0814 - val_loss: 0.4736 - val_mse: 0.0786\n",
      "Epoch 3/10\n",
      "375/375 - 2s - loss: 0.2865 - mse: 0.0774 - val_loss: 0.1620 - val_mse: 0.0764\n",
      "Epoch 4/10\n",
      "375/375 - 2s - loss: 0.1154 - mse: 0.0764 - val_loss: 0.0881 - val_mse: 0.0760\n",
      "Epoch 5/10\n",
      "375/375 - 4s - loss: 0.0810 - mse: 0.0762 - val_loss: 0.0771 - val_mse: 0.0760\n",
      "Epoch 6/10\n",
      "375/375 - 2s - loss: 0.0766 - mse: 0.0762 - val_loss: 0.0762 - val_mse: 0.0760\n",
      "Epoch 7/10\n",
      "375/375 - 2s - loss: 0.0764 - mse: 0.0762 - val_loss: 0.0761 - val_mse: 0.0760\n",
      "Epoch 8/10\n",
      "375/375 - 2s - loss: 0.0763 - mse: 0.0762 - val_loss: 0.0761 - val_mse: 0.0760\n",
      "Epoch 9/10\n",
      "375/375 - 2s - loss: 0.0763 - mse: 0.0762 - val_loss: 0.0761 - val_mse: 0.0760\n",
      "Epoch 10/10\n",
      "375/375 - 3s - loss: 0.0764 - mse: 0.0762 - val_loss: 0.0762 - val_mse: 0.0760\n"
     ]
    }
   ],
   "source": [
    "l2_reg_dnn_dict={}\n",
    "for i in param_grid['l2_reg_dnn']:\n",
    "    model = WDL(linear_feature_columns, dnn_feature_columns, dnn_hidden_units=(2,2), l2_reg_linear=.1,\n",
    "            l2_reg_embedding=.001, l2_reg_dnn=i,  seed=1024,task='binary')\n",
    "\n",
    "    model.compile(\"adam\", \"mse\", metrics=['mse'])\n",
    "\n",
    "    history = model.fit(train_model_input, train[target].values,\n",
    "                            batch_size=256, epochs=10, verbose=2, validation_split=0.2, )\n",
    "    \n",
    "    #model prediction\n",
    "    pred_result = model.predict(test_model_input, batch_size=256)\n",
    "    \n",
    "     #model evaluation RMSE, MAE,MSE\n",
    "    auc = roc_auc_score(test[target].values, pred_result)\n",
    "    \n",
    "    l2_reg_dnn_dict[i]={\"RMSE\": np.round(math.sqrt(mean_squared_error(test[target].values, pred_result)),3),\n",
    "      \"MAE\" : np.round(mean_absolute_error(test[target].values, pred_result),3),\n",
    "      \"MSE\" : np.round(mean_squared_error(test[target].values, pred_result),3),\n",
    "      \"AUC\" : np.round(auc,3)}\n",
    "result['l2_reg_dnn']=l2_reg_dnn_dict"
   ]
  },
  {
   "cell_type": "code",
   "execution_count": 187,
   "id": "christian-artist",
   "metadata": {},
   "outputs": [
    {
     "data": {
      "text/plain": [
       "{0: {'RMSE': 0.264, 'MAE': 0.143, 'MSE': 0.07, 'AUC': 0.778},\n",
       " 0.2: {'RMSE': 0.276, 'MAE': 0.155, 'MSE': 0.076, 'AUC': 0.677},\n",
       " 2: {'RMSE': 0.276, 'MAE': 0.152, 'MSE': 0.076, 'AUC': 0.672},\n",
       " 4: {'RMSE': 0.276, 'MAE': 0.155, 'MSE': 0.076, 'AUC': 0.659}}"
      ]
     },
     "execution_count": 187,
     "metadata": {},
     "output_type": "execute_result"
    }
   ],
   "source": [
    "l2_reg_dnn_dict"
   ]
  },
  {
   "cell_type": "code",
   "execution_count": 188,
   "id": "wooden-honey",
   "metadata": {},
   "outputs": [
    {
     "data": {
      "text/plain": [
       "{'RMSE': 0.264, 'MAE': 0.143, 'MSE': 0.07, 'AUC': 0.778}"
      ]
     },
     "execution_count": 188,
     "metadata": {},
     "output_type": "execute_result"
    }
   ],
   "source": [
    "l2_reg_dnn_dict[0]"
   ]
  },
  {
   "cell_type": "markdown",
   "id": "suitable-discovery",
   "metadata": {},
   "source": [
    "### dnn_dropout – float in [0,1), the probability we will drop out a given DNN coordinate."
   ]
  },
  {
   "cell_type": "code",
   "execution_count": 189,
   "id": "dimensional-sight",
   "metadata": {},
   "outputs": [
    {
     "name": "stdout",
     "output_type": "stream",
     "text": [
      "Epoch 1/10\n"
     ]
    },
    {
     "name": "stderr",
     "output_type": "stream",
     "text": [
      "C:\\Users\\User\\anaconda3\\envs\\tensorflow_env\\lib\\site-packages\\tensorflow\\python\\framework\\indexed_slices.py:431: UserWarning: Converting sparse IndexedSlices to a dense Tensor of unknown shape. This may consume a large amount of memory.\n",
      "  warnings.warn(\n"
     ]
    },
    {
     "name": "stdout",
     "output_type": "stream",
     "text": [
      "375/375 - 4s - loss: 0.0983 - mse: 0.0888 - val_loss: 0.0779 - val_mse: 0.0752\n",
      "Epoch 2/10\n",
      "375/375 - 2s - loss: 0.0763 - mse: 0.0740 - val_loss: 0.0748 - val_mse: 0.0727\n",
      "Epoch 3/10\n",
      "375/375 - 2s - loss: 0.0748 - mse: 0.0724 - val_loss: 0.0742 - val_mse: 0.0715\n",
      "Epoch 4/10\n",
      "375/375 - 2s - loss: 0.0744 - mse: 0.0712 - val_loss: 0.0739 - val_mse: 0.0707\n",
      "Epoch 5/10\n",
      "375/375 - 2s - loss: 0.0740 - mse: 0.0705 - val_loss: 0.0743 - val_mse: 0.0706\n",
      "Epoch 6/10\n",
      "375/375 - 2s - loss: 0.0736 - mse: 0.0700 - val_loss: 0.0735 - val_mse: 0.0699\n",
      "Epoch 7/10\n",
      "375/375 - 2s - loss: 0.0732 - mse: 0.0695 - val_loss: 0.0736 - val_mse: 0.0701\n",
      "Epoch 8/10\n",
      "375/375 - 2s - loss: 0.0730 - mse: 0.0693 - val_loss: 0.0734 - val_mse: 0.0697\n",
      "Epoch 9/10\n",
      "375/375 - 2s - loss: 0.0728 - mse: 0.0691 - val_loss: 0.0733 - val_mse: 0.0698\n",
      "Epoch 10/10\n",
      "375/375 - 2s - loss: 0.0725 - mse: 0.0689 - val_loss: 0.0732 - val_mse: 0.0699\n",
      "Epoch 1/10\n"
     ]
    },
    {
     "name": "stderr",
     "output_type": "stream",
     "text": [
      "C:\\Users\\User\\anaconda3\\envs\\tensorflow_env\\lib\\site-packages\\tensorflow\\python\\framework\\indexed_slices.py:431: UserWarning: Converting sparse IndexedSlices to a dense Tensor of unknown shape. This may consume a large amount of memory.\n",
      "  warnings.warn(\n"
     ]
    },
    {
     "name": "stdout",
     "output_type": "stream",
     "text": [
      "375/375 - 3s - loss: 0.0997 - mse: 0.0905 - val_loss: 0.0783 - val_mse: 0.0750\n",
      "Epoch 2/10\n",
      "375/375 - 2s - loss: 0.0816 - mse: 0.0786 - val_loss: 0.0754 - val_mse: 0.0725\n",
      "Epoch 3/10\n",
      "375/375 - 2s - loss: 0.0791 - mse: 0.0761 - val_loss: 0.0745 - val_mse: 0.0713\n",
      "Epoch 4/10\n",
      "375/375 - 2s - loss: 0.0777 - mse: 0.0743 - val_loss: 0.0740 - val_mse: 0.0707\n",
      "Epoch 5/10\n",
      "375/375 - 2s - loss: 0.0768 - mse: 0.0734 - val_loss: 0.0739 - val_mse: 0.0705\n",
      "Epoch 6/10\n",
      "375/375 - 2s - loss: 0.0762 - mse: 0.0728 - val_loss: 0.0737 - val_mse: 0.0704\n",
      "Epoch 7/10\n",
      "375/375 - 2s - loss: 0.0756 - mse: 0.0722 - val_loss: 0.0736 - val_mse: 0.0704\n",
      "Epoch 8/10\n",
      "375/375 - 2s - loss: 0.0753 - mse: 0.0720 - val_loss: 0.0734 - val_mse: 0.0702\n",
      "Epoch 9/10\n",
      "375/375 - 2s - loss: 0.0750 - mse: 0.0717 - val_loss: 0.0740 - val_mse: 0.0706\n",
      "Epoch 10/10\n",
      "375/375 - 2s - loss: 0.0746 - mse: 0.0712 - val_loss: 0.0735 - val_mse: 0.0702\n",
      "Epoch 1/10\n"
     ]
    },
    {
     "name": "stderr",
     "output_type": "stream",
     "text": [
      "C:\\Users\\User\\anaconda3\\envs\\tensorflow_env\\lib\\site-packages\\tensorflow\\python\\framework\\indexed_slices.py:431: UserWarning: Converting sparse IndexedSlices to a dense Tensor of unknown shape. This may consume a large amount of memory.\n",
      "  warnings.warn(\n"
     ]
    },
    {
     "name": "stdout",
     "output_type": "stream",
     "text": [
      "375/375 - 3s - loss: 0.1105 - mse: 0.0969 - val_loss: 0.0830 - val_mse: 0.0759\n",
      "Epoch 2/10\n",
      "375/375 - 2s - loss: 0.0869 - mse: 0.0816 - val_loss: 0.0776 - val_mse: 0.0732\n",
      "Epoch 3/10\n",
      "375/375 - 2s - loss: 0.0822 - mse: 0.0786 - val_loss: 0.0755 - val_mse: 0.0725\n",
      "Epoch 4/10\n",
      "375/375 - 2s - loss: 0.0801 - mse: 0.0772 - val_loss: 0.0747 - val_mse: 0.0718\n",
      "Epoch 5/10\n",
      "375/375 - 2s - loss: 0.0791 - mse: 0.0762 - val_loss: 0.0742 - val_mse: 0.0716\n",
      "Epoch 6/10\n",
      "375/375 - 2s - loss: 0.0782 - mse: 0.0753 - val_loss: 0.0742 - val_mse: 0.0714\n",
      "Epoch 7/10\n",
      "375/375 - 2s - loss: 0.0772 - mse: 0.0744 - val_loss: 0.0742 - val_mse: 0.0711\n",
      "Epoch 8/10\n",
      "375/375 - 2s - loss: 0.0766 - mse: 0.0737 - val_loss: 0.0737 - val_mse: 0.0710\n",
      "Epoch 9/10\n",
      "375/375 - 2s - loss: 0.0764 - mse: 0.0734 - val_loss: 0.0738 - val_mse: 0.0710\n",
      "Epoch 10/10\n",
      "375/375 - 2s - loss: 0.0759 - mse: 0.0729 - val_loss: 0.0737 - val_mse: 0.0708\n",
      "Epoch 1/10\n"
     ]
    },
    {
     "name": "stderr",
     "output_type": "stream",
     "text": [
      "C:\\Users\\User\\anaconda3\\envs\\tensorflow_env\\lib\\site-packages\\tensorflow\\python\\framework\\indexed_slices.py:431: UserWarning: Converting sparse IndexedSlices to a dense Tensor of unknown shape. This may consume a large amount of memory.\n",
      "  warnings.warn(\n"
     ]
    },
    {
     "name": "stdout",
     "output_type": "stream",
     "text": [
      "375/375 - 3s - loss: 0.1184 - mse: 0.1013 - val_loss: 0.0945 - val_mse: 0.0811\n",
      "Epoch 2/10\n",
      "375/375 - 2s - loss: 0.0974 - mse: 0.0860 - val_loss: 0.0870 - val_mse: 0.0776\n",
      "Epoch 3/10\n",
      "375/375 - 2s - loss: 0.0908 - mse: 0.0831 - val_loss: 0.0822 - val_mse: 0.0760\n",
      "Epoch 4/10\n",
      "375/375 - 2s - loss: 0.0867 - mse: 0.0816 - val_loss: 0.0792 - val_mse: 0.0752\n",
      "Epoch 5/10\n",
      "375/375 - 2s - loss: 0.0838 - mse: 0.0803 - val_loss: 0.0779 - val_mse: 0.0750\n",
      "Epoch 6/10\n",
      "375/375 - 2s - loss: 0.0816 - mse: 0.0792 - val_loss: 0.0765 - val_mse: 0.0746\n",
      "Epoch 7/10\n",
      "375/375 - 2s - loss: 0.0799 - mse: 0.0782 - val_loss: 0.0757 - val_mse: 0.0742\n",
      "Epoch 8/10\n",
      "375/375 - 2s - loss: 0.0787 - mse: 0.0773 - val_loss: 0.0753 - val_mse: 0.0742\n",
      "Epoch 9/10\n",
      "375/375 - 2s - loss: 0.0779 - mse: 0.0767 - val_loss: 0.0753 - val_mse: 0.0743\n",
      "Epoch 10/10\n",
      "375/375 - 2s - loss: 0.0772 - mse: 0.0762 - val_loss: 0.0748 - val_mse: 0.0738\n",
      "Epoch 1/10\n"
     ]
    },
    {
     "name": "stderr",
     "output_type": "stream",
     "text": [
      "C:\\Users\\User\\anaconda3\\envs\\tensorflow_env\\lib\\site-packages\\tensorflow\\python\\framework\\indexed_slices.py:431: UserWarning: Converting sparse IndexedSlices to a dense Tensor of unknown shape. This may consume a large amount of memory.\n",
      "  warnings.warn(\n"
     ]
    },
    {
     "name": "stdout",
     "output_type": "stream",
     "text": [
      "375/375 - 3s - loss: 0.1111 - mse: 0.0978 - val_loss: 0.0859 - val_mse: 0.0761\n",
      "Epoch 2/10\n",
      "375/375 - 2s - loss: 0.0927 - mse: 0.0841 - val_loss: 0.0807 - val_mse: 0.0732\n",
      "Epoch 3/10\n",
      "375/375 - 2s - loss: 0.0870 - mse: 0.0810 - val_loss: 0.0773 - val_mse: 0.0725\n",
      "Epoch 4/10\n",
      "375/375 - 2s - loss: 0.0841 - mse: 0.0800 - val_loss: 0.0760 - val_mse: 0.0726\n",
      "Epoch 5/10\n",
      "375/375 - 2s - loss: 0.0816 - mse: 0.0786 - val_loss: 0.0755 - val_mse: 0.0727\n",
      "Epoch 6/10\n",
      "375/375 - 2s - loss: 0.0803 - mse: 0.0777 - val_loss: 0.0750 - val_mse: 0.0726\n",
      "Epoch 7/10\n",
      "375/375 - 2s - loss: 0.0790 - mse: 0.0768 - val_loss: 0.0745 - val_mse: 0.0723\n",
      "Epoch 8/10\n",
      "375/375 - 2s - loss: 0.0780 - mse: 0.0759 - val_loss: 0.0745 - val_mse: 0.0725\n",
      "Epoch 9/10\n",
      "375/375 - 2s - loss: 0.0773 - mse: 0.0754 - val_loss: 0.0744 - val_mse: 0.0723\n",
      "Epoch 10/10\n",
      "375/375 - 2s - loss: 0.0768 - mse: 0.0749 - val_loss: 0.0744 - val_mse: 0.0725\n",
      "Epoch 1/10\n"
     ]
    },
    {
     "name": "stderr",
     "output_type": "stream",
     "text": [
      "C:\\Users\\User\\anaconda3\\envs\\tensorflow_env\\lib\\site-packages\\tensorflow\\python\\framework\\indexed_slices.py:431: UserWarning: Converting sparse IndexedSlices to a dense Tensor of unknown shape. This may consume a large amount of memory.\n",
      "  warnings.warn(\n"
     ]
    },
    {
     "name": "stdout",
     "output_type": "stream",
     "text": [
      "375/375 - 3s - loss: 0.1142 - mse: 0.0992 - val_loss: 0.0894 - val_mse: 0.0770\n",
      "Epoch 2/10\n",
      "375/375 - 2s - loss: 0.0951 - mse: 0.0850 - val_loss: 0.0834 - val_mse: 0.0748\n",
      "Epoch 3/10\n",
      "375/375 - 2s - loss: 0.0893 - mse: 0.0825 - val_loss: 0.0793 - val_mse: 0.0737\n",
      "Epoch 4/10\n",
      "375/375 - 2s - loss: 0.0856 - mse: 0.0811 - val_loss: 0.0775 - val_mse: 0.0739\n",
      "Epoch 5/10\n",
      "375/375 - 2s - loss: 0.0830 - mse: 0.0799 - val_loss: 0.0763 - val_mse: 0.0736\n",
      "Epoch 6/10\n",
      "375/375 - 2s - loss: 0.0810 - mse: 0.0787 - val_loss: 0.0758 - val_mse: 0.0739\n",
      "Epoch 7/10\n",
      "375/375 - 2s - loss: 0.0795 - mse: 0.0777 - val_loss: 0.0754 - val_mse: 0.0736\n",
      "Epoch 8/10\n",
      "375/375 - 2s - loss: 0.0785 - mse: 0.0769 - val_loss: 0.0749 - val_mse: 0.0733\n",
      "Epoch 9/10\n",
      "375/375 - 2s - loss: 0.0777 - mse: 0.0762 - val_loss: 0.0748 - val_mse: 0.0733\n",
      "Epoch 10/10\n",
      "375/375 - 2s - loss: 0.0771 - mse: 0.0757 - val_loss: 0.0742 - val_mse: 0.0729\n",
      "Epoch 1/10\n"
     ]
    },
    {
     "name": "stderr",
     "output_type": "stream",
     "text": [
      "C:\\Users\\User\\anaconda3\\envs\\tensorflow_env\\lib\\site-packages\\tensorflow\\python\\framework\\indexed_slices.py:431: UserWarning: Converting sparse IndexedSlices to a dense Tensor of unknown shape. This may consume a large amount of memory.\n",
      "  warnings.warn(\n"
     ]
    },
    {
     "name": "stdout",
     "output_type": "stream",
     "text": [
      "375/375 - 3s - loss: 0.1178 - mse: 0.1012 - val_loss: 0.0940 - val_mse: 0.0797\n",
      "Epoch 2/10\n",
      "375/375 - 2s - loss: 0.0978 - mse: 0.0859 - val_loss: 0.0860 - val_mse: 0.0767\n",
      "Epoch 3/10\n",
      "375/375 - 2s - loss: 0.0916 - mse: 0.0837 - val_loss: 0.0817 - val_mse: 0.0754\n",
      "Epoch 4/10\n",
      "375/375 - 2s - loss: 0.0877 - mse: 0.0823 - val_loss: 0.0792 - val_mse: 0.0750\n",
      "Epoch 5/10\n",
      "375/375 - 2s - loss: 0.0845 - mse: 0.0808 - val_loss: 0.0778 - val_mse: 0.0746\n",
      "Epoch 6/10\n",
      "375/375 - 2s - loss: 0.0820 - mse: 0.0795 - val_loss: 0.0767 - val_mse: 0.0746\n",
      "Epoch 7/10\n",
      "375/375 - 2s - loss: 0.0800 - mse: 0.0783 - val_loss: 0.0757 - val_mse: 0.0743\n",
      "Epoch 8/10\n",
      "375/375 - 2s - loss: 0.0787 - mse: 0.0775 - val_loss: 0.0751 - val_mse: 0.0740\n",
      "Epoch 9/10\n",
      "375/375 - 2s - loss: 0.0778 - mse: 0.0767 - val_loss: 0.0750 - val_mse: 0.0741\n",
      "Epoch 10/10\n",
      "375/375 - 2s - loss: 0.0772 - mse: 0.0763 - val_loss: 0.0750 - val_mse: 0.0742\n",
      "Epoch 1/10\n"
     ]
    },
    {
     "name": "stderr",
     "output_type": "stream",
     "text": [
      "C:\\Users\\User\\anaconda3\\envs\\tensorflow_env\\lib\\site-packages\\tensorflow\\python\\framework\\indexed_slices.py:431: UserWarning: Converting sparse IndexedSlices to a dense Tensor of unknown shape. This may consume a large amount of memory.\n",
      "  warnings.warn(\n"
     ]
    },
    {
     "name": "stdout",
     "output_type": "stream",
     "text": [
      "375/375 - 3s - loss: 0.1265 - mse: 0.1053 - val_loss: 0.1101 - val_mse: 0.0897\n",
      "Epoch 2/10\n",
      "375/375 - 2s - loss: 0.1044 - mse: 0.0878 - val_loss: 0.0945 - val_mse: 0.0813\n",
      "Epoch 3/10\n",
      "375/375 - 2s - loss: 0.0967 - mse: 0.0856 - val_loss: 0.0898 - val_mse: 0.0804\n",
      "Epoch 4/10\n",
      "375/375 - 2s - loss: 0.0915 - mse: 0.0837 - val_loss: 0.0857 - val_mse: 0.0792\n",
      "Epoch 5/10\n",
      "375/375 - 2s - loss: 0.0872 - mse: 0.0818 - val_loss: 0.0827 - val_mse: 0.0783\n",
      "Epoch 6/10\n",
      "375/375 - 2s - loss: 0.0839 - mse: 0.0803 - val_loss: 0.0804 - val_mse: 0.0776\n",
      "Epoch 7/10\n",
      "375/375 - 3s - loss: 0.0814 - mse: 0.0791 - val_loss: 0.0789 - val_mse: 0.0771\n",
      "Epoch 8/10\n",
      "375/375 - 3s - loss: 0.0797 - mse: 0.0782 - val_loss: 0.0778 - val_mse: 0.0767\n",
      "Epoch 9/10\n",
      "375/375 - 3s - loss: 0.0784 - mse: 0.0774 - val_loss: 0.0768 - val_mse: 0.0760\n",
      "Epoch 10/10\n",
      "375/375 - 2s - loss: 0.0776 - mse: 0.0770 - val_loss: 0.0763 - val_mse: 0.0759\n",
      "Epoch 1/10\n"
     ]
    },
    {
     "name": "stderr",
     "output_type": "stream",
     "text": [
      "C:\\Users\\User\\anaconda3\\envs\\tensorflow_env\\lib\\site-packages\\tensorflow\\python\\framework\\indexed_slices.py:431: UserWarning: Converting sparse IndexedSlices to a dense Tensor of unknown shape. This may consume a large amount of memory.\n",
      "  warnings.warn(\n"
     ]
    },
    {
     "name": "stdout",
     "output_type": "stream",
     "text": [
      "375/375 - 3s - loss: 0.1246 - mse: 0.1044 - val_loss: 0.1062 - val_mse: 0.0877\n",
      "Epoch 2/10\n",
      "375/375 - 2s - loss: 0.1044 - mse: 0.0881 - val_loss: 0.0979 - val_mse: 0.0840\n",
      "Epoch 3/10\n",
      "375/375 - 2s - loss: 0.0977 - mse: 0.0858 - val_loss: 0.0918 - val_mse: 0.0816\n",
      "Epoch 4/10\n",
      "375/375 - 2s - loss: 0.0921 - mse: 0.0837 - val_loss: 0.0873 - val_mse: 0.0805\n",
      "Epoch 5/10\n",
      "375/375 - 2s - loss: 0.0874 - mse: 0.0818 - val_loss: 0.0838 - val_mse: 0.0792\n",
      "Epoch 6/10\n",
      "375/375 - 2s - loss: 0.0841 - mse: 0.0803 - val_loss: 0.0813 - val_mse: 0.0784\n",
      "Epoch 7/10\n",
      "375/375 - 2s - loss: 0.0815 - mse: 0.0791 - val_loss: 0.0794 - val_mse: 0.0777\n",
      "Epoch 8/10\n",
      "375/375 - 2s - loss: 0.0796 - mse: 0.0781 - val_loss: 0.0781 - val_mse: 0.0769\n",
      "Epoch 9/10\n",
      "375/375 - 2s - loss: 0.0784 - mse: 0.0775 - val_loss: 0.0773 - val_mse: 0.0766\n",
      "Epoch 10/10\n",
      "375/375 - 2s - loss: 0.0776 - mse: 0.0770 - val_loss: 0.0767 - val_mse: 0.0762\n",
      "Epoch 1/10\n"
     ]
    },
    {
     "name": "stderr",
     "output_type": "stream",
     "text": [
      "C:\\Users\\User\\anaconda3\\envs\\tensorflow_env\\lib\\site-packages\\tensorflow\\python\\framework\\indexed_slices.py:431: UserWarning: Converting sparse IndexedSlices to a dense Tensor of unknown shape. This may consume a large amount of memory.\n",
      "  warnings.warn(\n"
     ]
    },
    {
     "name": "stdout",
     "output_type": "stream",
     "text": [
      "375/375 - 3s - loss: 0.1246 - mse: 0.1043 - val_loss: 0.1048 - val_mse: 0.0866\n",
      "Epoch 2/10\n",
      "375/375 - 2s - loss: 0.1043 - mse: 0.0882 - val_loss: 0.0975 - val_mse: 0.0836\n",
      "Epoch 3/10\n",
      "375/375 - 2s - loss: 0.0979 - mse: 0.0859 - val_loss: 0.0919 - val_mse: 0.0817\n",
      "Epoch 4/10\n",
      "375/375 - 2s - loss: 0.0922 - mse: 0.0838 - val_loss: 0.0875 - val_mse: 0.0808\n",
      "Epoch 5/10\n",
      "375/375 - 2s - loss: 0.0876 - mse: 0.0819 - val_loss: 0.0842 - val_mse: 0.0797\n",
      "Epoch 6/10\n",
      "375/375 - 2s - loss: 0.0841 - mse: 0.0804 - val_loss: 0.0815 - val_mse: 0.0786\n",
      "Epoch 7/10\n",
      "375/375 - 2s - loss: 0.0815 - mse: 0.0791 - val_loss: 0.0795 - val_mse: 0.0777\n",
      "Epoch 8/10\n",
      "375/375 - 2s - loss: 0.0797 - mse: 0.0782 - val_loss: 0.0783 - val_mse: 0.0773\n",
      "Epoch 9/10\n",
      "375/375 - 2s - loss: 0.0784 - mse: 0.0775 - val_loss: 0.0775 - val_mse: 0.0767\n",
      "Epoch 10/10\n",
      "375/375 - 2s - loss: 0.0776 - mse: 0.0770 - val_loss: 0.0769 - val_mse: 0.0765\n"
     ]
    }
   ],
   "source": [
    "dnn_dropout_dict={}\n",
    "for i in param_grid['dnn_dropout']:\n",
    "    model = WDL(linear_feature_columns, dnn_feature_columns, dnn_hidden_units=(2,2), l2_reg_linear=.1,\n",
    "            l2_reg_embedding=.001, l2_reg_dnn=0, seed=1024, dnn_dropout=i, dnn_activation='relu',task='binary')\n",
    "\n",
    "    model.compile(\"adam\", \"mse\", metrics=['mse'])\n",
    "\n",
    "    history = model.fit(train_model_input, train[target].values,\n",
    "                            batch_size=256, epochs=10, verbose=2, validation_split=0.2, )\n",
    "    \n",
    "    #model prediction \n",
    "    pred_result = model.predict(test_model_input, batch_size=256)\n",
    "    \n",
    "    #model evaluation\n",
    "    auc = roc_auc_score(test[target].values, pred_result)\n",
    "    \n",
    "    dnn_dropout_dict[i]={\"RMSE\": np.round(math.sqrt(mean_squared_error(test[target].values, pred_result)),3),\n",
    "      \"MAE\" : np.round(mean_absolute_error(test[target].values, pred_result),3),\n",
    "      \"MSE\" : np.round(mean_squared_error(test[target].values, pred_result),3),\n",
    "      \"AUC\" : np.round(auc,3)}\n",
    "result['dnn_dropout']=dnn_dropout_dict"
   ]
  },
  {
   "cell_type": "code",
   "execution_count": 190,
   "id": "loaded-flood",
   "metadata": {},
   "outputs": [
    {
     "data": {
      "text/plain": [
       "{0.0: {'RMSE': 0.265, 'MAE': 0.144, 'MSE': 0.07, 'AUC': 0.777},\n",
       " 0.1: {'RMSE': 0.266, 'MAE': 0.136, 'MSE': 0.071, 'AUC': 0.776},\n",
       " 0.2: {'RMSE': 0.267, 'MAE': 0.134, 'MSE': 0.072, 'AUC': 0.763},\n",
       " 0.30000000000000004: {'RMSE': 0.272,\n",
       "  'MAE': 0.153,\n",
       "  'MSE': 0.074,\n",
       "  'AUC': 0.728},\n",
       " 0.4: {'RMSE': 0.27, 'MAE': 0.153, 'MSE': 0.073, 'AUC': 0.747},\n",
       " 0.5: {'RMSE': 0.271, 'MAE': 0.149, 'MSE': 0.073, 'AUC': 0.737},\n",
       " 0.6000000000000001: {'RMSE': 0.273, 'MAE': 0.161, 'MSE': 0.075, 'AUC': 0.709},\n",
       " 0.7000000000000001: {'RMSE': 0.276, 'MAE': 0.169, 'MSE': 0.076, 'AUC': 0.692},\n",
       " 0.8: {'RMSE': 0.277, 'MAE': 0.169, 'MSE': 0.077, 'AUC': 0.659},\n",
       " 0.9: {'RMSE': 0.277, 'MAE': 0.171, 'MSE': 0.077, 'AUC': 0.582}}"
      ]
     },
     "execution_count": 190,
     "metadata": {},
     "output_type": "execute_result"
    }
   ],
   "source": [
    "dnn_dropout_dict"
   ]
  },
  {
   "cell_type": "code",
   "execution_count": 191,
   "id": "positive-property",
   "metadata": {},
   "outputs": [
    {
     "data": {
      "text/plain": [
       "{'RMSE': 0.265, 'MAE': 0.144, 'MSE': 0.07, 'AUC': 0.777}"
      ]
     },
     "execution_count": 191,
     "metadata": {},
     "output_type": "execute_result"
    }
   ],
   "source": [
    "dnn_dropout_dict[0]"
   ]
  },
  {
   "cell_type": "markdown",
   "id": "qualified-things",
   "metadata": {},
   "source": [
    "## Model after all Hyper-parameters tuning"
   ]
  },
  {
   "cell_type": "code",
   "execution_count": 192,
   "id": "upper-ticket",
   "metadata": {},
   "outputs": [
    {
     "name": "stdout",
     "output_type": "stream",
     "text": [
      "Epoch 1/10\n"
     ]
    },
    {
     "name": "stderr",
     "output_type": "stream",
     "text": [
      "C:\\Users\\User\\anaconda3\\envs\\tensorflow_env\\lib\\site-packages\\tensorflow\\python\\framework\\indexed_slices.py:431: UserWarning: Converting sparse IndexedSlices to a dense Tensor of unknown shape. This may consume a large amount of memory.\n",
      "  warnings.warn(\n"
     ]
    },
    {
     "name": "stdout",
     "output_type": "stream",
     "text": [
      "375/375 - 3s - loss: 0.0952 - mse: 0.0867 - val_loss: 0.0775 - val_mse: 0.0752\n",
      "Epoch 2/10\n",
      "375/375 - 2s - loss: 0.0762 - mse: 0.0743 - val_loss: 0.0751 - val_mse: 0.0731\n",
      "Epoch 3/10\n",
      "375/375 - 2s - loss: 0.0750 - mse: 0.0729 - val_loss: 0.0744 - val_mse: 0.0722\n",
      "Epoch 4/10\n",
      "375/375 - 2s - loss: 0.0746 - mse: 0.0720 - val_loss: 0.0739 - val_mse: 0.0714\n",
      "Epoch 5/10\n",
      "375/375 - 2s - loss: 0.0742 - mse: 0.0713 - val_loss: 0.0739 - val_mse: 0.0707\n",
      "Epoch 6/10\n",
      "375/375 - 2s - loss: 0.0739 - mse: 0.0706 - val_loss: 0.0739 - val_mse: 0.0706\n",
      "Epoch 7/10\n",
      "375/375 - 2s - loss: 0.0737 - mse: 0.0702 - val_loss: 0.0735 - val_mse: 0.0701\n",
      "Epoch 8/10\n",
      "375/375 - 2s - loss: 0.0733 - mse: 0.0698 - val_loss: 0.0732 - val_mse: 0.0699\n",
      "Epoch 9/10\n",
      "375/375 - 2s - loss: 0.0731 - mse: 0.0696 - val_loss: 0.0733 - val_mse: 0.0699\n",
      "Epoch 10/10\n",
      "375/375 - 2s - loss: 0.0728 - mse: 0.0692 - val_loss: 0.0731 - val_mse: 0.0698\n"
     ]
    }
   ],
   "source": [
    "model = WDL(linear_feature_columns, dnn_feature_columns, dnn_hidden_units=(2,2), l2_reg_linear=.1,\n",
    "        l2_reg_embedding=0.001, l2_reg_dnn=0, dnn_dropout=0, seed=1024, task='binary')\n",
    "\n",
    "model.compile(\"adam\", \"mse\", metrics=['mse'])\n",
    "\n",
    "history = model.fit(train_model_input, train[target].values,\n",
    "                        batch_size=256, epochs=10, verbose=2, validation_split=0.2, )"
   ]
  },
  {
   "cell_type": "code",
   "execution_count": 193,
   "id": "improved-domestic",
   "metadata": {},
   "outputs": [],
   "source": [
    "#model prediction\n",
    "pred_result = model.predict(test_model_input, batch_size=256)\n",
    "auc = roc_auc_score(test[target].values, pred_result)"
   ]
  },
  {
   "cell_type": "code",
   "execution_count": 194,
   "id": "nearby-notification",
   "metadata": {},
   "outputs": [
    {
     "name": "stdout",
     "output_type": "stream",
     "text": [
      "RMSE:\t0.260000\n",
      "MAE:\t0.140000\n",
      "MSE:\t0.070000\n",
      "AUC score:\t0.780000\n"
     ]
    }
   ],
   "source": [
    "print(\"RMSE:\\t%f\" % np.round(math.sqrt(mean_squared_error(test[target].values, pred_result)),2),\"MAE:\\t%f\" % np.round(mean_absolute_error(test[target].values, pred_result),2),\n",
    "      \"MSE:\\t%f\" % np.round(mean_squared_error(test[target].values, pred_result),2),\"AUC score:\\t%f\" % np.round(auc,2), sep='\\n')"
   ]
  },
  {
   "cell_type": "markdown",
   "id": "genetic-glucose",
   "metadata": {},
   "source": [
    "## Recommend Hotel for a user"
   ]
  },
  {
   "cell_type": "code",
   "execution_count": 195,
   "id": "lovely-rating",
   "metadata": {},
   "outputs": [],
   "source": [
    "rows = []\n",
    "hotel = list(df.drop_duplicates(subset='item_id', keep='first').item_id)\n",
    "names = list(df.drop_duplicates(subset='item_id', keep='first').item_id)\n",
    "\n",
    "for i in range(len(hotel)):\n",
    "    rows.append( dict({'name': names[i], 'item_id' : hotel[i], 'user_id' : 1048}))\n",
    "test_data = pd.DataFrame(rows)"
   ]
  },
  {
   "cell_type": "code",
   "execution_count": 198,
   "id": "careful-settle",
   "metadata": {},
   "outputs": [
    {
     "name": "stdout",
     "output_type": "stream",
     "text": [
      "User_id 1048 recommended   hotel cluster:  45\n",
      "User_id 1048 recommended   hotel cluster:  17\n",
      "User_id 1048 recommended   hotel cluster:  40\n",
      "User_id 1048 recommended   hotel cluster:  11\n",
      "User_id 1048 recommended   hotel cluster:  98\n"
     ]
    }
   ],
   "source": [
    "for idx, (score, name) in enumerate(sorted(zip(pred_result, names), reverse=True)):\n",
    "    if idx >= 5:\n",
    "        break\n",
    " \n",
    "    print(\"User_id 1048 recommended \", \" hotel cluster: \", name)"
   ]
  },
  {
   "cell_type": "markdown",
   "id": "legitimate-compatibility",
   "metadata": {},
   "source": [
    "## Resources\n",
    "\n",
    "https://arxiv.org/abs/1606.07792\n",
    "\n",
    "https://github.com/shenweichen/DeepCTR\n",
    "\n",
    "https://deepctr-doc.readthedocs.io/en/v0.3.1/deepctr.models.wdl.html\n",
    "\n",
    "https://github.com/shenweichen/DeepCTR/blob/ce140ffcc1057e8fb57622ae1732c39df32bc11e/docs/source/FAQ.md\n",
    "\n",
    "https://github.com/shenweichen/DeepCTR/blob/db229dc31f0d4c79c0de2ece0bb919b35258d6b2/examples/run_regression_movielens.py\n",
    "\n",
    "https://github.com/shenweichen/DeepCTR/blob/db229dc31f0d4c79c0de2ece0bb919b35258d6b2/examples/run_multivalue_movielens.py\n",
    "\n",
    "https://deepctr-doc.readthedocs.io/en/latest/Examples.html#classification-criteo\n",
    "\n",
    "https://deepctr-doc.readthedocs.io/en/latest/Quick-Start.html"
   ]
  },
  {
   "cell_type": "code",
   "execution_count": null,
   "id": "waiting-sender",
   "metadata": {},
   "outputs": [],
   "source": []
  }
 ],
 "metadata": {
  "kernelspec": {
   "display_name": "Python 3",
   "language": "python",
   "name": "python3"
  },
  "language_info": {
   "codemirror_mode": {
    "name": "ipython",
    "version": 3
   },
   "file_extension": ".py",
   "mimetype": "text/x-python",
   "name": "python",
   "nbconvert_exporter": "python",
   "pygments_lexer": "ipython3",
   "version": "3.8.5"
  }
 },
 "nbformat": 4,
 "nbformat_minor": 5
}
